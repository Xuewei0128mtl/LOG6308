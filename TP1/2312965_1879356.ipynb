{
 "cells": [
  {
   "cell_type": "markdown",
   "metadata": {
    "id": "hMSvFtYsW3j7"
   },
   "source": [
    "## <center> École Polytechnique de Montréal <br> Département Génie Informatique et Génie Logiciel <br>  LOG6308 - Systèmes de recommandations <br> </center>\n",
    "\n",
    "## <center> TP1 -- Approches collaboratives : utilisateur-utilisateur, item-item, et agglomérative </center>"
   ]
  },
  {
   "cell_type": "markdown",
   "metadata": {
    "id": "hX0vC5kGW3kC"
   },
   "source": [
    "Le travail doit être fait en **équipe de deux**.\n",
    "\n",
    "## Identification de l'équipe: B2_eq13\n",
    "\n",
    "### Groupe de laboratoire: B2\n",
    "\n",
    "### Equipe numéro : 13\n",
    "\n",
    "### Membres:\n",
    "\n",
    "Ettahri Mahacine (2312965) <br>\n",
    "Li Xuewei (1879356)\n",
    "\n",
    "<br>\n",
    "\n",
    "**Nature de la contribution:**\n",
    "\n",
    "- Mahacine Ettahri 2312965 (50% de contribution. Nature de la contribution : Elle a réalisé tous les excercice du tp individuellement comme chaque coéquipière. Puis les codes réalisé ont été comparé avec les autres membres pour valider les réponses obtenues. Finalement, une version propre du tp a été réalisée ensemble en combinant le code des deux coéquipières.)\n",
    "- Xuewei Li 1879356 (50% de contribution. Nature de la contribution : Elle a réalisé tous les excercice du tp individuellement comme chaque coéquipière. Puis les codes réalisé ont été comparé avec les autres membres pour valider les réponses obtenues. Finalement, une version propre du tp a été réalisée ensemble en combinant le code des deux coéquipières.)"
   ]
  },
  {
   "cell_type": "markdown",
   "metadata": {
    "id": "NkPmNQ5HW3kD"
   },
   "source": [
    "### Enoncé du TP\n",
    "\n",
    "Ce notebook se trouve sous l'énoncé général du TP au lien [cours.polymtl.ca/MDesmarais/log6308/20251/Tp/tp1.html](https://cours.polymtl.ca/MDesmarais/log6308/20251/Tp/tp1.html).  Les données sont accessibles de ce lien.<br>\n",
    "\n",
    "### Jeux de données\n",
    "\n",
    "Vous avez 3 fichiers à votre disposition:\n",
    "\n",
    "- 'Data/votes.csv': Matrice de données de 100 000 votes faits par 943 utilisateurs et portant sur 1682 items.\n",
    "    - **user.id**: Indentifiant de l'utilisateur\n",
    "    - **item.id**: Identifiant de l'item/film\n",
    "    - **rating**: vote attribué à l'item par l'utilisateur\n",
    "    - **timestamp**: Date d'enregistrement du vote (à ignorer pour ce TP)\n",
    "- 'Data/items.csv': Matrice de données sur les films\n",
    "    - **movie.id**: Identifiant du film\n",
    "    - **movie.title**: Nom du film\n",
    "    - **release.date**: Date de sortie\n",
    "    - **video.release.date**: Date de sortie de la video\n",
    "    - **IMDb.URL**: Lien vers le film\n",
    "    - les 19 autres champs sont les categories des films qui sont les suivantes:\n",
    "        \"unknown\", \"Action\", \"Adventure\", \"Animation\", \"Children's\", \"Comedy\", \"Crime\", \"Documentary\", \"Drama\", \"Fantasy\", \"Film-Noir\", \"Horror\", \"Musical\", \"Mystery\", \"Romance\", \"Sci-Fi\", \"Thriller\", \"War\", \"Western\"\n",
    "- 'Data/u.csv': Matrice de données sur les utilisateurs\n",
    "    - **id**: Identififiant de l'utilisateurs\n",
    "    - **age**: Age de l'utilisateur\n",
    "    - **gender**: Sexe de l'utilisateur\n",
    "    - **job**: Emploi de l'utilisateur\n",
    "    - **zip**: ZIP Code\n",
    "\n",
    "Attention aux espaces et à la casse des differents champs.\n",
    "\n",
    "### Librairies permises\n",
    "\n",
    "- numpy\n",
    "- pandas\n",
    "- seaborn\n",
    "- matplotlib\n",
    "\n",
    "\n",
    "### Rédaction et remise du rapport\n",
    "\n",
    "- Ce notebook constitue à la fois votre code et votre rapport. Il contient un squelette pour guider votre travail.\n",
    "\n",
    "- Complétez directement le notebook, vous êtes libres de créer des nouvelles cellules de code ou de texte.\n",
    "\n",
    "- <u>**IMPORTANT**</u> Remettez le ZIP contenant les données et le notebook sur Moodle avec le nom `MATRICULE1_MATRICULE2.ipynb` pour le notebook et `MATRICULE1_MATRICULE2.zip` pour le zip.\n",
    "\n",
    "\n",
    "### CRITÈRES\n",
    "\n",
    "- La démarche est valide et bien expliquée\n",
    "- Les réponses sont correctes et commentées\n",
    "- L'implémentation est performante et repose sur le calcul linéaire lorsqu'approprié\n",
    "- La présentation est soignée et bien rédigée\n",
    "\n",
    "\n",
    "### CODE D’HONNEUR\n",
    "\n",
    "- __Règle 1__:  Le plagiat de code est bien évidemment interdit. Toute utilisation de code doit être référencée adéquatement. Vous __ne pouvez pas__ soumettre un code écrit par quelqu’un d’autre.\n",
    "\n",
    "- __Règle 2__: Vous êtes libres de discuter des idées et des détails de mise en œuvre avec d'autres équipes. Cependant, vous ne pouvez en aucun cas consulter le code d'une autre équipe ou incorporer leur code dans votre TP.\n",
    "\n",
    "- __Règle 3__:  Vous ne pouvez pas partager votre code publiquement (par exemple, dans un dépôt GitHub public) tant que le cours n'est pas fini."
   ]
  },
  {
   "cell_type": "markdown",
   "metadata": {
    "id": "ApbZ-O9YW3kE"
   },
   "source": [
    "## Question 1"
   ]
  },
  {
   "cell_type": "markdown",
   "metadata": {
    "id": "cQOI5EX8W3kF"
   },
   "source": [
    "### 1. Chargement des assets\n",
    "\n",
    "#### 1.1. Chargement des librairies"
   ]
  },
  {
   "cell_type": "code",
   "execution_count": 41,
   "metadata": {},
   "outputs": [
    {
     "name": "stdout",
     "output_type": "stream",
     "text": [
      "Requirement already satisfied: matplotlib==3.10.0 in c:\\users\\ettah\\anaconda3\\lib\\site-packages (from -r requirements.txt (line 1)) (3.10.0)\n",
      "Requirement already satisfied: numpy==1.26.4 in c:\\users\\ettah\\anaconda3\\lib\\site-packages (from -r requirements.txt (line 2)) (1.26.4)\n",
      "Requirement already satisfied: pandas==2.2.3 in c:\\users\\ettah\\anaconda3\\lib\\site-packages (from -r requirements.txt (line 3)) (2.2.3)\n",
      "Requirement already satisfied: scipy==1.10.1 in c:\\users\\ettah\\anaconda3\\lib\\site-packages (from -r requirements.txt (line 4)) (1.10.1)\n",
      "Requirement already satisfied: contourpy>=1.0.1 in c:\\users\\ettah\\anaconda3\\lib\\site-packages (from matplotlib==3.10.0->-r requirements.txt (line 1)) (1.2.0)\n",
      "Requirement already satisfied: cycler>=0.10 in c:\\users\\ettah\\anaconda3\\lib\\site-packages (from matplotlib==3.10.0->-r requirements.txt (line 1)) (0.11.0)\n",
      "Requirement already satisfied: fonttools>=4.22.0 in c:\\users\\ettah\\anaconda3\\lib\\site-packages (from matplotlib==3.10.0->-r requirements.txt (line 1)) (4.25.0)\n",
      "Requirement already satisfied: kiwisolver>=1.3.1 in c:\\users\\ettah\\anaconda3\\lib\\site-packages (from matplotlib==3.10.0->-r requirements.txt (line 1)) (1.4.4)\n",
      "Requirement already satisfied: packaging>=20.0 in c:\\users\\ettah\\anaconda3\\lib\\site-packages (from matplotlib==3.10.0->-r requirements.txt (line 1)) (23.1)\n",
      "Requirement already satisfied: pillow>=8 in c:\\users\\ettah\\anaconda3\\lib\\site-packages (from matplotlib==3.10.0->-r requirements.txt (line 1)) (10.2.0)\n",
      "Requirement already satisfied: pyparsing>=2.3.1 in c:\\users\\ettah\\anaconda3\\lib\\site-packages (from matplotlib==3.10.0->-r requirements.txt (line 1)) (3.0.9)\n",
      "Requirement already satisfied: python-dateutil>=2.7 in c:\\users\\ettah\\anaconda3\\lib\\site-packages (from matplotlib==3.10.0->-r requirements.txt (line 1)) (2.8.2)\n",
      "Requirement already satisfied: pytz>=2020.1 in c:\\users\\ettah\\anaconda3\\lib\\site-packages (from pandas==2.2.3->-r requirements.txt (line 3)) (2023.3.post1)\n",
      "Requirement already satisfied: tzdata>=2022.7 in c:\\users\\ettah\\anaconda3\\lib\\site-packages (from pandas==2.2.3->-r requirements.txt (line 3)) (2023.3)\n",
      "Requirement already satisfied: six>=1.5 in c:\\users\\ettah\\anaconda3\\lib\\site-packages (from python-dateutil>=2.7->matplotlib==3.10.0->-r requirements.txt (line 1)) (1.16.0)\n",
      "Note: you may need to restart the kernel to use updated packages.\n"
     ]
    }
   ],
   "source": [
    "pip install -r requirements.txt"
   ]
  },
  {
   "cell_type": "code",
   "execution_count": 42,
   "metadata": {
    "id": "ALoSBLzUW3kF"
   },
   "outputs": [],
   "source": [
    "import numpy as np\n",
    "import pandas as pd\n",
    "import seaborn as sns\n",
    "import pandas as pd\n",
    "import matplotlib.pyplot as plt\n",
    "import scipy"
   ]
  },
  {
   "cell_type": "markdown",
   "metadata": {
    "id": "FTMeBZUPW3kH"
   },
   "source": [
    "#### 1.2. Chargement des données\n",
    "\n",
    "Affichez tous les jeux de données"
   ]
  },
  {
   "cell_type": "code",
   "execution_count": 43,
   "metadata": {
    "id": "8k4NPlZFW3kI"
   },
   "outputs": [],
   "source": [
    "# TODO  --------------------------------- Préparation des Données ------------------------\n",
    "# Chargement des votes\n",
    "votes = pd.read_csv('Data/ratings.csv')\n",
    "# items\n",
    "items = pd.read_csv('Data/items.csv')\n",
    "# users\n",
    "user = pd.read_csv('Data/user.csv')\n",
    "# End TODO"
   ]
  },
  {
   "cell_type": "code",
   "execution_count": 44,
   "metadata": {
    "colab": {
     "base_uri": "https://localhost:8080/",
     "height": 206
    },
    "id": "a5784TnvW3kJ",
    "outputId": "216e0f48-d6ff-4504-9962-68034ed711d0"
   },
   "outputs": [
    {
     "data": {
      "text/html": [
       "<div>\n",
       "<style scoped>\n",
       "    .dataframe tbody tr th:only-of-type {\n",
       "        vertical-align: middle;\n",
       "    }\n",
       "\n",
       "    .dataframe tbody tr th {\n",
       "        vertical-align: top;\n",
       "    }\n",
       "\n",
       "    .dataframe thead th {\n",
       "        text-align: right;\n",
       "    }\n",
       "</style>\n",
       "<table border=\"1\" class=\"dataframe\">\n",
       "  <thead>\n",
       "    <tr style=\"text-align: right;\">\n",
       "      <th></th>\n",
       "      <th>user.id</th>\n",
       "      <th>item.id</th>\n",
       "      <th>rating</th>\n",
       "      <th>timestamp</th>\n",
       "    </tr>\n",
       "  </thead>\n",
       "  <tbody>\n",
       "    <tr>\n",
       "      <th>0</th>\n",
       "      <td>196</td>\n",
       "      <td>242</td>\n",
       "      <td>3</td>\n",
       "      <td>881250949</td>\n",
       "    </tr>\n",
       "    <tr>\n",
       "      <th>1</th>\n",
       "      <td>186</td>\n",
       "      <td>302</td>\n",
       "      <td>3</td>\n",
       "      <td>891717742</td>\n",
       "    </tr>\n",
       "    <tr>\n",
       "      <th>2</th>\n",
       "      <td>22</td>\n",
       "      <td>377</td>\n",
       "      <td>1</td>\n",
       "      <td>878887116</td>\n",
       "    </tr>\n",
       "    <tr>\n",
       "      <th>3</th>\n",
       "      <td>244</td>\n",
       "      <td>51</td>\n",
       "      <td>2</td>\n",
       "      <td>880606923</td>\n",
       "    </tr>\n",
       "    <tr>\n",
       "      <th>4</th>\n",
       "      <td>166</td>\n",
       "      <td>346</td>\n",
       "      <td>1</td>\n",
       "      <td>886397596</td>\n",
       "    </tr>\n",
       "  </tbody>\n",
       "</table>\n",
       "</div>"
      ],
      "text/plain": [
       "   user.id  item.id  rating  timestamp\n",
       "0      196      242       3  881250949\n",
       "1      186      302       3  891717742\n",
       "2       22      377       1  878887116\n",
       "3      244       51       2  880606923\n",
       "4      166      346       1  886397596"
      ]
     },
     "execution_count": 44,
     "metadata": {},
     "output_type": "execute_result"
    }
   ],
   "source": [
    "### TODO: Afficher les jeux de donnes\n",
    "votes.head()"
   ]
  },
  {
   "cell_type": "code",
   "execution_count": 45,
   "metadata": {
    "colab": {
     "base_uri": "https://localhost:8080/",
     "height": 394
    },
    "id": "dT8xh2_vW3kK",
    "outputId": "6d648f02-84fa-453f-b0a4-6ee8c795d96b"
   },
   "outputs": [
    {
     "data": {
      "text/html": [
       "<div>\n",
       "<style scoped>\n",
       "    .dataframe tbody tr th:only-of-type {\n",
       "        vertical-align: middle;\n",
       "    }\n",
       "\n",
       "    .dataframe tbody tr th {\n",
       "        vertical-align: top;\n",
       "    }\n",
       "\n",
       "    .dataframe thead th {\n",
       "        text-align: right;\n",
       "    }\n",
       "</style>\n",
       "<table border=\"1\" class=\"dataframe\">\n",
       "  <thead>\n",
       "    <tr style=\"text-align: right;\">\n",
       "      <th></th>\n",
       "      <th>movie.id</th>\n",
       "      <th>movie.title</th>\n",
       "      <th>release.date</th>\n",
       "      <th>video.release.date</th>\n",
       "      <th>IMDb.URL</th>\n",
       "      <th>unknown</th>\n",
       "      <th>Action</th>\n",
       "      <th>Adventure</th>\n",
       "      <th>Animation</th>\n",
       "      <th>Children's</th>\n",
       "      <th>...</th>\n",
       "      <th>Fantasy</th>\n",
       "      <th>Film-Noir</th>\n",
       "      <th>Horror</th>\n",
       "      <th>Musical</th>\n",
       "      <th>Mystery</th>\n",
       "      <th>Romance</th>\n",
       "      <th>Sci-Fi</th>\n",
       "      <th>Thriller</th>\n",
       "      <th>War</th>\n",
       "      <th>Western</th>\n",
       "    </tr>\n",
       "  </thead>\n",
       "  <tbody>\n",
       "    <tr>\n",
       "      <th>0</th>\n",
       "      <td>1</td>\n",
       "      <td>Toy Story (1995)</td>\n",
       "      <td>01-Jan-1995</td>\n",
       "      <td>NaN</td>\n",
       "      <td>http://us.imdb.com/M/title-exact?Toy%20Story%2...</td>\n",
       "      <td>0</td>\n",
       "      <td>0</td>\n",
       "      <td>0</td>\n",
       "      <td>1</td>\n",
       "      <td>1</td>\n",
       "      <td>...</td>\n",
       "      <td>0</td>\n",
       "      <td>0</td>\n",
       "      <td>0</td>\n",
       "      <td>0</td>\n",
       "      <td>0</td>\n",
       "      <td>0</td>\n",
       "      <td>0</td>\n",
       "      <td>0</td>\n",
       "      <td>0</td>\n",
       "      <td>0</td>\n",
       "    </tr>\n",
       "    <tr>\n",
       "      <th>1</th>\n",
       "      <td>2</td>\n",
       "      <td>GoldenEye (1995)</td>\n",
       "      <td>01-Jan-1995</td>\n",
       "      <td>NaN</td>\n",
       "      <td>http://us.imdb.com/M/title-exact?GoldenEye%20(...</td>\n",
       "      <td>0</td>\n",
       "      <td>1</td>\n",
       "      <td>1</td>\n",
       "      <td>0</td>\n",
       "      <td>0</td>\n",
       "      <td>...</td>\n",
       "      <td>0</td>\n",
       "      <td>0</td>\n",
       "      <td>0</td>\n",
       "      <td>0</td>\n",
       "      <td>0</td>\n",
       "      <td>0</td>\n",
       "      <td>0</td>\n",
       "      <td>1</td>\n",
       "      <td>0</td>\n",
       "      <td>0</td>\n",
       "    </tr>\n",
       "    <tr>\n",
       "      <th>2</th>\n",
       "      <td>3</td>\n",
       "      <td>Four Rooms (1995)</td>\n",
       "      <td>01-Jan-1995</td>\n",
       "      <td>NaN</td>\n",
       "      <td>http://us.imdb.com/M/title-exact?Four%20Rooms%...</td>\n",
       "      <td>0</td>\n",
       "      <td>0</td>\n",
       "      <td>0</td>\n",
       "      <td>0</td>\n",
       "      <td>0</td>\n",
       "      <td>...</td>\n",
       "      <td>0</td>\n",
       "      <td>0</td>\n",
       "      <td>0</td>\n",
       "      <td>0</td>\n",
       "      <td>0</td>\n",
       "      <td>0</td>\n",
       "      <td>0</td>\n",
       "      <td>1</td>\n",
       "      <td>0</td>\n",
       "      <td>0</td>\n",
       "    </tr>\n",
       "    <tr>\n",
       "      <th>3</th>\n",
       "      <td>4</td>\n",
       "      <td>Get Shorty (1995)</td>\n",
       "      <td>01-Jan-1995</td>\n",
       "      <td>NaN</td>\n",
       "      <td>http://us.imdb.com/M/title-exact?Get%20Shorty%...</td>\n",
       "      <td>0</td>\n",
       "      <td>1</td>\n",
       "      <td>0</td>\n",
       "      <td>0</td>\n",
       "      <td>0</td>\n",
       "      <td>...</td>\n",
       "      <td>0</td>\n",
       "      <td>0</td>\n",
       "      <td>0</td>\n",
       "      <td>0</td>\n",
       "      <td>0</td>\n",
       "      <td>0</td>\n",
       "      <td>0</td>\n",
       "      <td>0</td>\n",
       "      <td>0</td>\n",
       "      <td>0</td>\n",
       "    </tr>\n",
       "    <tr>\n",
       "      <th>4</th>\n",
       "      <td>5</td>\n",
       "      <td>Copycat (1995)</td>\n",
       "      <td>01-Jan-1995</td>\n",
       "      <td>NaN</td>\n",
       "      <td>http://us.imdb.com/M/title-exact?Copycat%20(1995)</td>\n",
       "      <td>0</td>\n",
       "      <td>0</td>\n",
       "      <td>0</td>\n",
       "      <td>0</td>\n",
       "      <td>0</td>\n",
       "      <td>...</td>\n",
       "      <td>0</td>\n",
       "      <td>0</td>\n",
       "      <td>0</td>\n",
       "      <td>0</td>\n",
       "      <td>0</td>\n",
       "      <td>0</td>\n",
       "      <td>0</td>\n",
       "      <td>1</td>\n",
       "      <td>0</td>\n",
       "      <td>0</td>\n",
       "    </tr>\n",
       "  </tbody>\n",
       "</table>\n",
       "<p>5 rows × 24 columns</p>\n",
       "</div>"
      ],
      "text/plain": [
       "   movie.id        movie.title release.date  video.release.date  \\\n",
       "0         1   Toy Story (1995)  01-Jan-1995                 NaN   \n",
       "1         2   GoldenEye (1995)  01-Jan-1995                 NaN   \n",
       "2         3  Four Rooms (1995)  01-Jan-1995                 NaN   \n",
       "3         4  Get Shorty (1995)  01-Jan-1995                 NaN   \n",
       "4         5     Copycat (1995)  01-Jan-1995                 NaN   \n",
       "\n",
       "                                            IMDb.URL  unknown  Action  \\\n",
       "0  http://us.imdb.com/M/title-exact?Toy%20Story%2...        0       0   \n",
       "1  http://us.imdb.com/M/title-exact?GoldenEye%20(...        0       1   \n",
       "2  http://us.imdb.com/M/title-exact?Four%20Rooms%...        0       0   \n",
       "3  http://us.imdb.com/M/title-exact?Get%20Shorty%...        0       1   \n",
       "4  http://us.imdb.com/M/title-exact?Copycat%20(1995)        0       0   \n",
       "\n",
       "   Adventure  Animation  Children's  ...  Fantasy  Film-Noir  Horror  Musical  \\\n",
       "0          0          1           1  ...        0          0       0        0   \n",
       "1          1          0           0  ...        0          0       0        0   \n",
       "2          0          0           0  ...        0          0       0        0   \n",
       "3          0          0           0  ...        0          0       0        0   \n",
       "4          0          0           0  ...        0          0       0        0   \n",
       "\n",
       "   Mystery  Romance  Sci-Fi  Thriller  War  Western  \n",
       "0        0        0       0         0    0        0  \n",
       "1        0        0       0         1    0        0  \n",
       "2        0        0       0         1    0        0  \n",
       "3        0        0       0         0    0        0  \n",
       "4        0        0       0         1    0        0  \n",
       "\n",
       "[5 rows x 24 columns]"
      ]
     },
     "execution_count": 45,
     "metadata": {},
     "output_type": "execute_result"
    }
   ],
   "source": [
    "items.head()"
   ]
  },
  {
   "cell_type": "code",
   "execution_count": 46,
   "metadata": {
    "colab": {
     "base_uri": "https://localhost:8080/",
     "height": 206
    },
    "id": "zB9W9U-4W3kL",
    "outputId": "be0f24e9-cf76-4a91-e3e7-fa464cc96af7"
   },
   "outputs": [
    {
     "data": {
      "text/html": [
       "<div>\n",
       "<style scoped>\n",
       "    .dataframe tbody tr th:only-of-type {\n",
       "        vertical-align: middle;\n",
       "    }\n",
       "\n",
       "    .dataframe tbody tr th {\n",
       "        vertical-align: top;\n",
       "    }\n",
       "\n",
       "    .dataframe thead th {\n",
       "        text-align: right;\n",
       "    }\n",
       "</style>\n",
       "<table border=\"1\" class=\"dataframe\">\n",
       "  <thead>\n",
       "    <tr style=\"text-align: right;\">\n",
       "      <th></th>\n",
       "      <th>id</th>\n",
       "      <th>age</th>\n",
       "      <th>gender</th>\n",
       "      <th>job</th>\n",
       "      <th>zip</th>\n",
       "    </tr>\n",
       "  </thead>\n",
       "  <tbody>\n",
       "    <tr>\n",
       "      <th>0</th>\n",
       "      <td>1</td>\n",
       "      <td>24</td>\n",
       "      <td>M</td>\n",
       "      <td>technician</td>\n",
       "      <td>85711</td>\n",
       "    </tr>\n",
       "    <tr>\n",
       "      <th>1</th>\n",
       "      <td>2</td>\n",
       "      <td>53</td>\n",
       "      <td>F</td>\n",
       "      <td>other</td>\n",
       "      <td>94043</td>\n",
       "    </tr>\n",
       "    <tr>\n",
       "      <th>2</th>\n",
       "      <td>3</td>\n",
       "      <td>23</td>\n",
       "      <td>M</td>\n",
       "      <td>writer</td>\n",
       "      <td>32067</td>\n",
       "    </tr>\n",
       "    <tr>\n",
       "      <th>3</th>\n",
       "      <td>4</td>\n",
       "      <td>24</td>\n",
       "      <td>M</td>\n",
       "      <td>technician</td>\n",
       "      <td>43537</td>\n",
       "    </tr>\n",
       "    <tr>\n",
       "      <th>4</th>\n",
       "      <td>5</td>\n",
       "      <td>33</td>\n",
       "      <td>F</td>\n",
       "      <td>other</td>\n",
       "      <td>15213</td>\n",
       "    </tr>\n",
       "  </tbody>\n",
       "</table>\n",
       "</div>"
      ],
      "text/plain": [
       "   id  age gender         job    zip\n",
       "0   1   24      M  technician  85711\n",
       "1   2   53      F       other  94043\n",
       "2   3   23      M      writer  32067\n",
       "3   4   24      M  technician  43537\n",
       "4   5   33      F       other  15213"
      ]
     },
     "execution_count": 46,
     "metadata": {},
     "output_type": "execute_result"
    }
   ],
   "source": [
    "user.head()"
   ]
  },
  {
   "cell_type": "markdown",
   "metadata": {
    "id": "LwjT-69zW3kL"
   },
   "source": [
    "### 1.3. Calcul de performances\n",
    "\n",
    "On désire calculer les performances prédictives de quelques approches qui donnent une base de référence: le vote aléatoire, le vote moyen, le vote moyen utilisateur, le vote moyen item et finalement, le vote attendu (moyenne du vote moyen utilisateur et item). Puis rapporter l'erreur quadratique moyenne et l'erreur absolue moyenne (1) sans validation croisée et (2) avec validation croisée de 5 replis. Et enfin, déterminer si la différence entre l'erreur quadratique moyenne obtenue par le vote moyen item et le vote moyen utilisateur est statistiquement significative par un test d'hypothèse et en affichant les résultats visuellement. Pour cela, on procède en plusieurs étapes.\n",
    "\n",
    "\n",
    "#### 1.3.1. Prétrairements\n",
    "L’objectif ici est de créer une matrice utilisateurs-items qui, à chaque utilisateur, associe les votes qu’il a attribués aux films."
   ]
  },
  {
   "cell_type": "code",
   "execution_count": 47,
   "metadata": {
    "colab": {
     "base_uri": "https://localhost:8080/",
     "height": 286
    },
    "id": "f-vZ2rU5W3kM",
    "outputId": "e723906d-1a80-43bd-98aa-72ad0641e527"
   },
   "outputs": [
    {
     "data": {
      "text/html": [
       "<div>\n",
       "<style scoped>\n",
       "    .dataframe tbody tr th:only-of-type {\n",
       "        vertical-align: middle;\n",
       "    }\n",
       "\n",
       "    .dataframe tbody tr th {\n",
       "        vertical-align: top;\n",
       "    }\n",
       "\n",
       "    .dataframe thead th {\n",
       "        text-align: right;\n",
       "    }\n",
       "</style>\n",
       "<table border=\"1\" class=\"dataframe\">\n",
       "  <thead>\n",
       "    <tr style=\"text-align: right;\">\n",
       "      <th>item.id</th>\n",
       "      <th>1</th>\n",
       "      <th>2</th>\n",
       "      <th>3</th>\n",
       "      <th>4</th>\n",
       "      <th>5</th>\n",
       "      <th>6</th>\n",
       "      <th>7</th>\n",
       "      <th>8</th>\n",
       "      <th>9</th>\n",
       "      <th>10</th>\n",
       "      <th>...</th>\n",
       "      <th>1673</th>\n",
       "      <th>1674</th>\n",
       "      <th>1675</th>\n",
       "      <th>1676</th>\n",
       "      <th>1677</th>\n",
       "      <th>1678</th>\n",
       "      <th>1679</th>\n",
       "      <th>1680</th>\n",
       "      <th>1681</th>\n",
       "      <th>1682</th>\n",
       "    </tr>\n",
       "    <tr>\n",
       "      <th>user.id</th>\n",
       "      <th></th>\n",
       "      <th></th>\n",
       "      <th></th>\n",
       "      <th></th>\n",
       "      <th></th>\n",
       "      <th></th>\n",
       "      <th></th>\n",
       "      <th></th>\n",
       "      <th></th>\n",
       "      <th></th>\n",
       "      <th></th>\n",
       "      <th></th>\n",
       "      <th></th>\n",
       "      <th></th>\n",
       "      <th></th>\n",
       "      <th></th>\n",
       "      <th></th>\n",
       "      <th></th>\n",
       "      <th></th>\n",
       "      <th></th>\n",
       "      <th></th>\n",
       "    </tr>\n",
       "  </thead>\n",
       "  <tbody>\n",
       "    <tr>\n",
       "      <th>1</th>\n",
       "      <td>5.0</td>\n",
       "      <td>3.0</td>\n",
       "      <td>4.0</td>\n",
       "      <td>3.0</td>\n",
       "      <td>3.0</td>\n",
       "      <td>5.0</td>\n",
       "      <td>4.0</td>\n",
       "      <td>1.0</td>\n",
       "      <td>5.0</td>\n",
       "      <td>3.0</td>\n",
       "      <td>...</td>\n",
       "      <td>NaN</td>\n",
       "      <td>NaN</td>\n",
       "      <td>NaN</td>\n",
       "      <td>NaN</td>\n",
       "      <td>NaN</td>\n",
       "      <td>NaN</td>\n",
       "      <td>NaN</td>\n",
       "      <td>NaN</td>\n",
       "      <td>NaN</td>\n",
       "      <td>NaN</td>\n",
       "    </tr>\n",
       "    <tr>\n",
       "      <th>2</th>\n",
       "      <td>4.0</td>\n",
       "      <td>NaN</td>\n",
       "      <td>NaN</td>\n",
       "      <td>NaN</td>\n",
       "      <td>NaN</td>\n",
       "      <td>NaN</td>\n",
       "      <td>NaN</td>\n",
       "      <td>NaN</td>\n",
       "      <td>NaN</td>\n",
       "      <td>2.0</td>\n",
       "      <td>...</td>\n",
       "      <td>NaN</td>\n",
       "      <td>NaN</td>\n",
       "      <td>NaN</td>\n",
       "      <td>NaN</td>\n",
       "      <td>NaN</td>\n",
       "      <td>NaN</td>\n",
       "      <td>NaN</td>\n",
       "      <td>NaN</td>\n",
       "      <td>NaN</td>\n",
       "      <td>NaN</td>\n",
       "    </tr>\n",
       "    <tr>\n",
       "      <th>3</th>\n",
       "      <td>NaN</td>\n",
       "      <td>NaN</td>\n",
       "      <td>NaN</td>\n",
       "      <td>NaN</td>\n",
       "      <td>NaN</td>\n",
       "      <td>NaN</td>\n",
       "      <td>NaN</td>\n",
       "      <td>NaN</td>\n",
       "      <td>NaN</td>\n",
       "      <td>NaN</td>\n",
       "      <td>...</td>\n",
       "      <td>NaN</td>\n",
       "      <td>NaN</td>\n",
       "      <td>NaN</td>\n",
       "      <td>NaN</td>\n",
       "      <td>NaN</td>\n",
       "      <td>NaN</td>\n",
       "      <td>NaN</td>\n",
       "      <td>NaN</td>\n",
       "      <td>NaN</td>\n",
       "      <td>NaN</td>\n",
       "    </tr>\n",
       "    <tr>\n",
       "      <th>4</th>\n",
       "      <td>NaN</td>\n",
       "      <td>NaN</td>\n",
       "      <td>NaN</td>\n",
       "      <td>NaN</td>\n",
       "      <td>NaN</td>\n",
       "      <td>NaN</td>\n",
       "      <td>NaN</td>\n",
       "      <td>NaN</td>\n",
       "      <td>NaN</td>\n",
       "      <td>NaN</td>\n",
       "      <td>...</td>\n",
       "      <td>NaN</td>\n",
       "      <td>NaN</td>\n",
       "      <td>NaN</td>\n",
       "      <td>NaN</td>\n",
       "      <td>NaN</td>\n",
       "      <td>NaN</td>\n",
       "      <td>NaN</td>\n",
       "      <td>NaN</td>\n",
       "      <td>NaN</td>\n",
       "      <td>NaN</td>\n",
       "    </tr>\n",
       "    <tr>\n",
       "      <th>5</th>\n",
       "      <td>4.0</td>\n",
       "      <td>3.0</td>\n",
       "      <td>NaN</td>\n",
       "      <td>NaN</td>\n",
       "      <td>NaN</td>\n",
       "      <td>NaN</td>\n",
       "      <td>NaN</td>\n",
       "      <td>NaN</td>\n",
       "      <td>NaN</td>\n",
       "      <td>NaN</td>\n",
       "      <td>...</td>\n",
       "      <td>NaN</td>\n",
       "      <td>NaN</td>\n",
       "      <td>NaN</td>\n",
       "      <td>NaN</td>\n",
       "      <td>NaN</td>\n",
       "      <td>NaN</td>\n",
       "      <td>NaN</td>\n",
       "      <td>NaN</td>\n",
       "      <td>NaN</td>\n",
       "      <td>NaN</td>\n",
       "    </tr>\n",
       "  </tbody>\n",
       "</table>\n",
       "<p>5 rows × 1682 columns</p>\n",
       "</div>"
      ],
      "text/plain": [
       "item.id  1     2     3     4     5     6     7     8     9     10    ...  \\\n",
       "user.id                                                              ...   \n",
       "1         5.0   3.0   4.0   3.0   3.0   5.0   4.0   1.0   5.0   3.0  ...   \n",
       "2         4.0   NaN   NaN   NaN   NaN   NaN   NaN   NaN   NaN   2.0  ...   \n",
       "3         NaN   NaN   NaN   NaN   NaN   NaN   NaN   NaN   NaN   NaN  ...   \n",
       "4         NaN   NaN   NaN   NaN   NaN   NaN   NaN   NaN   NaN   NaN  ...   \n",
       "5         4.0   3.0   NaN   NaN   NaN   NaN   NaN   NaN   NaN   NaN  ...   \n",
       "\n",
       "item.id  1673  1674  1675  1676  1677  1678  1679  1680  1681  1682  \n",
       "user.id                                                              \n",
       "1         NaN   NaN   NaN   NaN   NaN   NaN   NaN   NaN   NaN   NaN  \n",
       "2         NaN   NaN   NaN   NaN   NaN   NaN   NaN   NaN   NaN   NaN  \n",
       "3         NaN   NaN   NaN   NaN   NaN   NaN   NaN   NaN   NaN   NaN  \n",
       "4         NaN   NaN   NaN   NaN   NaN   NaN   NaN   NaN   NaN   NaN  \n",
       "5         NaN   NaN   NaN   NaN   NaN   NaN   NaN   NaN   NaN   NaN  \n",
       "\n",
       "[5 rows x 1682 columns]"
      ]
     },
     "execution_count": 47,
     "metadata": {},
     "output_type": "execute_result"
    }
   ],
   "source": [
    "## Conversion du Pandas Datafram en Matrice Utilisateur Item : MUI\n",
    "MUI = votes.pivot(index=\"user.id\", columns=\"item.id\", values=\"rating\")\n",
    "MUI.head()"
   ]
  },
  {
   "cell_type": "code",
   "execution_count": 48,
   "metadata": {
    "id": "2Qa_gHFmW3kM"
   },
   "outputs": [],
   "source": [
    "## Convertir le DF à une matrice numpy\n",
    "MUI_numpy = MUI.to_numpy()\n",
    "MUI_numpy_flat = MUI_numpy.reshape(-1)"
   ]
  },
  {
   "cell_type": "markdown",
   "metadata": {
    "id": "fqR4ZU2uW3kN"
   },
   "source": [
    "### 1.3.2. Fonctions de calcul d'erreurs\n",
    "\n",
    "Afin de calculer l'erreur quadratique moyenne et l'erreur absolue moyenne vous devez utiliser les fonctions ci-dessous. Completez leurs codes."
   ]
  },
  {
   "cell_type": "code",
   "execution_count": 49,
   "metadata": {
    "id": "ISpX4VrcW3kN"
   },
   "outputs": [],
   "source": [
    "# Définir l'erreur en excluant les éléments NaN et 0\n",
    "def RMSE_mat(y_pred, y_true):\n",
    "    mask = (y_true != 0) & (y_pred != 0)\n",
    "    return np.sqrt(np.nanmean((y_pred[mask] - y_true[mask]) ** 2))"
   ]
  },
  {
   "cell_type": "code",
   "execution_count": 50,
   "metadata": {
    "id": "G9fiyx22W3kO"
   },
   "outputs": [],
   "source": [
    "def MAE_mat(y_pred, y_true):\n",
    "    mask = (y_true != 0) & (y_pred != 0)\n",
    "    return np.nanmean(np.absolute(y_pred[mask] - y_true[mask]))"
   ]
  },
  {
   "cell_type": "markdown",
   "metadata": {
    "id": "rsQ5t-hZW3kP"
   },
   "source": [
    "#### 1.3.3. Calcul des performances sans validation croisée\n",
    "\n",
    "La validation croisée est une technique qui permet d'évaluer les performances d'un modèle/système sur de nouvelles données. Elle permet d'évaluer la capacité d'un modèle à généraliser la comprehension d’un problème. C’est-à-dire, à faire de bonnes prédictions sur des données qu’il n’a pas encore vues. Dans cet exercice, elle nous permet de savoir si l'approche employée permet de prédire correctement les votes attendues. Mais avant d'y arriver, dans cet exercice, afin de bien comprendre l'intérêt de cette technique, il est intéressant de commencer par une approche sans validation croisée (on utilise toutes les données).\n",
    "\n",
    "Le code ci-dessous permet de calculer les prédictions de votes sans validation croisée. Complétez-le et commentez les résultats."
   ]
  },
  {
   "cell_type": "code",
   "execution_count": 51,
   "metadata": {
    "colab": {
     "base_uri": "https://localhost:8080/"
    },
    "id": "vOeL9SPmW3kQ",
    "outputId": "99334c04-35fa-4f7b-d320-776c56d51aad"
   },
   "outputs": [
    {
     "name": "stdout",
     "output_type": "stream",
     "text": [
      "Résultats pour le vote aléatoire sur l'ensemble de données :\n",
      "RMSE:  1.881581781374384\n",
      "MAE:  1.50765 \n",
      "\n",
      "Résultats pour le vote moyen sur l'ensemble de données :\n",
      "RMSE:  1.1256679707622492\n",
      "MAE:  0.9447000499999999 \n",
      "\n",
      "Résultats pour le vote moyen utilisateur sur l'ensemble de données :\n",
      "RMSE:  1.0308117943828063\n",
      "MAE:  0.8262264099536629 \n",
      "\n",
      "Résultats pour le vote moyen item sur l'ensemble de données :\n",
      "RMSE:  1.0000700195275787\n",
      "MAE:  0.7989582428029238 \n",
      "\n",
      "Résultats pour le vote moyen attendu sur l'ensemble de données :\n",
      "RMSE:  0.9668089878000198\n",
      "MAE:  0.7825830601768504 \n",
      "\n"
     ]
    }
   ],
   "source": [
    "# TODO\n",
    "## Vote aleatoire\n",
    "np.random.seed(42)\n",
    "votes_alea_pred_all = np.random.randint(1, 6, size=MUI_numpy.shape)\n",
    "\n",
    "## Vote moyen\n",
    "votes_moyenne_pred_all = np.full(MUI_numpy.shape, np.nanmean(MUI_numpy))\n",
    "\n",
    "## Vote moyen utilisateur\n",
    "votes_moyenne_U_pred_all = np.zeros_like(MUI_numpy)\n",
    "user_means = np.nanmean(MUI_numpy, axis=1)\n",
    "votes_moyenne_U_pred_all[:] = user_means[:, np.newaxis]\n",
    "\n",
    "## Vote moyen item\n",
    "votes_moyenne_I_pred_all = np.zeros_like(MUI_numpy)\n",
    "item_means = np.nanmean(MUI_numpy, axis=0)\n",
    "votes_moyenne_I_pred_all[:] = item_means[np.newaxis, :]\n",
    "\n",
    "## Vote Moyen Attendu (Moyenne du vote moyen utilisateur et item)\n",
    "moyenne_U_repeat_all = np.repeat(user_means[:, np.newaxis], MUI_numpy.shape[1], axis=1)\n",
    "moyenne_I_repeat_all = np.repeat(item_means[np.newaxis, :], MUI_numpy.shape[0], axis=0)\n",
    "votes_moyenne_A_pred_all = 0.5 *(moyenne_U_repeat_all + moyenne_I_repeat_all)\n",
    "\n",
    "# Erreur quadratique moyenne & Erreur absolue moyenne\n",
    "list_RMSE_all = []\n",
    "list_MAE_all = []\n",
    "list_matrices_all = [votes_alea_pred_all, votes_moyenne_pred_all, votes_moyenne_U_pred_all, votes_moyenne_I_pred_all, votes_moyenne_A_pred_all]\n",
    "\n",
    "list_RMSE_all.append(np.array([RMSE_mat(mat, MUI_numpy) for mat in list_matrices_all]))\n",
    "list_MAE_all.append(np.array([MAE_mat(mat, MUI_numpy) for mat in list_matrices_all]))\n",
    "\n",
    "list_RMSE_all = np.array(list_RMSE_all).reshape(-1)\n",
    "list_MAE_all = np.array(list_MAE_all).reshape(-1)\n",
    "\n",
    "print(\"Résultats pour le vote aléatoire sur l'ensemble de données :\")\n",
    "print(\"RMSE: \", list_RMSE_all[0])\n",
    "print(\"MAE: \", list_MAE_all[0],'\\n')\n",
    "\n",
    "print(\"Résultats pour le vote moyen sur l'ensemble de données :\")\n",
    "print(\"RMSE: \", list_RMSE_all[1])\n",
    "print(\"MAE: \", list_MAE_all[1],'\\n')\n",
    "\n",
    "print(\"Résultats pour le vote moyen utilisateur sur l'ensemble de données :\")\n",
    "print(\"RMSE: \", list_RMSE_all[2])\n",
    "print(\"MAE: \", list_MAE_all[2],'\\n')\n",
    "\n",
    "print(\"Résultats pour le vote moyen item sur l'ensemble de données :\")\n",
    "print(\"RMSE: \", list_RMSE_all[3])\n",
    "print(\"MAE: \", list_MAE_all[3],'\\n')\n",
    "\n",
    "print(\"Résultats pour le vote moyen attendu sur l'ensemble de données :\")\n",
    "print(\"RMSE: \", list_RMSE_all[4])\n",
    "print(\"MAE: \", list_MAE_all[4],'\\n')"
   ]
  },
  {
   "cell_type": "code",
   "execution_count": 52,
   "metadata": {
    "colab": {
     "base_uri": "https://localhost:8080/",
     "height": 507
    },
    "id": "g3VTu4meg6lM",
    "outputId": "ebac6a54-7854-4b6e-a447-757d5cb204e8"
   },
   "outputs": [
    {
     "data": {
      "image/png": "[encoded data removed]",
      "text/plain": [
       "<Figure size 800x500 with 1 Axes>"
      ]
     },
     "metadata": {},
     "output_type": "display_data"
    }
   ],
   "source": [
    "# Graphique des erreurs en fonction de la méthode choisie\n",
    "fig, ax = plt.subplots(figsize=(8, 5))\n",
    "\n",
    "ax.plot(range(5), list_RMSE_all, marker='.', color='blue', linestyle='-', label=\"Sans VC - RMSE\")\n",
    "ax.plot(range(5), list_MAE_all, marker='.', color='green', linestyle='-', label=\"Sans VC - MAE\")\n",
    "\n",
    "ax.set_ylabel('RMSE/MAE')\n",
    "ax.set_title('Analyse comparatives des resultats (Sans validation croisée)')\n",
    "ax.set_xticks(range(5))\n",
    "ax.set_xticklabels(['votes_alea', 'votes_moyenne', 'votes_moyenne_U', 'votes_moyenne_I', 'votes_moyenne_A'])\n",
    "ax.grid(True, axis='y', linestyle='--', color='gray', alpha=0.5)\n",
    "ax.legend()\n",
    "plt.tight_layout()\n",
    "plt.show()"
   ]
  },
  {
   "cell_type": "markdown",
   "metadata": {
    "id": "L0UPK8_HJpfz"
   },
   "source": [
    "# Commentez les resultats\n",
    "- Vote aléatoire : Le vote aléatoire donne des RMSE et MAE élevés, ce qui indique que cette méthode ne permet pas de prédire correctement les valeurs par rapport aux vraies valeurs. Cela est attendu, car le vote aléatoire ne tient pas compte des interactions des utilisateurs avec les films.\n",
    "- Vote moyen : Le vote moyen, qui consiste à utiliser la moyenne des valeurs observées, donne des résultats meilleurs que le vote aléatoire. Par contre, RMSE et MAE restent relativement élevés, ce qui suggère que cette méthode n'est pas optimale pour capturer la complexité des données.\n",
    "- Vote moyen utilisateur : En utilisant le vote moyen utilisateur, les performances s'améliorent par rapport au vote moyen général. Cela montre que la prise en compte des comportements spécifiques des utilisateurs dans la prédiction peut offrir de meilleurs résultats que la simple moyenne générale.\n",
    "- Vote moyen item : Le vote moyen basé sur les items continue d'améliorer les performances. Cette méthode est plus adaptée que celle basée sur l'utilisateur, car il est plus facile de trouver des items similaires que de trouver des utilisateurs ayant exactement les mêmes préférences.\n",
    "- Vote moyen attendu : Le vote moyen attendu donne les meilleures performances parmi toutes les méthodes testées. Cette méthode peut être vue comme une combinaison des moyennes pondérées (utilisateur et item). Elle permet de capturer à la fois les préférences individuelles et la popularité des films.\n",
    "\n",
    "Il est important de noter que ces résultats ont été obtenus sans validation croisée. Afin d'obtenir des résultats plus robustes et d'éviter les risques de surapprentissage, une validation croisée serait nécessaire."
   ]
  },
  {
   "cell_type": "markdown",
   "metadata": {
    "id": "9qJQnWtiW3kQ"
   },
   "source": [
    "#### 1.3.4. Calcul des performances avec validation croisée\n",
    "\n",
    "Les cellules ci-dessous contiennent le code pour faire la prediction de votes et le calcul des erreurs quadratiques moyennes et erreurs absolue moyenne. Completez le et commentez les resultats."
   ]
  },
  {
   "cell_type": "code",
   "execution_count": 53,
   "metadata": {
    "colab": {
     "base_uri": "https://localhost:8080/"
    },
    "id": "2_G-HJqRW3kQ",
    "outputId": "c3937787-e8bc-4604-d79e-ea0ce675da82"
   },
   "outputs": [
    {
     "name": "stdout",
     "output_type": "stream",
     "text": [
      "(100000,)\n"
     ]
    }
   ],
   "source": [
    "np.random.seed(42)\n",
    "\n",
    "## Création des indices pour les valeurs différentes de np.nan\n",
    "indices = np.arange(0, MUI_numpy.shape[0]*MUI_numpy.shape[1])\n",
    "indices_na = indices[~np.isnan(MUI_numpy_flat)]\n",
    "\n",
    "## Split Train Test des indices\n",
    "nbre_replis = 5\n",
    "np.random.shuffle(indices_na)\n",
    "\n",
    "idx_split = np.split(indices_na, nbre_replis)\n",
    "\n",
    "print(indices_na.shape)"
   ]
  },
  {
   "cell_type": "code",
   "execution_count": 54,
   "metadata": {
    "colab": {
     "base_uri": "https://localhost:8080/"
    },
    "id": "9v-1RLKYW3kR",
    "outputId": "7d7a18af-5fa5-47b1-eedb-060d8b277c4e"
   },
   "outputs": [
    {
     "name": "stdout",
     "output_type": "stream",
     "text": [
      "Dimensions des matrices :\n",
      "(943, 1682)\n",
      "(80000,)\n",
      "(20000,)\n",
      "\n",
      "\n"
     ]
    },
    {
     "name": "stderr",
     "output_type": "stream",
     "text": [
      "C:\\Users\\ettah\\AppData\\Local\\Temp\\ipykernel_30984\\1297913250.py:48: RuntimeWarning: Mean of empty slice\n",
      "  item_means = np.nanmean(MUI_numpy_train, axis=0)\n"
     ]
    },
    {
     "name": "stdout",
     "output_type": "stream",
     "text": [
      "Dimensions des matrices :\n",
      "(943, 1682)\n",
      "(80000,)\n",
      "(20000,)\n",
      "\n",
      "\n",
      "Dimensions des matrices :\n",
      "(943, 1682)\n",
      "(80000,)\n",
      "(20000,)\n",
      "\n",
      "\n",
      "Dimensions des matrices :\n",
      "(943, 1682)\n",
      "(80000,)\n",
      "(20000,)\n",
      "\n",
      "\n",
      "Dimensions des matrices :\n",
      "(943, 1682)\n",
      "(80000,)\n",
      "(20000,)\n",
      "\n",
      "\n",
      "Résultats pour le vote aléatoire sur l'ensemble de test :\n",
      "RMSE:  1.8815752454338135\n",
      "MAE:  1.50765 \n",
      "\n",
      "Résultats pour le vote moyen sur l'ensemble de test :\n",
      "RMSE:  1.1256693206118293\n",
      "MAE:  0.9447048537500002 \n",
      "\n",
      "Résultats pour le vote moyen utilisateur sur l'ensemble de test :\n",
      "RMSE:  1.042354051825765\n",
      "MAE:  0.8353219967028899 \n",
      "\n",
      "Résultats pour le vote moyen item sur l'ensemble de test :\n",
      "RMSE:  1.023155135374267\n",
      "MAE:  0.816171102209158 \n",
      "\n",
      "Résultats pour le vote moyen attendu sur l'ensemble de test :\n",
      "RMSE:  0.9819466708198824\n",
      "MAE:  0.7944988221893886 \n",
      "\n"
     ]
    }
   ],
   "source": [
    "## Je construis ma liste d'indice train et test\n",
    "# Pour faire une cross validation à 5 replis il suffit de remplacer 0 par i\n",
    "# et itérer de 0 à 4\n",
    "list_RMSE = []\n",
    "list_MAE = []\n",
    "\n",
    "for i in range(nbre_replis):\n",
    "    idx_train = np.delete(idx_split, i, axis=0).flatten() # Liste d'indices train\n",
    "    idx_test = idx_split[i] # Liste d'indices test\n",
    "\n",
    "    ## J'enlève les valeurs de test de la matrice d'entrainement, et vice versa\n",
    "    MUI_numpy_train = MUI_numpy_flat.copy()\n",
    "    MUI_numpy_train[idx_test] = np.nan\n",
    "    MUI_numpy_test = MUI_numpy_flat.copy()\n",
    "    MUI_numpy_test[idx_train] = np.nan\n",
    "\n",
    "    #  Je redonne la structure de matrice aux ensembles de test et d'entrainement\n",
    "    MUI_numpy_train = MUI_numpy_train.reshape(MUI_numpy.shape)\n",
    "    MUI_numpy_test = MUI_numpy_test.reshape(MUI_numpy.shape)\n",
    "\n",
    "    # On s'assure d'avoir les bonnes dimensions\n",
    "    print(\"Dimensions des matrices :\")\n",
    "    print(MUI_numpy_train.shape)\n",
    "    print(MUI_numpy_train[~np.isnan(MUI_numpy_train)].shape)\n",
    "    print(MUI_numpy_test[~np.isnan(MUI_numpy_test)].shape)\n",
    "    print('\\n')\n",
    "\n",
    "    # Documentation pour np.nanmean : https://numpy.org/doc/stable/reference/generated/numpy.nanmean.html\n",
    "\n",
    "    # --------------------------------- Prédictions des Valeurs Test ---------------------------------\n",
    "    # Prédiction des votes aléatoires entre 1 et 5 avec une distribution uniforme d'entiers\n",
    "    np.random.seed(42)\n",
    "    votes_alea_pred = np.random.randint(1, 6, size=MUI_numpy_test.shape)\n",
    "\n",
    "    # Vote Moyen\n",
    "    # Prédiction des votes grâce à la moyenne des votes de la matrice d'entrainement\n",
    "    votes_moyenne_pred = np.full(MUI_numpy_test.shape, np.nanmean(MUI_numpy_train))\n",
    "\n",
    "    # Vote Moyen Utilisateur\n",
    "    # Prédiction des votes grâce à la moyenne des votes par utilisateur de la matrice d'entrainement\n",
    "    votes_moyenne_U_pred = np.zeros_like(MUI_numpy_test)\n",
    "    user_means = np.nanmean(MUI_numpy_train, axis=1)\n",
    "    votes_moyenne_U_pred[:] = user_means[:, np.newaxis]\n",
    "\n",
    "    # Vote Moyen Item\n",
    "    # Prédiction des votes grâce à la moyenne des votes par item de la matrice d'entrainement\n",
    "    votes_moyenne_I_pred = np.zeros_like(MUI_numpy_test)\n",
    "    item_means = np.nanmean(MUI_numpy_train, axis=0)\n",
    "    votes_moyenne_I_pred[:] = item_means[np.newaxis, :]\n",
    "\n",
    "    # Vote Moyen Attendu (Moyenne du vote moyen utilisateur et item)\n",
    "    moyenne_U_repeat = np.repeat(user_means[:, np.newaxis], MUI_numpy.shape[1], axis=1)\n",
    "    moyenne_I_repeat = np.repeat(item_means[np.newaxis, :], MUI_numpy.shape[0], axis=0)\n",
    "\n",
    "    votes_moyenne_A_pred = 0.5 * (moyenne_U_repeat + moyenne_I_repeat)\n",
    "\n",
    "    # Calcul des RMSE\n",
    "    list_matrices = [votes_alea_pred, votes_moyenne_pred, votes_moyenne_U_pred, votes_moyenne_I_pred, votes_moyenne_A_pred]\n",
    "\n",
    "    list_RMSE.append(np.array([RMSE_mat(mat, MUI_numpy_test) for mat in list_matrices]))\n",
    "    list_MAE.append(np.array([MAE_mat(mat, MUI_numpy_test) for mat in list_matrices]))\n",
    "\n",
    "list_RMSE = np.array(list_RMSE)\n",
    "list_MAE = np.array(list_MAE)\n",
    "\n",
    "print(\"Résultats pour le vote aléatoire sur l'ensemble de test :\")\n",
    "print(\"RMSE: \", list_RMSE.mean(axis=0)[0])\n",
    "print(\"MAE: \", list_MAE.mean(axis=0)[0],'\\n')\n",
    "\n",
    "print(\"Résultats pour le vote moyen sur l'ensemble de test :\")\n",
    "print(\"RMSE: \", list_RMSE.mean(axis=0)[1])\n",
    "print(\"MAE: \", list_MAE.mean(axis=0)[1],'\\n')\n",
    "\n",
    "print(\"Résultats pour le vote moyen utilisateur sur l'ensemble de test :\")\n",
    "print(\"RMSE: \", list_RMSE.mean(axis=0)[2])\n",
    "print(\"MAE: \", list_MAE.mean(axis=0)[2],'\\n')\n",
    "\n",
    "print(\"Résultats pour le vote moyen item sur l'ensemble de test :\")\n",
    "print(\"RMSE: \", list_RMSE.mean(axis=0)[3])\n",
    "print(\"MAE: \", list_MAE.mean(axis=0)[3],'\\n')\n",
    "\n",
    "print(\"Résultats pour le vote moyen attendu sur l'ensemble de test :\")\n",
    "print(\"RMSE: \", list_RMSE.mean(axis=0)[4])\n",
    "print(\"MAE: \", list_MAE.mean(axis=0)[4],'\\n')"
   ]
  },
  {
   "cell_type": "code",
   "execution_count": 55,
   "metadata": {
    "colab": {
     "base_uri": "https://localhost:8080/",
     "height": 507
    },
    "id": "Yzk3qXl-hZac",
    "outputId": "5fcf5bbc-4220-44bd-9f7d-06281c2d4d11"
   },
   "outputs": [
    {
     "data": {
      "image/png": "[encoded data removed]",
      "text/plain": [
       "<Figure size 800x500 with 1 Axes>"
      ]
     },
     "metadata": {},
     "output_type": "display_data"
    }
   ],
   "source": [
    "# Graphique des erreurs en fonction de la méthode choisie\n",
    "#TODO\n",
    "fig, ax = plt.subplots(figsize=(8, 5))\n",
    "\n",
    "ax.plot(range(5), list_RMSE.mean(axis=0).flatten(), marker='.', color='red', linestyle=':', label=\"VC - RMSE\")\n",
    "ax.plot(range(5), list_MAE.mean(axis=0).flatten(), marker='.', color='orange', linestyle=':', label=\"VC - MAE\")\n",
    "\n",
    "ax.set_ylabel('RMSE/MAE')\n",
    "ax.set_title('Analyse comparatives des resultats (Avec validation croisée)')\n",
    "ax.set_xticks(range(5))\n",
    "ax.set_xticklabels(['votes_alea', 'votes_moyenne', 'votes_moyenne_U', 'votes_moyenne_I', 'votes_moyenne_A'])\n",
    "ax.grid(True, axis='y', linestyle='--', color='gray', alpha=0.5)\n",
    "ax.legend()\n",
    "plt.tight_layout()\n",
    "plt.show()\n",
    "#End TODO"
   ]
  },
  {
   "cell_type": "markdown",
   "metadata": {
    "id": "HkphF2FLLGGW"
   },
   "source": [
    "# Commentez les resultats\n",
    "\n",
    "A l'instar des méthodes sans validation croisée, on obtient les résultats suivants :\n",
    "- Vote aléatoire : Le vote aléatoire donne des RMSE et MAE élevés, ce qui indique que cette méthode ne permet pas de prédire correctement les valeurs par rapport aux vraies valeurs. Cela est attendu, car le vote aléatoire ne tient pas compte des interactions des utilisateurs avec les films\n",
    "- Vote moyen : Le vote moyen, qui consiste à utiliser la moyenne des valeurs observées, donne des résultats meilleurs que le vote aléatoire. Par contre, RMSE et MAE restent relativement élevés, ce qui suggère que cette méthode n'est pas optimale pour capturer la complexité des données.\n",
    "- Vote moyen utilisateur : En utilisant le vote moyen utilisateur, les performances s'améliorent par rapport au vote moyen général. Cela montre que la prise en compte des comportements spécifiques des utilisateurs dans la prédiction peut offrir de meilleurs résultats que la simple moyenne générale.\n",
    "- Vote moyen item : Le vote moyen basé sur les items continue d'améliorer les performances. Cette méthode est plus adaptée que celle basée sur l'utilisateur, car il est plus facile de trouver des items similaires que de trouver des utilisateurs ayant exactement les mêmes préférences.\n",
    "- Vote moyen attendu : Le vote moyen attendu donne les meilleures performances parmi toutes les méthodes testées. Cette méthode peut être vue comme une combinaison des moyennes pondérées (utilisateur et item). Elle permet de capturer à la fois les préférences individuelles et la popularité des films.\n"
   ]
  },
  {
   "cell_type": "markdown",
   "metadata": {
    "id": "Qf1aja3oW3kS"
   },
   "source": [
    "### 1.4. Analysez des resultats\n",
    "\n",
    "On souhaite analyse et valider les resultats obtenus\n",
    "\n",
    "#### 1.4.1. Analyse comparatives des resultats\n",
    "\n",
    "Faites une analyse comparative des résultats obtenus sans et avec la validation croisée. À quoi s'attendaient-t-on ? Qu'est-ce qu'on a obtenu? Pourquoi ?"
   ]
  },
  {
   "cell_type": "code",
   "execution_count": 56,
   "metadata": {
    "colab": {
     "base_uri": "https://localhost:8080/",
     "height": 507
    },
    "id": "WU7d_3JCW3kS",
    "outputId": "058fc9eb-e24f-4b2d-a755-49dccab9d04c"
   },
   "outputs": [
    {
     "data": {
      "image/png": "[encoded data removed]",
      "text/plain": [
       "<Figure size 800x500 with 1 Axes>"
      ]
     },
     "metadata": {},
     "output_type": "display_data"
    }
   ],
   "source": [
    "#TODO\n",
    "# Graphique des erreurs en fonction de la méthode choisie avec et sans validation croisée\n",
    "fig, ax = plt.subplots(figsize=(8, 5))\n",
    "\n",
    "ax.plot(range(5), list_RMSE_all, marker='.', color='blue', linestyle='-', label=\"Sans VC - RMSE\")\n",
    "ax.plot(range(5), list_MAE_all, marker='x', color='blue', linestyle='-', label=\"Sans VC - MAE\")\n",
    "ax.plot(range(5), list_RMSE.mean(axis=0).flatten(), marker='.', color='red', linestyle=':', label=\"VC - RMSE\")\n",
    "ax.plot(range(5), list_MAE.mean(axis=0).flatten(), marker='x', color='red', linestyle=':', label=\"VC - MAE\")\n",
    "\n",
    "ax.set_ylabel('RMSE/MAE')\n",
    "ax.set_title('Analyse comparatives des resultats')\n",
    "ax.set_xticks(range(5))\n",
    "ax.set_xticklabels(['votes_alea', 'votes_moyenne', 'votes_moyenne_U', 'votes_moyenne_I', 'votes_moyenne_A'])\n",
    "ax.grid(True, axis='y', linestyle='--', color='gray', alpha=0.5)\n",
    "ax.legend()\n",
    "plt.tight_layout()\n",
    "plt.show()\n",
    "#End TODO"
   ]
  },
  {
   "cell_type": "markdown",
   "metadata": {
    "id": "1V1UeB-mL9p1"
   },
   "source": [
    "# Analyse\n",
    "\n",
    "L'application de la validation croisée nous permet d'évaluer la généralisabilité de chacune des approches employées et de réduire le risque de surapprentissage.\n",
    "\n",
    "Généralement, on s'attend à ce que la validation croisée fournisse des estimations de performance plus stables, réalistes et parfois meilleures. Cependant, on obtient des **résultats quasi similaires avec et sans validation croisée** : les méthodes de prédiction par vote progressent en performance, du vote aléatoire au vote moyen attendu, ce dernier combinant les moyennes utilisateur et item pour offrir les meilleurs résultats en capturant à la fois les préférences individuelles et la popularité des films.\n",
    "\n",
    "On peut expliquer cette similarité par les facteurs suivants :\n",
    "\n",
    "1. **Stabilité des moyennes** : Les moyennes des utilisateurs et des items, bien qu'elles soient calculées sur des sous-ensembles différents dans chaque itération de la validation croisée, restent relativement stables, ce qui mène à des prédictions similaires.\n",
    "   \n",
    "2. **Répartition homogène des données** : On peut penser que les données sont assez homogènes (par exemple, les utilisateurs ont des comportements de vote similaires ou les items ont des caractéristiques proches), et donc les moyennes calculées sur chaque sous-ensemble d'entraînement peuvent être très proches de celles calculées sur l'ensemble complet, rendant les résultats assez similaires.\n",
    "\n",
    "3. **Simplicité des méthodes** : Les techniques de vote utilisées (comme les moyennes) sont relativement simples et ne nécessitent pas une fine modélisation des relations complexes entre les utilisateurs et les items. Cela fait que les prédictions, même avec validation croisée, ne varient pas significativement par rapport à celles obtenues sans validation croisée."
   ]
  },
  {
   "cell_type": "markdown",
   "metadata": {
    "id": "AGU5TCEXW3kT"
   },
   "source": [
    "#### 1.4.2. Test d'hypothèse\n",
    "On souhaites déterminer si la différence entre l'erreur quadratique moyenne obtenue par le vote moyen item et le vote moyen utilisateur est statistiquement significative. Faites un test d'hypothèse à cet fin."
   ]
  },
  {
   "cell_type": "code",
   "execution_count": 57,
   "metadata": {
    "colab": {
     "base_uri": "https://localhost:8080/"
    },
    "id": "2QVkKzftW3kT",
    "outputId": "939078ec-10cb-4643-91a3-c579e689f730"
   },
   "outputs": [
    {
     "name": "stdout",
     "output_type": "stream",
     "text": [
      "t-Test: Avec validation croisée RMSE\n",
      "t_stat : 7.546648236740136, p_value : 0.0003017749047686813, df : 5.909599764663794\n"
     ]
    }
   ],
   "source": [
    "# TODO\n",
    "## t-Test: Avec validation croisée RMSE (Calcul détaillé)\n",
    "user_means = list_RMSE.mean(axis=0)[2]\n",
    "item_means = list_RMSE.mean(axis=0)[3]\n",
    "user_var = list_RMSE.var(axis=0, ddof=1)[2]\n",
    "item_var = list_RMSE.var(axis=0, ddof=1)[3]\n",
    "user_size = len(list_RMSE)\n",
    "item_size = len(list_RMSE)\n",
    "t_stat = (user_means - item_means)/ np.sqrt(user_var/user_size + item_var/item_size)\n",
    "df = (user_var/user_size + item_var/item_size)**2\n",
    "df /= ((user_var/user_size)**2/(user_size-1) + (item_var/item_size)**2/(item_size-1))\n",
    "p_value = 2 * (1 - scipy.stats.t.cdf(abs(t_stat), df))\n",
    "print('t-Test: Avec validation croisée RMSE')\n",
    "print(f't_stat : {t_stat}, p_value : {p_value}, df : {df}')\n",
    "# End TODO"
   ]
  },
  {
   "cell_type": "code",
   "execution_count": 58,
   "metadata": {
    "colab": {
     "base_uri": "https://localhost:8080/"
    },
    "id": "NT7TWY8NW3kT",
    "outputId": "304ae36c-219a-4bf7-d97e-7fa408d6ef7b"
   },
   "outputs": [
    {
     "name": "stdout",
     "output_type": "stream",
     "text": [
      "t-Test: Avec validation croisée RMSE\n"
     ]
    },
    {
     "data": {
      "text/plain": [
       "Ttest_indResult(statistic=7.546648236740136, pvalue=0.0003017749047687487)"
      ]
     },
     "execution_count": 58,
     "metadata": {},
     "output_type": "execute_result"
    }
   ],
   "source": [
    "## t-Test: Avec validation croisée RMSE (Avec la librarie Scipy)\n",
    "test_vc = scipy.stats.ttest_ind(list_RMSE[:,2], list_RMSE[:,3], equal_var = False)\n",
    "print('t-Test: Avec validation croisée RMSE')\n",
    "test_vc"
   ]
  },
  {
   "cell_type": "code",
   "execution_count": 59,
   "metadata": {},
   "outputs": [
    {
     "name": "stdout",
     "output_type": "stream",
     "text": [
      "t-Test: Avec validation croisée MAE\n",
      "t_stat : 9.114260752037357, p_value : 3.67703566703792e-05, df : 7.075881686049828\n"
     ]
    }
   ],
   "source": [
    "## t-Test: Avec validation croisée MAE (Calcul détaillé)\n",
    "user_means = list_MAE.mean(axis=0)[2]\n",
    "item_means = list_MAE.mean(axis=0)[3]\n",
    "user_var = list_MAE.var(axis=0, ddof=1)[2]\n",
    "item_var = list_MAE.var(axis=0, ddof=1)[3]\n",
    "user_size = len(list_MAE)\n",
    "item_size = len(list_MAE)\n",
    "t_stat = (user_means - item_means)/ np.sqrt(user_var/user_size + item_var/item_size)\n",
    "df = (user_var/user_size + item_var/item_size)**2\n",
    "df /= ((user_var/user_size)**2/(user_size-1) + (item_var/item_size)**2/(item_size-1))\n",
    "p_value = 2 * (1 - scipy.stats.t.cdf(abs(t_stat), df))\n",
    "print('t-Test: Avec validation croisée MAE')\n",
    "print(f't_stat : {t_stat}, p_value : {p_value}, df : {df}')\n",
    "# End TODO"
   ]
  },
  {
   "cell_type": "code",
   "execution_count": 60,
   "metadata": {},
   "outputs": [
    {
     "name": "stdout",
     "output_type": "stream",
     "text": [
      "t-Test: Avec validation croisée MAE\n"
     ]
    },
    {
     "data": {
      "text/plain": [
       "Ttest_indResult(statistic=9.114260752037357, pvalue=3.677035667026624e-05)"
      ]
     },
     "execution_count": 60,
     "metadata": {},
     "output_type": "execute_result"
    }
   ],
   "source": [
    "## t-Test: Avec validation croisée MAE (Avec la librarie Scipy)\n",
    "test_vc = scipy.stats.ttest_ind(list_MAE[:,2], list_MAE[:,3], equal_var = False)\n",
    "print('t-Test: Avec validation croisée MAE')\n",
    "test_vc"
   ]
  },
  {
   "cell_type": "markdown",
   "metadata": {
    "id": "LceyUSLwRAE3"
   },
   "source": [
    "# Analyse\n",
    "- Approche validation croisée : La p-value est inférieure à 0,05, cela signifie que la différence entre les erreurs des deux méthodes (vote moyen item et vote moyen utilisateur) est suffisamment grande pour être considérée comme significative.\n",
    "- On rejète donc l'hypothèse nulle (qui stipule que les deux méthodes ont des performances identiques).Cela suggère que l'approche du vote moyen item est plus performante que celle du vote moyen utilisateur en termes d'erreur."
   ]
  },
  {
   "cell_type": "markdown",
   "metadata": {
    "id": "2cZ2otRpW3kU"
   },
   "source": [
    "## Question 2 - Filtres Collaboratifs\n",
    "\n",
    "On désire calculer les erreurs des prédictions des approches de filtres collaboratifs item-item et utilisateur-utilisateur. Pour cela, on se propose d'utiliser les fonctions ci-dessous qui permettent de:\n",
    " - Calculer la similarité cosinus entre deux vecteurs/matrices ;\n",
    " - Predire les votes par l'approche filtrage collaboratifs .\n",
    "\n",
    "Completez les!"
   ]
  },
  {
   "cell_type": "code",
   "execution_count": 61,
   "metadata": {
    "id": "k52pE6U1W3kU"
   },
   "outputs": [],
   "source": [
    "## Similarité Cosinus entre les vecteurs ligne de la matrice A\n",
    "#  et les vecteurs ligne de la matrice B\n",
    "def cosinus_matrices(A, B):\n",
    "    A = A.copy()\n",
    "    B = B.copy()\n",
    "\n",
    "    # Remplace les nan par 0, pour ne pas rajouter + de NAN après le produit matriciel\n",
    "    A = np.nan_to_num(A)\n",
    "    B = np.nan_to_num(B)\n",
    "\n",
    "    # Matrice colonne des normes de chacuns des vecteurs de A\n",
    "    col_norm_A = np.linalg.norm(A, axis=-1)[:, None]\n",
    "\n",
    "    # Matrice ligne des normes de chacuns des vecteurs de B\n",
    "    col_norm_B = np.expand_dims(np.linalg.norm(B, axis=-1), axis=0)\n",
    "\n",
    "    cos_sim = np.dot(A, B.T) / np.dot(col_norm_A, col_norm_B)\n",
    "\n",
    "    return cos_sim"
   ]
  },
  {
   "cell_type": "code",
   "execution_count": 62,
   "metadata": {
    "id": "LPwK-2wqW3kV"
   },
   "outputs": [],
   "source": [
    "def filtre_collaboratif(V, W):\n",
    "\n",
    "    # Crée une matrice booléenne de la même taille que V. Les éléments qui ne sont pas NaN dans V\n",
    "    # (c'est-à-dire les éléments pour lesquels une note existe) sont marqués par 1, et les NaN par 0.\n",
    "    # Cette matrice sera utilisée pour s'assurer que seules les notes existantes contribuent aux prédictions.\n",
    "    Bool_m = (~np.isnan(V))*1\n",
    "\n",
    "    V = V.copy()\n",
    "    W = W.copy()\n",
    "\n",
    "    # Les valeurs NaN dans V et W sont remplacées par 0. Cela permet d'effectuer des opérations matricielles numpy sans erreur.\n",
    "    V = np.nan_to_num(V)\n",
    "    W = np.nan_to_num(W)\n",
    "\n",
    "    # Calcule la somme des similarités absolues pour chaque utilisateur, mais seulement pour les items qu'ils ont notés (grâce à Bool_m).\n",
    "    K = np.dot(np.abs(W), Bool_m) + 1e-30\n",
    "    nom = np.dot(W, V)\n",
    "\n",
    "    # Calcule les notes prédites.\n",
    "    votes_pred = np.divide(nom, K)\n",
    "\n",
    "    return votes_pred"
   ]
  },
  {
   "cell_type": "code",
   "execution_count": 63,
   "metadata": {
    "colab": {
     "base_uri": "https://localhost:8080/"
    },
    "id": "vYDvE9AZW3kV",
    "outputId": "f579d5d8-5045-425e-bd9f-32f89f4600b0"
   },
   "outputs": [
    {
     "name": "stdout",
     "output_type": "stream",
     "text": [
      "[[4.03886828 0.         5.         5.         5.        ]\n",
      " [2.89364903 0.         5.         5.         5.        ]\n",
      " [2.         4.         4.5739515  0.         4.5739515 ]\n",
      " [4.4563721  4.         4.36368456 5.         4.        ]]\n",
      "------------------------------------------------------------\n",
      "[[4.         2.         2.         2.         2.        ]\n",
      " [4.         0.         4.         4.         4.        ]\n",
      " [5.         5.         5.         5.         5.        ]\n",
      " [5.         2.         3.53726115 3.24264069 4.23059913]]\n",
      "------------------------------------------------------------\n",
      "1.687349\n"
     ]
    }
   ],
   "source": [
    "# Exemple (Code de démarrage)\n",
    "m = np.array([\n",
    "    [2, 4, np.nan, np.nan, np.nan],\n",
    "    [np.nan, np.nan, 4, np.nan, 4],\n",
    "    [5, np.nan, 5, 5, np.nan],\n",
    "    [2, np.nan, 5, np.nan, 5]\n",
    "])\n",
    "\n",
    "u_cos = cosinus_matrices(m,m)\n",
    "np.fill_diagonal(u_cos, 0)\n",
    "u_u = filtre_collaboratif(m, u_cos)\n",
    "print(u_u)\n",
    "print(\"-\" * 60)\n",
    "\n",
    "i_cos = cosinus_matrices(m.T,m.T)\n",
    "np.fill_diagonal(i_cos, 0)\n",
    "i_i = filtre_collaboratif(m.T, i_cos).T\n",
    "print(i_i)\n",
    "print(\"-\" * 60)\n",
    "print(round(RMSE_mat(u_u, m), 6))"
   ]
  },
  {
   "cell_type": "markdown",
   "metadata": {
    "id": "Q3cTGzcWW3kV"
   },
   "source": [
    "Maintenant, pour le calcul des differents erreur, procédez par étapes et rapportez, à chaque étape, l'erreur quadratique moyenne et l'erreur absolue moyenne à partir de la matrice de prédiction obtenue à l'aide de la matrice cosinus de similarité.\n",
    "\n",
    "M_pred = MUI x M_cos"
   ]
  },
  {
   "cell_type": "markdown",
   "metadata": {
    "id": "LtxjmnnlW3kW"
   },
   "source": [
    "## 2 -a) Prédiction avec tous les utilisateurs/items\n",
    "\n",
    "Prediction (sans voisins rapprochés) et sans correction pour biais utilisateur/item (sans normaliser en soustrayant la moyenne utilisateur/item)"
   ]
  },
  {
   "cell_type": "code",
   "execution_count": 64,
   "metadata": {
    "colab": {
     "base_uri": "https://localhost:8080/"
    },
    "id": "wTCdAIRBW3kb",
    "outputId": "86dde513-f14b-4580-d0bb-220ff08a7366"
   },
   "outputs": [
    {
     "name": "stdout",
     "output_type": "stream",
     "text": [
      "Prédiction avec tous les utilisateurs :\n",
      "RMSE:  1.0117680426285873\n",
      "MAE:  0.806447361350381\n"
     ]
    }
   ],
   "source": [
    "# TODO\n",
    "## Approche Utilisateur\n",
    "# Calculer la similarité cosinus\n",
    "u_cos = cosinus_matrices(MUI_numpy, MUI_numpy)\n",
    "# Mettre les éléments de la diagonale à 0 pour éviter qu'un utilisateur soit considéré comme le plus similaire à lui-même.\n",
    "np.fill_diagonal(u_cos, 0)\n",
    "# Prédire en utilisant le filtre collaboratif\n",
    "user_user = filtre_collaboratif(MUI_numpy, u_cos)\n",
    "\n",
    "print(\"Prédiction avec tous les utilisateurs :\")\n",
    "print(\"RMSE: \", RMSE_mat(user_user, MUI_numpy))\n",
    "print(\"MAE: \", MAE_mat(user_user, MUI_numpy))\n",
    "#End TODO"
   ]
  },
  {
   "cell_type": "code",
   "execution_count": 65,
   "metadata": {
    "colab": {
     "base_uri": "https://localhost:8080/"
    },
    "id": "BTb0hG-nW3kc",
    "outputId": "151abcdd-3ccd-4ba9-ba18-0fd62e474ec5"
   },
   "outputs": [
    {
     "name": "stdout",
     "output_type": "stream",
     "text": [
      "Prédiction avec tous les items :\n",
      "RMSE:  1.0120812845228617\n",
      "MAE:  0.8050720999491388\n"
     ]
    }
   ],
   "source": [
    "# TODO\n",
    "## Approche Item\n",
    "i_cos = cosinus_matrices(MUI_numpy.T, MUI_numpy.T)\n",
    "np.fill_diagonal(i_cos, 0)\n",
    "item_item = filtre_collaboratif(MUI_numpy.T, i_cos)\n",
    "\n",
    "print(\"Prédiction avec tous les items :\")\n",
    "print(\"RMSE: \", RMSE_mat(item_item, MUI_numpy.T))\n",
    "print(\"MAE: \", MAE_mat(item_item, MUI_numpy.T))\n",
    "#End TODO"
   ]
  },
  {
   "cell_type": "markdown",
   "metadata": {
    "id": "PWmj4rvbW3kc"
   },
   "source": [
    "## 2 -b) Correction pour biais utilisateur/item.\n",
    "\n",
    "Vous pouvez prendre l'ensemble des les valeurs observées dans le calcul des moyennes items et utilisateurs (des précisions sur ce point seront données en classe — voir aussi le bonus)\n",
    "\n",
    "\n",
    "> Ici le biais utilisé est le Vote moyen.  \n",
    "Attention (Moyenne du vote moyen utilisateur et item)"
   ]
  },
  {
   "cell_type": "code",
   "execution_count": 66,
   "metadata": {
    "colab": {
     "base_uri": "https://localhost:8080/"
    },
    "id": "IIvVRKAQW3kd",
    "outputId": "2d8cf64f-bbfd-473d-9014-a150ed8e568d"
   },
   "outputs": [
    {
     "name": "stdout",
     "output_type": "stream",
     "text": [
      "[[3.74430635 3.40820049 3.32181373 ... 2.80514706 3.30514706 3.30514706]\n",
      " [3.793998   3.45789214 3.37150538 ... 2.85483871 3.35483871 3.35483871]\n",
      " [3.33730744 3.00120158 2.91481481 ... 2.39814815 2.89814815 2.89814815]\n",
      " ...\n",
      " [3.96188656 3.62578071 3.53939394 ... 3.02272727 3.52272727 3.52272727]\n",
      " [4.07207068 3.73596483 3.64957806 ... 3.13291139 3.63291139 3.63291139]\n",
      " [3.64451643 3.30841058 3.22202381 ... 2.70535714 3.20535714 3.20535714]]\n",
      "--------------------------------------------------------------------------------\n",
      "Prédiction avec tous les utilisateurs/items (Baseline) :\n",
      "RMSE:  0.9668089878000198\n",
      "MAE:  0.7825830601768504\n"
     ]
    }
   ],
   "source": [
    "#TODO -- Notre Baseline\n",
    "\n",
    "## Calcul de la moyenne attendue\n",
    "# Vote Moyen Utilisateur\n",
    "votes_moyenne_U_pred = np.zeros_like(MUI_numpy)\n",
    "user_means = np.nanmean(MUI_numpy, axis=1)\n",
    "votes_moyenne_U_pred[:] = user_means[:, np.newaxis]\n",
    "\n",
    "# Prédiction des votes grâce à la moyenne des votes par item de la matrice d'entrainement\n",
    "votes_moyenne_I_pred = np.zeros_like(MUI_numpy)\n",
    "item_means = np.nanmean(MUI_numpy, axis=0)\n",
    "votes_moyenne_I_pred[:] = item_means[np.newaxis, :]\n",
    "\n",
    "# Vote Moyen Attendu (Moyenne du vote moyen utilisateur et item)\n",
    "moyenne_U_repeat = np.repeat(user_means[:, np.newaxis], MUI_numpy.shape[1], axis=1)\n",
    "moyenne_I_repeat = np.repeat(item_means[np.newaxis, :], MUI_numpy.shape[0], axis=0)\n",
    "\n",
    "votes_moyenne_A_pred = 0.5 * (moyenne_U_repeat + moyenne_I_repeat)\n",
    "\n",
    "# Notre Baseline\n",
    "R_moy = votes_moyenne_A_pred\n",
    "print(R_moy)\n",
    "print(\"-\"*80)\n",
    "\n",
    "print(\"Prédiction avec tous les utilisateurs/items (Baseline) :\")\n",
    "print(\"RMSE: \", RMSE_mat(R_moy, MUI_numpy))\n",
    "print(\"MAE: \", MAE_mat(R_moy, MUI_numpy))\n",
    "\n",
    "#End TODO"
   ]
  },
  {
   "cell_type": "markdown",
   "metadata": {
    "id": "rkGwRlyLW3kd"
   },
   "source": [
    "NB : Il est possible d'utiliser la matrice de vote moyen utilisateur ou item au lieu d'utiliser le vote attendu. Néanmoins le vote attendu donne de meilleurs résultats."
   ]
  },
  {
   "cell_type": "code",
   "execution_count": 67,
   "metadata": {
    "id": "vAca-TMPW3ke"
   },
   "outputs": [],
   "source": [
    "# Définir la fonction de filtrage collaboratif sans biais\n",
    "def filtre_collaboratif_sans_biais(V, W, votes_moyenne):\n",
    "\n",
    "    # Créer un masque Booléen pour indiquer les valeurs non manquantes\n",
    "    Bool_m = (~np.isnan(V)) * 1\n",
    "\n",
    "    # Créer des copies des matrices pour ne pas modifier les entrées originales\n",
    "    V = V.copy()\n",
    "    W = W.copy()\n",
    "\n",
    "    # Remplacer les NaN par 0 dans les matrices V et W\n",
    "    V = np.nan_to_num(V)\n",
    "    W = np.nan_to_num(W)\n",
    "\n",
    "    # Calculer K, qui représente la somme des poids absolus multipliée par le masque Booléen\n",
    "    K = np.dot(np.abs(W), Bool_m) + 1e-30\n",
    "\n",
    "    # Soustraire la moyenne de chaque vote pour normaliser les données (on ne soustrait pas la moyenne des votes nuls)\n",
    "    nom = np.dot(W, V - np.where(V == 0, 0, votes_moyenne))\n",
    "\n",
    "    # Calculer les prédictions en divisant par K\n",
    "    votes_pred = np.divide(nom, K)\n",
    "\n",
    "    # Ajouter la moyenne pour corriger et équilibrer les prédictions\n",
    "    return votes_pred + votes_moyenne"
   ]
  },
  {
   "cell_type": "code",
   "execution_count": 68,
   "metadata": {
    "colab": {
     "base_uri": "https://localhost:8080/"
    },
    "id": "jQpx2MtwW3ke",
    "outputId": "5c4efe8e-26f0-49d1-e008-7cecce7d7da8"
   },
   "outputs": [
    {
     "name": "stdout",
     "output_type": "stream",
     "text": [
      "Matrices de prédictions :\n",
      "[[3.9286798  3.35822612 3.17089107 ... 2.48879879 3.62963113 3.24436352]\n",
      " [3.98586068 3.42602069 3.2237021  ... 2.58818209 3.72901444 3.34374682]\n",
      " [3.12104758 2.4885335  2.41867092 ... 1.67480097 2.81563331 2.4303657 ]\n",
      " ...\n",
      " [4.38895764 3.79095171 3.6612983  ... 2.92395922 4.06479156 3.67952395]\n",
      " [4.57778697 4.00350119 3.80670932 ... 3.14432746 4.2851598  3.89989219]\n",
      " [3.75679252 3.16698079 3.03943996 ... 3.41071429 3.4300513  3.04478369]]\n",
      "--------------------------------------------------------------------------------\n",
      "Prédiction avec tous les utilisateurs (sans biais) :\n",
      "RMSE:  0.9384815265473094\n",
      "MAE:  0.7386667298339815\n"
     ]
    }
   ],
   "source": [
    "#TODO : Approche Utilisateur\n",
    "## Calculer la matrice de vote User-User sans biais\n",
    "# MUI_WB_U_U = MUI -\n",
    "\n",
    "#Code\n",
    "u_cos = cosinus_matrices(MUI_numpy, MUI_numpy)\n",
    "np.fill_diagonal(u_cos, 0)\n",
    "MUI_WB_U_U = filtre_collaboratif_sans_biais(MUI_numpy, u_cos, votes_moyenne_U_pred)\n",
    "print(\"Matrices de prédictions :\")\n",
    "print(MUI_WB_U_U)\n",
    "print(\"-\"*80)\n",
    "\n",
    "print(\"Prédiction avec tous les utilisateurs (sans biais) :\")\n",
    "print(\"RMSE: \", RMSE_mat(MUI_WB_U_U, MUI_numpy))\n",
    "print(\"MAE: \", MAE_mat(MUI_WB_U_U, MUI_numpy))\n",
    "\n",
    "#End TODO"
   ]
  },
  {
   "cell_type": "code",
   "execution_count": 69,
   "metadata": {
    "colab": {
     "base_uri": "https://localhost:8080/"
    },
    "id": "tyk6SG8GW3ke",
    "outputId": "8ef1c38c-50af-4207-c2d0-5ef352702883"
   },
   "outputs": [
    {
     "name": "stdout",
     "output_type": "stream",
     "text": [
      "Matrices de prédictions :\n",
      "[[4.00079092 4.03780029 3.29180964 ... 4.21387221 4.39661433 3.85704878]\n",
      " [3.30442815 3.34563055 2.68323098 ... 3.58322834 3.74980467 3.18700513]\n",
      " [3.19624491 3.15130336 2.49718508 ... 3.38838519 3.5418913  3.09646155]\n",
      " ...\n",
      " [2.00589548 2.00997852 1.69720043 ... 2.46084773 2.22915621 2.        ]\n",
      " [3.15696231 3.23075177 2.58898794 ... 3.23622533 3.50802987 3.13789844]\n",
      " [3.26994217 3.20690957 2.12779792 ... 3.41531111 3.58667454 3.07544456]]\n",
      "--------------------------------------------------------------------------------\n",
      "Prédiction avec tous les items (sans biais) :\n",
      "RMSE:  0.9066580176982139\n",
      "MAE:  0.7149301457599284\n"
     ]
    }
   ],
   "source": [
    "#TODO : Approche Item\n",
    "## Calculer la matrice de vote Item-Item sans biais\n",
    "# MUI_WB_I_I = MUI.T - ?\n",
    "\n",
    "# Code\n",
    "i_cos = cosinus_matrices(MUI_numpy.T, MUI_numpy.T)\n",
    "np.fill_diagonal(i_cos, 0)\n",
    "MUI_WB_I_I = filtre_collaboratif_sans_biais(MUI_numpy.T, i_cos, votes_moyenne_I_pred.T)\n",
    "print(\"Matrices de prédictions :\")\n",
    "print(MUI_WB_I_I)\n",
    "print(\"-\"*80)\n",
    "\n",
    "print(\"Prédiction avec tous les items (sans biais) :\")\n",
    "print(\"RMSE: \", RMSE_mat(MUI_WB_I_I, MUI_numpy.T))\n",
    "print(\"MAE: \", MAE_mat(MUI_WB_I_I, MUI_numpy.T))\n",
    "#End TODO"
   ]
  },
  {
   "cell_type": "markdown",
   "metadata": {
    "id": "YGoyi6EKW3kf"
   },
   "source": [
    "## 2 -c) Ajout de voisins rapprochés"
   ]
  },
  {
   "cell_type": "markdown",
   "metadata": {
    "id": "h0TslG3aW3kf"
   },
   "source": [
    "Avec k=100 voisins rapprochés"
   ]
  },
  {
   "cell_type": "code",
   "execution_count": 70,
   "metadata": {
    "colab": {
     "base_uri": "https://localhost:8080/"
    },
    "id": "xj6SnTtJszqF",
    "outputId": "305ec2c1-e475-4362-ab35-1cb9793b06ce"
   },
   "outputs": [
    {
     "name": "stdout",
     "output_type": "stream",
     "text": [
      "Prédiction avec utilisateurs rapprochés (sans biais) :\n",
      "K voisins: 10   \t RMSE: 0.9969088271657383\t MAE: 0.7747192471509846\n",
      "K voisins: 20   \t RMSE: 0.961062402602581\t MAE: 0.7474123969513553\n",
      "K voisins: 30   \t RMSE: 0.9480968199525702\t MAE: 0.7377655114063223\n",
      "K voisins: 40   \t RMSE: 0.9406835140663938\t MAE: 0.7324787947530561\n",
      "K voisins: 50   \t RMSE: 0.9366530293256053\t MAE: 0.7298706610508532\n",
      "K voisins: 60   \t RMSE: 0.9338217420672252\t MAE: 0.7280765028755397\n",
      "K voisins: 70   \t RMSE: 0.9325869111341183\t MAE: 0.7273318802152884\n",
      "K voisins: 80   \t RMSE: 0.9315603808556411\t MAE: 0.7268895256845794\n",
      "K voisins: 90   \t RMSE: 0.9302903608108591\t MAE: 0.7263068381469302\n",
      "K voisins: 100  \t RMSE: 0.9301517269165757\t MAE: 0.7265207328553448\n"
     ]
    }
   ],
   "source": [
    "# Calcul de la similarité cosinus entre utilisateurs\n",
    "u_cos = cosinus_matrices(MUI_numpy, MUI_numpy)\n",
    "\n",
    "# Remettre à zéro de la diagonale\n",
    "np.fill_diagonal(u_cos, 0)\n",
    "\n",
    "# Trier des indices des utilisateurs du plus similaire au moins similaire\n",
    "sorted_idx = np.argsort(-u_cos, axis=1)\n",
    "\n",
    "# Définir une fonction pour récupérer les k voisins les plus proches\n",
    "def U_U_Voisin(k):\n",
    "    # Sélectionner les indices des k voisins les plus proches pour chaque utilisateur\n",
    "    top_k_idx = sorted_idx[:, :k]\n",
    "\n",
    "    # Créer un masque booléen pour identifier les voisins les plus proches\n",
    "    mask = np.zeros_like(u_cos, dtype=bool)\n",
    "    rows = np.arange(u_cos.shape[0])[:, None]\n",
    "    mask[rows, top_k_idx] = True\n",
    "\n",
    "    # Appliquer le masque à la matrice de similarité cosinus pour ne garder que les voisins pertinents\n",
    "    u_cos_filtered = np.where(mask, u_cos, 0)\n",
    "\n",
    "    # Appliquer le filtrage collaboratif sans biais avec les voisins sélectionnés\n",
    "    voisins_WB_U_U = filtre_collaboratif_sans_biais(MUI_numpy, u_cos_filtered, votes_moyenne_U_pred)\n",
    "\n",
    "    # Retourner les métriques d'erreur RMSE et MAE pour les prédictions générées\n",
    "    return RMSE_mat(voisins_WB_U_U, MUI_numpy), MAE_mat(voisins_WB_U_U, MUI_numpy)\n",
    "\n",
    "# Initialisation des listes pour stocker les résultats RMSE et MAE\n",
    "RMSE_mat_U_U, MAE_mat_U_U = [], []\n",
    "\n",
    "# Affichage des résultats pour différentes valeurs de k (nombre de voisins)\n",
    "print(\"Prédiction avec utilisateurs rapprochés (sans biais) :\")\n",
    "for k in range(10, 101, 10):  # Tester pour k voisins de 10 à 100 par pas de 10\n",
    "    # Calculer RMSE et MAE pour chaque k\n",
    "    RMSE_, MAE_ = U_U_Voisin(k)\n",
    "\n",
    "    # Ajouter les résultats à leurs listes respectives\n",
    "    RMSE_mat_U_U.append(RMSE_)\n",
    "    MAE_mat_U_U.append(MAE_)\n",
    "\n",
    "    # Afficher les résultats pour chaque valeur de k\n",
    "    print(f'K voisins: {k:<5}\\t RMSE: {RMSE_:<10}\\t MAE: {MAE_:<10}')"
   ]
  },
  {
   "cell_type": "code",
   "execution_count": 71,
   "metadata": {
    "colab": {
     "base_uri": "https://localhost:8080/"
    },
    "id": "uO7PXUvTW7U9",
    "outputId": "c5f60ce4-7ec4-4d5d-ecb5-fb5807e14ebf"
   },
   "outputs": [
    {
     "name": "stdout",
     "output_type": "stream",
     "text": [
      "Prédiction avec items rapprochés (sans biais) :\n",
      "K voisins: 10   \t RMSE: 0.9198097913579728\t MAE: 0.7112986804629463\n",
      "K voisins: 20   \t RMSE: 0.893188887984628\t MAE: 0.6951117986723635\n",
      "K voisins: 30   \t RMSE: 0.885831563117523\t MAE: 0.6915150271419889\n",
      "K voisins: 40   \t RMSE: 0.8831963928709401\t MAE: 0.6904292617381782\n",
      "K voisins: 50   \t RMSE: 0.8816758595864472\t MAE: 0.6900551810101925\n",
      "K voisins: 60   \t RMSE: 0.8818186979453801\t MAE: 0.6907441456126643\n",
      "K voisins: 70   \t RMSE: 0.8820066908856565\t MAE: 0.6916728911593186\n",
      "K voisins: 80   \t RMSE: 0.8828795276804812\t MAE: 0.6926199083081641\n",
      "K voisins: 90   \t RMSE: 0.88328107260464\t MAE: 0.6933107577788528\n",
      "K voisins: 100  \t RMSE: 0.8836624244468387\t MAE: 0.6938528144040552\n"
     ]
    }
   ],
   "source": [
    "## Approche Item\n",
    "i_cos = cosinus_matrices(MUI_numpy.T, MUI_numpy.T)\n",
    "np.fill_diagonal(i_cos, 0)\n",
    "sorted_idx = np.argsort(-i_cos, axis=1)\n",
    "\n",
    "def I_I_Voisin(k):\n",
    "    top_k_idx = sorted_idx[:, :k]\n",
    "    mask = np.zeros_like(i_cos, dtype=bool)\n",
    "    rows = np.arange(i_cos.shape[0])[:, None]\n",
    "    mask[rows, top_k_idx] = True\n",
    "    i_cos_filtered = np.where(mask, i_cos, 0)\n",
    "    voisins_WB_I_I = filtre_collaboratif_sans_biais(MUI_numpy.T, i_cos_filtered, votes_moyenne_I_pred.T).T\n",
    "    return RMSE_mat(voisins_WB_I_I, MUI_numpy), MAE_mat(voisins_WB_I_I, MUI_numpy)\n",
    "\n",
    "RMSE_mat_I_I, MAE_mat_I_I = [], []\n",
    "\n",
    "print(\"Prédiction avec items rapprochés (sans biais) :\")\n",
    "for k in range(10,101,10):\n",
    "    RMSE_, MAE_ = I_I_Voisin(k)\n",
    "    RMSE_mat_I_I.append(RMSE_)\n",
    "    MAE_mat_I_I.append(MAE_)\n",
    "    print(f'K voisins: {k:<5}\\t RMSE: {RMSE_:<10}\\t MAE: {MAE_:<10}')"
   ]
  },
  {
   "cell_type": "markdown",
   "metadata": {},
   "source": [
    "## BONUS 1"
   ]
  },
  {
   "cell_type": "code",
   "execution_count": 72,
   "metadata": {
    "colab": {
     "base_uri": "https://localhost:8080/",
     "height": 762
    },
    "id": "Jk25Q0qYtsGC",
    "outputId": "6c7e1e6a-4748-4ee8-c137-801f7095622a"
   },
   "outputs": [
    {
     "data": {
      "image/png": "[encoded data removed]",
      "text/plain": [
       "<Figure size 1280x960 with 1 Axes>"
      ]
     },
     "metadata": {},
     "output_type": "display_data"
    }
   ],
   "source": [
    "# Grphique des erreurs en fonction de la méthode (U-U ou I-I) et du nombre de voisins\n",
    "fig, ax = plt.subplots(dpi=200)\n",
    "ax.plot(range(10,101,10), RMSE_mat_U_U, marker='.', color='blue', linestyle='-', label=\"U_U - RMSE\")\n",
    "ax.plot(range(10,101,10), MAE_mat_U_U, marker='x', color='blue', linestyle='-', label=\"U_U - MAE\")\n",
    "ax.plot(range(10,101,10), RMSE_mat_I_I, marker='.', color='red', linestyle=':', label=\"I_I - RMSE\")\n",
    "ax.plot(range(10,101,10), MAE_mat_I_I, marker='x', color='red', linestyle=':', label=\"I_I - MAE\")\n",
    "ax.set_ylabel('RMSE/MAE')\n",
    "ax.set_xlabel('Nombre de voisins rapprochés')\n",
    "ax.set_title('Analyse comparatives des resultats - voisins rapprochés')\n",
    "ax.set_xticks(range(10,101,10))\n",
    "ax.grid(True, axis='y', linestyle='--', color='gray', alpha=0.5)\n",
    "ax.legend(ncol=2,loc=1)\n",
    "fig.tight_layout()"
   ]
  },
  {
   "cell_type": "markdown",
   "metadata": {
    "id": "IKnHGaitXW8u"
   },
   "source": [
    "# Conclusions\n",
    "- L'utilisation des items rapprochés, combinée à la correction des biais des items, permet d'obtenir des recommandations plus précises.\n",
    "- Le nombre idéal de voisins dépend de l'approche utilisée : pour l'approche I-I, un nombre de voisins d'environ 50 est optimal. On remarque qu'à partir de 50 voisins, les erreurs augmentent légèrement ce qui peut impacter la qualité de la performance.\n",
    "- Pour l'approche U-U, on remarque que les erreurs commencent à se stabiliser à partir de 60 voisins. C'est vrai que la performance optimale est atteinte pour 100 voisins, mais en raison d'efficacité de calculs, on peut se contenter de 60 étant donné que la différence n'est pas significative."
   ]
  },
  {
   "cell_type": "markdown",
   "metadata": {
    "id": "4I46CBelZIpU"
   },
   "source": [
    "# Conclusion 1 : L’impact des biais utilisateur/item et des voisins proches sur la précision des prédictions.\n",
    "- Le biais peut se manifester à la fois au niveau des utilisateurs et des items. Par exemple, certains utilisateurs ont tendance à noter plus généreusement ou plus sévèrement, tandis que certains items peuvent recevoir des évaluations systématiquement plus élevées ou plus basses en fonction de leur popularité ou de leur genre. Ces biais, s'ils ne sont pas corrigés, peuvent fausser les prédictions. La correction du biais, en normalisant par la moyenne des votes des utilisateurs et des items, permet de neutraliser ces effets. Cela permet des comparaisons plus justes entre les utilisateurs et les items, améliore la précision des recommandations, et permet de mieux prédire les préférences réelles d'un utilisateur pour un item donné.\n",
    "- L'idée des voisins proches est de trouver des utilisateurs ou des items similaires à ceux pour lesquels on doit prédire une note, et d’utiliser ces voisins pour effectuer une prédiction. L'utilisation des voisins proches améliore la précision des prédictions, car plutôt que de considérer toutes les données disponibles, il est plus efficace d'utiliser des voisins représentatifs, qui partagent des caractéristiques ou comportements similaires. Cela permet de réduire le bruit et d'augmenter la pertinence des recommandations.\n",
    "\n",
    "# Conclusion 2 : Comparaison des approches U-U et I-I pour identifier leurs forces et faiblesses respectives.\n",
    "- L'approche U-U recommande des items à un utilisateur en se basant sur les préférences des utilisateurs similaires. Elle prend en compte les préférences personnelles et fonctionne de manière efficace dans le cas où les données des utilisateurs sont nombreuses.\n",
    "- L'approche I-I recommande des items en fonction de leur similarité avec les items déjà appréciés par l'utilisateur. Cette méthode ne dépend pas directement des utilisateurs, mais des interactions entre les items. L'approche I-I peut être plus stable et plus efficace à long terme, car les goûts des utilisateurs peuvent changer, mais les caractéristiques des items restent souvent les mêmes. Cependant, cette approche peut manquer de personnalisation, car elle tend à favoriser les items populaires, dont les évaluations sont plus nombreuses.\n",
    "De plus, si un item n'a pas été évalué par beaucoup d'utilisateurs, il devient difficile de trouver des items similaires.  Tout cela peut avoir un impact sur la précision des recommandations."
   ]
  },
  {
   "cell_type": "markdown",
   "metadata": {
    "id": "nfuH6gjQ2hHU"
   },
   "source": [
    "## BONUS 2"
   ]
  },
  {
   "cell_type": "code",
   "execution_count": 84,
   "metadata": {
    "id": "422JBQ11L6uz"
   },
   "outputs": [],
   "source": [
    "# Fonction pour supprimer les lignes contenant des zéros dans la matrice\n",
    "def deleteZeroRows(row, col, mat):\n",
    "    mat_cp = np.copy(mat)\n",
    "    idx = np.where(np.isnan(mat_cp[:, col]))[0]\n",
    "    idx = [i for i in idx if i != row]  # Exclure la ligne en cours\n",
    "    mat_cp[idx, :] = np.nan  # Remplacer les lignes restantes par NaN\n",
    "    return mat_cp\n",
    "\n",
    "# Filtrage collaboratif sans biais avec suppression des zéros\n",
    "def filtre_collaboratif_sans_biais_deleteZero(row, col, V, W, votes_moyenne):\n",
    "    V, W = V.copy()[:, col], W.copy()\n",
    "    Bool_m = (~np.isnan(V))*1\n",
    "    V, W = np.nan_to_num(V), np.nan_to_num(W)\n",
    "    K = np.dot(np.abs(W), Bool_m) + 1e-30\n",
    "    nom = np.dot(W, V - np.where(V == 0, 0, votes_moyenne[:, col]))\n",
    "    return np.divide(nom, K) + votes_moyenne[row, col]\n",
    "\n",
    "# Fonction pour filtrer avec la similarité cosinus et suppression des zéros\n",
    "def cos_filter_deleteZero(row, col, mat, k):\n",
    "    mat_cp = np.copy(mat)\n",
    "    \n",
    "    # Calculer la similarité cosinus pour la ligne sélectionnée\n",
    "    u_cos = cosinus_matrices([mat_cp[row]], mat_cp)\n",
    "    u_cos[0, row] = 0  # Mettre à zéro la similarité avec soi-même\n",
    "    \n",
    "    # Trier la similarité de manière décroissante\n",
    "    sorted_idx = np.argsort(-u_cos, axis=1)\n",
    "    top_k_idx = sorted_idx[:, :k] \n",
    "    mask = np.zeros_like(u_cos, dtype=bool)\n",
    "    rows = np.arange(u_cos.shape[0])[:, None]\n",
    "    mask[rows, top_k_idx] = True\n",
    "    return np.where(mask, u_cos, 0)  # Remplacer les autres valeurs par 0\n",
    "\n",
    "# Calculer les votes moyens des utilisateurs\n",
    "def votes_moyenne_ligne(mat):\n",
    "    votes_moyenne = np.zeros_like(mat) \n",
    "    user_means = np.nanmean(mat, axis=1)\n",
    "    votes_moyenne[:] = user_means[:, np.newaxis]\n",
    "    return votes_moyenne\n",
    "\n",
    "# Fonction principale de filtrage avec la similarité cosinus filtrée\n",
    "def u_cos_filtered_deleteZero(mat, k):\n",
    "    mat_res = np.copy(mat)\n",
    "    \n",
    "    # Itération sur chaque ligne et chaque colonne de la matrice\n",
    "    for row in range(mat.shape[0]):\n",
    "        for col in range(mat.shape[1]):\n",
    "            mat_cp = np.copy(mat)\n",
    "            \n",
    "            # Générer la matrice avec les réponses non nulles\n",
    "            mat_ij = deleteZeroRows(row, col, mat_cp)\n",
    "            \n",
    "            # Calculer la similarité cosinus filtrée pour chaque position\n",
    "            u_cos_filtered_ij = cos_filter_deleteZero(row, col, mat_ij, k)\n",
    "            \n",
    "            # Calculer les votes moyens\n",
    "            votes_moyenne = votes_moyenne_ligne(mat_ij)\n",
    "            \n",
    "            # Appliquer le filtrage collaboratif sans biais\n",
    "            mat_res[row, col] = filtre_collaboratif_sans_biais_deleteZero(row, col, \n",
    "                                                                          mat_ij, \n",
    "                                                                          u_cos_filtered_ij, \n",
    "                                                                          votes_moyenne)[0]\n",
    "    \n",
    "    return mat_res"
   ]
  },
  {
   "cell_type": "markdown",
   "metadata": {},
   "source": [
    "### Application"
   ]
  },
  {
   "cell_type": "code",
   "execution_count": 77,
   "metadata": {},
   "outputs": [
    {
     "name": "stdout",
     "output_type": "stream",
     "text": [
      "------------------------------------------------------------\n",
      "Approche de filtrage avec voisins rapprochés (k=3)\n",
      "------------------------------------------------------------\n",
      "Matrice de similarité cosinus initiale :\n",
      "[[0.         0.         0.25819889 0.12171612 0.12524486]\n",
      " [0.         0.         0.40824829 0.96225045 0.99014754]\n",
      " [0.25819889 0.40824829 0.         0.54997194 0.40422604]\n",
      " [0.12171612 0.96225045 0.54997194 0.         0.95276992]\n",
      " [0.12524486 0.99014754 0.40422604 0.95276992 0.        ]]\n",
      "------------------------------------------------------------\n",
      "Matrice de similarité cosinus avec k voisins :\n",
      "[[0.         0.         0.25819889 0.12171612 0.12524486]\n",
      " [0.         0.         0.40824829 0.96225045 0.99014754]\n",
      " [0.         0.40824829 0.         0.54997194 0.40422604]\n",
      " [0.         0.96225045 0.54997194 0.         0.95276992]\n",
      " [0.         0.99014754 0.40422604 0.95276992 0.        ]]\n",
      "------------------------------------------------------------\n",
      "Matrice de prédictions :\n"
     ]
    },
    {
     "data": {
      "text/plain": [
       "array([[2.35924552, 0.33333333, 3.57152059, 3.        , 4.16904811],\n",
       "       [2.59576602, 1.33333333, 4.96687386, 4.        , 5.16904811],\n",
       "       [3.        , 2.33333333, 5.79925353, 5.        , 5.79925353],\n",
       "       [4.        , 1.33333333, 4.51536059, 4.        , 4.66336626],\n",
       "       [2.26243269, 3.66666667, 4.07259409, 3.66666667, 4.15704772]])"
      ]
     },
     "execution_count": 77,
     "metadata": {},
     "output_type": "execute_result"
    }
   ],
   "source": [
    "m = np.array([\n",
    "    [2, 4, np.nan, np.nan, np.nan],\n",
    "    [np.nan, np.nan, 4, np.nan, 4],\n",
    "    [5, np.nan, 5, 5, np.nan],\n",
    "    [2, np.nan, 5, np.nan, 5],\n",
    "    [np.nan, 1, 5, np.nan, 5]\n",
    "])\n",
    "\n",
    "print(\"-\"*60)\n",
    "print('Approche de filtrage avec voisins rapprochés (k=3)')\n",
    "print(\"-\"*60)\n",
    "\n",
    "k = 3\n",
    "u_cos = cosinus_matrices(m, m)\n",
    "np.fill_diagonal(u_cos, 0)\n",
    "print('Matrice de similarité cosinus initiale :')\n",
    "print(u_cos)\n",
    "print(\"-\"*60)\n",
    "\n",
    "sorted_idx = np.argsort(-u_cos, axis=1)\n",
    "top_k_idx = sorted_idx[:, :k]\n",
    "    \n",
    "mask = np.zeros_like(u_cos, dtype=bool)\n",
    "rows = np.arange(u_cos.shape[0])[:, None]\n",
    "mask[rows, top_k_idx] = True    \n",
    "u_cos_filtered = np.where(mask, u_cos, 0)\n",
    "print('Matrice de similarité cosinus avec k voisins :')\n",
    "print(u_cos_filtered)\n",
    "#  ---------------------------------------------\n",
    "print(\"-\"*60)\n",
    "votes_moyenne = np.zeros_like(m)\n",
    "user_means = np.nanmean(m, axis=1)\n",
    "votes_moyenne[:] = user_means[:, np.newaxis]\n",
    "# -----------------------------------------------------\n",
    "print('Matrice de prédictions :')\n",
    "filtre_collaboratif_sans_biais(m, u_cos_filtered, votes_moyenne)"
   ]
  },
  {
   "cell_type": "code",
   "execution_count": 85,
   "metadata": {},
   "outputs": [
    {
     "name": "stdout",
     "output_type": "stream",
     "text": [
      "--------------------------------------------------------------------------------\n",
      "Approche de filtrage avec voisins rapprochés avec des valeurs observées (k=3)\n",
      "--------------------------------------------------------------------------------\n",
      "Matrice de prédictions :\n"
     ]
    },
    {
     "name": "stderr",
     "output_type": "stream",
     "text": [
      "C:\\Users\\ettah\\AppData\\Local\\Temp\\ipykernel_30984\\1502842945.py:17: RuntimeWarning: invalid value encountered in divide\n",
      "  cos_sim = np.dot(A, B.T) / np.dot(col_norm_A, col_norm_B)\n",
      "C:\\Users\\ettah\\AppData\\Local\\Temp\\ipykernel_30984\\485814075.py:37: RuntimeWarning: Mean of empty slice\n",
      "  user_means = np.nanmean(mat, axis=1)\n"
     ]
    },
    {
     "data": {
      "text/plain": [
       "array([[2.35924552, 0.33333333, 3.57152059, 3.        , 4.16904811],\n",
       "       [2.59576602, 1.33333333, 4.96687386, 4.        , 5.16904811],\n",
       "       [3.31948553, 3.76252058, 5.79925353, 5.        , 5.79925353],\n",
       "       [3.8187907 , 1.74868769, 4.51536059, 4.        , 4.66336626],\n",
       "       [2.29658923, 4.66666667, 4.07259409, 3.66666667, 4.15704772]])"
      ]
     },
     "execution_count": 85,
     "metadata": {},
     "output_type": "execute_result"
    }
   ],
   "source": [
    "print(\"-\"*80)\n",
    "print('Approche de filtrage avec voisins rapprochés avec des valeurs observées (k=3)')\n",
    "print(\"-\"*80)\n",
    "print('Matrice de prédictions :')\n",
    "u_cos_filtered_deleteZero(m, 3)"
   ]
  },
  {
   "cell_type": "markdown",
   "metadata": {},
   "source": [
    "### Remarque"
   ]
  },
  {
   "cell_type": "markdown",
   "metadata": {},
   "source": [
    "Nous avons essayé d'appliquer la méthode de correction à l'ensemble des données mais le temps d'exécution est très long car on itère position par position pour prendre en compte les différents scénarios possibles. Pour cette raison, on a appliqué cette méthode à une petite matrice pour démontrer le fonctionnement et la logique."
   ]
  }
 ],
 "metadata": {
  "colab": {
   "provenance": []
  },
  "kernelspec": {
   "display_name": "Python 3 (ipykernel)",
   "language": "python",
   "name": "python3"
  },
  "language_info": {
   "codemirror_mode": {
    "name": "ipython",
    "version": 3
   },
   "file_extension": ".py",
   "mimetype": "text/x-python",
   "name": "python",
   "nbconvert_exporter": "python",
   "pygments_lexer": "ipython3",
   "version": "3.11.7"
  }
 },
 "nbformat": 4,
 "nbformat_minor": 4
}

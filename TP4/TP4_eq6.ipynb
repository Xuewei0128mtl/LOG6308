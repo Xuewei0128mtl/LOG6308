{
 "cells": [
  {
   "cell_type": "markdown",
   "metadata": {
    "id": "YAEpWf4vU9g-"
   },
   "source": [
    "## <center> École Polytechnique de Montréal <br> Département Génie Informatique et Génie Logiciel <br>  LOG6308 - Systèmes de recommandations <br> </center>\n",
    "\n",
    "## <center> TP4 -- TP4 — Approches de graphes </center>\n",
    "\n",
    "\n",
    "\n",
    "\n",
    "## Identification de l'équipe: TP4_eq6\n",
    "\n",
    "### Equipe numéro : 6\n",
    "\n",
    "### Membres:\n",
    "Mahacine Ettahri 2312965 (25% de contribution. Nature de la contribution : chaque coéquipière a implémenté et testé plusieurs idées différentes inspirées de l’état de l’art, pour finalement combiner les meilleures méthodes.)\n",
    "\n",
    "Xuewei Li 1879356 (25% de contribution. Nature de la contribution : chaque coéquipière a implémenté et testé plusieurs idées différentes inspirées de l’état de l’art, pour finalement combiner les meilleures méthodes.)\n",
    "\n",
    "Gianolli Dorcélus 2231256  (25% de contribution. Nature de la contribution : chaque coéquipière a implémenté et testé plusieurs idées différentes inspirées de l’état de l’art, pour finalement combiner les meilleures méthodes.)\n",
    "\n",
    "Béhouba Manassé Kouamé 2387171 (25% de contribution. Nature de la contribution : chaque coéquipière a implémenté et testé plusieurs idées différentes inspirées de l’état de l’art, pour finalement combiner les meilleures méthodes.)\n",
    "\n",
    "<br>\n",
    "\n",
    "**Nature de la contribution:** Décrivez brièvement ce qui a été fait par chaque membre de l’équipe. Tous les membres sont censés contribuer au développement. Bien que chaque membre puisse effectuer différentes tâches, vous devez vous efforcer d’obtenir une répartition égale du travail. Soyez précis sur la contribution de chacun."
   ]
  },
  {
   "cell_type": "markdown",
   "metadata": {
    "id": "DvpmF78Ru7MA"
   },
   "source": [
    "## Enoncé du TP\n",
    "\n",
    "### Introduction\n",
    "La description du TP se trouve sur le site du cours https://cours.polymtl.ca/MDesmarais/log6308/20251/Tp/tp4.html\n",
    "\n",
    "Dans le cadre de ce TP vous devez participer a une competition en equipe sur Kaggle. Le lien de la competition est le suivant: https://www.kaggle.com/competitions/log-6308-h-25-tp-4-competition-v-2\n",
    "\n",
    "\n",
    "### Contexte général\n",
    "Vous travaillez avec un jeu de données contenant des articles. Pour un groupe de 100 articles des references ont ete retiré : votre objectif est de prédire ces articles.\n",
    "\n",
    "Pour évaluer vos prédictions, vous utiliserez deux métriques :\n",
    "\n",
    "- NDCG\n"
   ]
  },
  {
   "cell_type": "markdown",
   "metadata": {
    "id": "m8rgHYtau7MB"
   },
   "source": [
    "### Jeux de données\n",
    "\n",
    "Vous avez 4 fichiers à votre disposition:\n",
    "\n",
    "- **TP4-matrice-adjacence.dgt**:\tMétadonnées des articles (avec références).\n",
    "- **TP4-articles2.csv**:\tMétadonnées des articles (sans références). Ces articles sont référencés mais leurs références ne sont pas incluses dans le graphe (somme de la ligne est 0).\n",
    "- **TP4-ids.csv**:\tIdentifiants des articles (67294).\n",
    "- **TP4-ids-test.csv**:\tIdentifiants des articles de tests (100). Ces articles sont inclus dans les 67294 du graphe, mais 5 de leur références ont été effacées et servent de recommandations potentielles considérées pertinentes pour la phase de test.\n",
    "\n",
    "### Librairies permises\n",
    "\n",
    "- numpy\n",
    "- pandas\n",
    "- seaborn\n",
    "- pandas\n",
    "- matplotlib.pyplot\n",
    "- scipy\n",
    "- networkx\n",
    "- tqdm\n",
    "- scikit-learn\n",
    "\n",
    "\n",
    "### Rédaction et remise du rapport\n",
    "\n",
    "- Ce notebook constitue à la fois votre code et votre rapport. Il contient un squelette pour guider votre travail.\n",
    "\n",
    "- Complétez directement le notebook, vous êtes libres de créer des nouvelles cellules de code ou de texte.\n",
    "\n",
    "- <u>**IMPORTANT**</u> Remettez le ZIP contenant les données et le notebook sur Moodle avec le nom `<Groupe>_eq<Numero_Equipe>.ipynb` pour le notebook et `<Groupe>_eq<Numero_Equipe>.zip` pour le zip. Si vous décidez de rédiger un rapport, vous devez alors aussi inclure un fichier PDF\n",
    "\n",
    "\n",
    "### CRITÈRES\n",
    "\n",
    "Analyse (50%)\n",
    "- Justification des choix: choix des algorithmes et des paramètres justifiés et pertinents.\n",
    "- Performance: performance des algorithmes évaluée et comparée de manière rigoureuse (précision, NDCG).\n",
    "- Interprétation: résultats interprétés en fonction du contexte du problème et des objectifs du TP.\n",
    "- Discussion: brève discussion des forces, faiblesses et limites des approches utilisées.\n",
    "- Difficultés: mention des difficultés rencontrées et des solutions apportées s'il y a lieu.\n",
    "\n",
    "Code (30%)\n",
    "- Lisibilité: code clair, bien commenté et conforme aux conventions de style.\n",
    "- Efficacité: utilisation efficace des bibliothèques et des structures de données.\n",
    "- Reproductibilité: code reproductible avec des instructions claires pour l'exécution.\n",
    "\n",
    "Présentation (20%)\n",
    "- Structure et clarté.\n",
    "- Qualité de la langue.\n",
    "- Respect des consignes de l'énoncé.\n",
    "- Sources citées correctement.\n",
    "\n",
    "\n",
    "### CODE D’HONNEUR\n",
    "\n",
    "- __Règle 1__:  Le plagiat de code est bien évidemment interdit. Toute utilisation de code doit être référencée adéquatement. Vous __ne pouvez pas__ soumettre un code écrit par quelqu’un d’autre.\n",
    "\n",
    "- __Règle 2__: Vous êtes libres de discuter des idées et des détails de mise en œuvre avec d'autres équipes. Cependant, vous ne pouvez en aucun cas consulter le code d'une autre équipe ou incorporer leur code dans votre TP.\n",
    "\n",
    "- __Règle 3__:  Vous ne pouvez pas partager votre code publiquement (par exemple, dans un dépôt GitHub public) tant que le cours n'est pas fini.\n",
    "\n",
    "- __Règle 4__:  Vous ne devez par partarger vos fichiers de soumis sur Kaggle."
   ]
  },
  {
   "cell_type": "code",
   "execution_count": 1,
   "metadata": {
    "id": "bh74cfaKZUcg"
   },
   "outputs": [],
   "source": [
    "# !pip install networkx==3.0 scipy==1.10\n",
    "# !pip install faiss-cpu\n",
    "# !pip install torch\n",
    "# !pip install transformers\n",
    "# !pip install accelerate>=0.26.0"
   ]
  },
  {
   "cell_type": "code",
   "execution_count": 1,
   "metadata": {
    "id": "x4odbOSCU4Wa"
   },
   "outputs": [],
   "source": [
    "import numpy as np\n",
    "import pandas as pd\n",
    "import seaborn as sns\n",
    "import pandas as pd\n",
    "import random\n",
    "import matplotlib.pyplot as plt\n",
    "import scipy\n",
    "import scipy.io\n",
    "import scipy.sparse as sp\n",
    "from scipy.sparse import csr_matrix\n",
    "import networkx as nx\n",
    "from tqdm import tqdm\n",
    "from sklearn import preprocessing as pp\n",
    "from sklearn.model_selection import train_test_split\n",
    "from sklearn.metrics.pairwise import cosine_similarity\n",
    "import torch\n",
    "import torch.nn as nn\n",
    "from torch.utils.data import Dataset, DataLoader\n",
    "from transformers import AutoTokenizer, AutoModel, AutoModelForCausalLM\n",
    "from collections import Counter\n",
    "import time\n",
    "import os\n",
    "import copy\n",
    "import gc\n",
    "import faiss"
   ]
  },
  {
   "cell_type": "markdown",
   "metadata": {
    "id": "c3Yy2OCC0_qe"
   },
   "source": [
    "#### Loading the Data"
   ]
  },
  {
   "cell_type": "code",
   "execution_count": 3,
   "metadata": {
    "id": "ROSS5qhN1Cbr"
   },
   "outputs": [],
   "source": [
    "# Lire les données et construire le graphe\n",
    "M             = scipy.io.mmread('Data/TP4-matrice-adjacence.dgt').tocsr()\n",
    "G_directed     = nx.from_numpy_array(M, create_using=nx.DiGraph())\n",
    "G_undirected = nx.from_numpy_array(M, create_using=nx.Graph())\n",
    "node_ids_csv  = pd.read_csv('Data/TP4-ids.csv', sep=\",\")\n",
    "node_ids_csv.rename(columns={\"x\": \"id\"}, inplace=True)\n",
    "node_ids_test_csv  = pd.read_csv('Data/TP4-ids-test.csv', sep=\",\")"
   ]
  },
  {
   "cell_type": "code",
   "execution_count": 4,
   "metadata": {
    "id": "qh68QkU2u7MI"
   },
   "outputs": [],
   "source": [
    "# Obtenir la liste des indices de test\n",
    "test_nodes_ids_list = node_ids_test_csv['idx'].tolist()\n",
    "test_idxs = (node_ids_test_csv['idx'] - 1).tolist()"
   ]
  },
  {
   "cell_type": "code",
   "execution_count": 5,
   "metadata": {
    "id": "qUAzJPLdu7MI"
   },
   "outputs": [],
   "source": [
    "# Lire les métadonnées des articles\n",
    "articles_1 = pd.read_csv('Data/TP4-articles1.csv')\n",
    "articles_2 = pd.read_csv('Data/TP4-articles2.csv')"
   ]
  },
  {
   "cell_type": "code",
   "execution_count": 6,
   "metadata": {
    "id": "gwhu63JHu7MJ",
    "outputId": "4c0806d6-dd04-404b-d18e-b42015b635a9"
   },
   "outputs": [
    {
     "data": {
      "text/html": [
       "<div>\n",
       "<style scoped>\n",
       "    .dataframe tbody tr th:only-of-type {\n",
       "        vertical-align: middle;\n",
       "    }\n",
       "\n",
       "    .dataframe tbody tr th {\n",
       "        vertical-align: top;\n",
       "    }\n",
       "\n",
       "    .dataframe thead th {\n",
       "        text-align: right;\n",
       "    }\n",
       "</style>\n",
       "<table border=\"1\" class=\"dataframe\">\n",
       "  <thead>\n",
       "    <tr style=\"text-align: right;\">\n",
       "      <th></th>\n",
       "      <th>Unnamed: 0_x</th>\n",
       "      <th>id</th>\n",
       "      <th>title</th>\n",
       "      <th>year</th>\n",
       "      <th>authors</th>\n",
       "      <th>abstract</th>\n",
       "      <th>Unnamed: 0_y</th>\n",
       "      <th>n</th>\n",
       "    </tr>\n",
       "  </thead>\n",
       "  <tbody>\n",
       "    <tr>\n",
       "      <th>0</th>\n",
       "      <td>1</td>\n",
       "      <td>58437722ac44360f1082eeb7</td>\n",
       "      <td>Unsupervised Neural Hidden Markov Models.</td>\n",
       "      <td>2016</td>\n",
       "      <td>[{'_id': '562ce81f45cedb3398cfaa99', 'name': '...</td>\n",
       "      <td>In this work, we present the first results for...</td>\n",
       "      <td>1</td>\n",
       "      <td>1</td>\n",
       "    </tr>\n",
       "    <tr>\n",
       "      <th>1</th>\n",
       "      <td>2</td>\n",
       "      <td>573695ff6e3b12023e513394</td>\n",
       "      <td>Exploring the Limits of Language Modeling.</td>\n",
       "      <td>2016</td>\n",
       "      <td>[{'_id': '562c7bc245cedb3398c36ee5', 'name': '...</td>\n",
       "      <td>In this work we explore recent advances in Rec...</td>\n",
       "      <td>2</td>\n",
       "      <td>2</td>\n",
       "    </tr>\n",
       "    <tr>\n",
       "      <th>2</th>\n",
       "      <td>3</td>\n",
       "      <td>56d81592dabfae2eee6f4c65</td>\n",
       "      <td>A Hierarchical Pitman−Yor Process HMM for Unsu...</td>\n",
       "      <td>2011</td>\n",
       "      <td>[{'_id': '54480ee0dabfae87b7dce29c', 'name': '...</td>\n",
       "      <td></td>\n",
       "      <td>3</td>\n",
       "      <td>3</td>\n",
       "    </tr>\n",
       "    <tr>\n",
       "      <th>3</th>\n",
       "      <td>4</td>\n",
       "      <td>53e9ad2db7602d97037103c6</td>\n",
       "      <td>Painless unsupervised learning with features</td>\n",
       "      <td>2010</td>\n",
       "      <td>[{'name': 'Taylor Berg-Kirkpatrick', 'org': 'U...</td>\n",
       "      <td>We show how features can easily be added to st...</td>\n",
       "      <td>4</td>\n",
       "      <td>4</td>\n",
       "    </tr>\n",
       "    <tr>\n",
       "      <th>4</th>\n",
       "      <td>5</td>\n",
       "      <td>53e9bd8cb7602d9704a36c0b</td>\n",
       "      <td>Unsupervised part-of-speech tagging with bilin...</td>\n",
       "      <td>2011</td>\n",
       "      <td>[{'name': 'Dipanjan Das', 'org': 'Carnegie Mel...</td>\n",
       "      <td>We describe a novel approach for inducing unsu...</td>\n",
       "      <td>5</td>\n",
       "      <td>5</td>\n",
       "    </tr>\n",
       "  </tbody>\n",
       "</table>\n",
       "</div>"
      ],
      "text/plain": [
       "   Unnamed: 0_x                        id  \\\n",
       "0             1  58437722ac44360f1082eeb7   \n",
       "1             2  573695ff6e3b12023e513394   \n",
       "2             3  56d81592dabfae2eee6f4c65   \n",
       "3             4  53e9ad2db7602d97037103c6   \n",
       "4             5  53e9bd8cb7602d9704a36c0b   \n",
       "\n",
       "                                               title  year  \\\n",
       "0          Unsupervised Neural Hidden Markov Models.  2016   \n",
       "1         Exploring the Limits of Language Modeling.  2016   \n",
       "2  A Hierarchical Pitman−Yor Process HMM for Unsu...  2011   \n",
       "3       Painless unsupervised learning with features  2010   \n",
       "4  Unsupervised part-of-speech tagging with bilin...  2011   \n",
       "\n",
       "                                             authors  \\\n",
       "0  [{'_id': '562ce81f45cedb3398cfaa99', 'name': '...   \n",
       "1  [{'_id': '562c7bc245cedb3398c36ee5', 'name': '...   \n",
       "2  [{'_id': '54480ee0dabfae87b7dce29c', 'name': '...   \n",
       "3  [{'name': 'Taylor Berg-Kirkpatrick', 'org': 'U...   \n",
       "4  [{'name': 'Dipanjan Das', 'org': 'Carnegie Mel...   \n",
       "\n",
       "                                            abstract  Unnamed: 0_y  n  \n",
       "0  In this work, we present the first results for...             1  1  \n",
       "1  In this work we explore recent advances in Rec...             2  2  \n",
       "2                                                                3  3  \n",
       "3  We show how features can easily be added to st...             4  4  \n",
       "4  We describe a novel approach for inducing unsu...             5  5  "
      ]
     },
     "execution_count": 6,
     "metadata": {},
     "output_type": "execute_result"
    }
   ],
   "source": [
    "#  Regrouper les métadonnées des articles dans un seul dataframe\n",
    "articles = pd.concat([articles_1, articles_2], ignore_index=True)\n",
    "articles_idx = pd.merge(articles, node_ids_csv, on=\"id\", how=\"inner\")\n",
    "articles_idx['title'] = articles_idx['title'].fillna('')\n",
    "articles_idx['abstract'] = articles_idx['abstract'].fillna('')\n",
    "articles_idx.head()"
   ]
  },
  {
   "cell_type": "markdown",
   "metadata": {},
   "source": [
    "*** Nous avons choisi un sous-ensemble d’articles, autre que le jeu de test, pour évaluer la performance des algorithmes en calculant la précision."
   ]
  },
  {
   "cell_type": "code",
   "execution_count": 7,
   "metadata": {},
   "outputs": [],
   "source": [
    "random.seed(42)\n",
    "article_samples = random.choices(node_ids_csv['n'], k=100)\n",
    "article_samples_idx = (np.array(article_samples) - 1).tolist()"
   ]
  },
  {
   "cell_type": "code",
   "execution_count": 8,
   "metadata": {},
   "outputs": [],
   "source": [
    "def get_precision(recommandations, references):\n",
    "    true_positives = set(recommandations) & set(references)\n",
    "    precision = len(true_positives) / len(recommandations)\n",
    "    return precision"
   ]
  },
  {
   "cell_type": "markdown",
   "metadata": {
    "id": "quvEzFEVu7MK"
   },
   "source": [
    "## 1. Premier algorithme : PageRank personnalisé"
   ]
  },
  {
   "cell_type": "markdown",
   "metadata": {
    "id": "n8QKrv3Hu7MK"
   },
   "source": [
    "**Justification des choix :**\n",
    "\n",
    "L'approche de PageRank personnalisé est choisie pour mieux évaluer l'article cible et son degré de relation avec un ensemble d'articles connexes. Cette méthode permet de pondérer l'importance des nœuds dans le graphe en fonction de leur pertinence par rapport au nœud étudié. Pour ce faire, un vecteur d'atténuation personnalisé est appliqué, influençant ainsi la distribution des probabilités de téléportation. Ce vecteur favorise les références jugées pertinentes pour l'article cible.\n",
    "\n",
    "\n",
    "**Versions de la méthode :**\n",
    "\n",
    "Nous proposons une version de base et deux versions personnalisées :\n",
    "1. Version de base\n",
    "   \n",
    "2. Version graphe orienté : On ne considère que les articles successeurs, c'est-à-dire les articles qui sont directement référencés par chaque article cible.\n",
    "\n",
    "3. Version graphe non orienté : Ici, on considère tous les voisins (articles qui peuvent être soit des successeurs directs, soit des articles qui pointent vers l'article cible). Cela donne un graphe non orienté avec des voisins comme candidats potentiels."
   ]
  },
  {
   "cell_type": "markdown",
   "metadata": {
    "id": "IpEMbD-8u7ML"
   },
   "source": [
    "### 1.1 Version de base  "
   ]
  },
  {
   "cell_type": "code",
   "execution_count": 9,
   "metadata": {
    "id": "8xS_YG4du7ML",
    "outputId": "ee5e0ebf-316f-4542-94f8-a035c46c147d"
   },
   "outputs": [
    {
     "name": "stderr",
     "output_type": "stream",
     "text": [
      "100it [00:48,  2.05it/s]\n"
     ]
    }
   ],
   "source": [
    "recommendation_pr_base = []\n",
    "\n",
    "for i, test_idx in tqdm(enumerate(test_idxs)):\n",
    "    # Récupérer la liste des successeurs directs de l’article dans le graphe orienté\n",
    "    successors_list =  list(G_directed.successors(test_idx))\n",
    "\n",
    "    pagerank_scores = nx.pagerank(G_directed)\n",
    "\n",
    "    # Exclure l’article de test et ses successeurs\n",
    "    pagerank_scores[test_idx] = 0\n",
    "\n",
    "    for item in pagerank_scores:\n",
    "        if item in successors_list:\n",
    "            pagerank_scores[item] = 0\n",
    "\n",
    "    # Trier les articles par score de PageRank décroissant\n",
    "    sorted_pagerank = sorted(pagerank_scores.items(), key=lambda x: x[1], reverse=True)\n",
    "    sorted_articles_idx = [i[0] for i in sorted_pagerank][:20]\n",
    "\n",
    "    recommendation_pr_base.append({'Article_id' : test_idx+1, 'Recommendations' : [i+1 for i in sorted_articles_idx]})"
   ]
  },
  {
   "cell_type": "code",
   "execution_count": 10,
   "metadata": {
    "id": "L67m7Nnju7MM",
    "outputId": "f95ac74f-03ce-43e8-ec34-cb8b77e0b75c"
   },
   "outputs": [
    {
     "data": {
      "text/html": [
       "<div>\n",
       "<style scoped>\n",
       "    .dataframe tbody tr th:only-of-type {\n",
       "        vertical-align: middle;\n",
       "    }\n",
       "\n",
       "    .dataframe tbody tr th {\n",
       "        vertical-align: top;\n",
       "    }\n",
       "\n",
       "    .dataframe thead th {\n",
       "        text-align: right;\n",
       "    }\n",
       "</style>\n",
       "<table border=\"1\" class=\"dataframe\">\n",
       "  <thead>\n",
       "    <tr style=\"text-align: right;\">\n",
       "      <th></th>\n",
       "      <th>Article_id</th>\n",
       "      <th>Recommendations</th>\n",
       "    </tr>\n",
       "  </thead>\n",
       "  <tbody>\n",
       "    <tr>\n",
       "      <th>0</th>\n",
       "      <td>34</td>\n",
       "      <td>[816, 715, 218, 2191, 6160, 12666, 14870, 2110, 13445, 2407, 6164, 2635, 26, 814, 9010, 5622, 3974, 5680, 74, 4589]</td>\n",
       "    </tr>\n",
       "    <tr>\n",
       "      <th>1</th>\n",
       "      <td>316</td>\n",
       "      <td>[816, 715, 218, 2191, 6160, 12666, 14870, 2110, 13445, 2407, 6164, 2635, 26, 814, 9010, 5622, 3974, 5680, 74, 4589]</td>\n",
       "    </tr>\n",
       "    <tr>\n",
       "      <th>2</th>\n",
       "      <td>469</td>\n",
       "      <td>[816, 715, 218, 2191, 6160, 12666, 14870, 2110, 13445, 2407, 6164, 2635, 26, 814, 9010, 5622, 3974, 5680, 74, 4589]</td>\n",
       "    </tr>\n",
       "    <tr>\n",
       "      <th>3</th>\n",
       "      <td>687</td>\n",
       "      <td>[816, 715, 218, 2191, 6160, 12666, 14870, 2110, 13445, 2407, 6164, 2635, 26, 814, 9010, 5622, 3974, 5680, 74, 4589]</td>\n",
       "    </tr>\n",
       "    <tr>\n",
       "      <th>4</th>\n",
       "      <td>738</td>\n",
       "      <td>[816, 715, 218, 2191, 6160, 12666, 14870, 2110, 13445, 2407, 6164, 2635, 26, 814, 9010, 5622, 3974, 5680, 74, 4589]</td>\n",
       "    </tr>\n",
       "    <tr>\n",
       "      <th>...</th>\n",
       "      <td>...</td>\n",
       "      <td>...</td>\n",
       "    </tr>\n",
       "    <tr>\n",
       "      <th>95</th>\n",
       "      <td>17877</td>\n",
       "      <td>[816, 715, 218, 2191, 6160, 12666, 14870, 2110, 13445, 2407, 6164, 2635, 26, 814, 9010, 5622, 3974, 5680, 74, 4589]</td>\n",
       "    </tr>\n",
       "    <tr>\n",
       "      <th>96</th>\n",
       "      <td>18168</td>\n",
       "      <td>[816, 715, 218, 2191, 6160, 12666, 14870, 2110, 13445, 2407, 6164, 2635, 26, 814, 9010, 5622, 3974, 5680, 74, 4589]</td>\n",
       "    </tr>\n",
       "    <tr>\n",
       "      <th>97</th>\n",
       "      <td>18295</td>\n",
       "      <td>[816, 715, 218, 2191, 6160, 12666, 14870, 2110, 13445, 2407, 6164, 2635, 26, 814, 9010, 5622, 3974, 5680, 74, 4589]</td>\n",
       "    </tr>\n",
       "    <tr>\n",
       "      <th>98</th>\n",
       "      <td>18344</td>\n",
       "      <td>[816, 715, 218, 2191, 6160, 12666, 14870, 2110, 13445, 2407, 6164, 2635, 26, 814, 9010, 5622, 3974, 5680, 74, 4589]</td>\n",
       "    </tr>\n",
       "    <tr>\n",
       "      <th>99</th>\n",
       "      <td>18517</td>\n",
       "      <td>[816, 715, 218, 2191, 6160, 12666, 14870, 2110, 13445, 2407, 6164, 2635, 26, 814, 9010, 5622, 3974, 5680, 74, 4589]</td>\n",
       "    </tr>\n",
       "  </tbody>\n",
       "</table>\n",
       "<p>100 rows × 2 columns</p>\n",
       "</div>"
      ],
      "text/plain": [
       "    Article_id  \\\n",
       "0           34   \n",
       "1          316   \n",
       "2          469   \n",
       "3          687   \n",
       "4          738   \n",
       "..         ...   \n",
       "95       17877   \n",
       "96       18168   \n",
       "97       18295   \n",
       "98       18344   \n",
       "99       18517   \n",
       "\n",
       "                                                                                                        Recommendations  \n",
       "0   [816, 715, 218, 2191, 6160, 12666, 14870, 2110, 13445, 2407, 6164, 2635, 26, 814, 9010, 5622, 3974, 5680, 74, 4589]  \n",
       "1   [816, 715, 218, 2191, 6160, 12666, 14870, 2110, 13445, 2407, 6164, 2635, 26, 814, 9010, 5622, 3974, 5680, 74, 4589]  \n",
       "2   [816, 715, 218, 2191, 6160, 12666, 14870, 2110, 13445, 2407, 6164, 2635, 26, 814, 9010, 5622, 3974, 5680, 74, 4589]  \n",
       "3   [816, 715, 218, 2191, 6160, 12666, 14870, 2110, 13445, 2407, 6164, 2635, 26, 814, 9010, 5622, 3974, 5680, 74, 4589]  \n",
       "4   [816, 715, 218, 2191, 6160, 12666, 14870, 2110, 13445, 2407, 6164, 2635, 26, 814, 9010, 5622, 3974, 5680, 74, 4589]  \n",
       "..                                                                                                                  ...  \n",
       "95  [816, 715, 218, 2191, 6160, 12666, 14870, 2110, 13445, 2407, 6164, 2635, 26, 814, 9010, 5622, 3974, 5680, 74, 4589]  \n",
       "96  [816, 715, 218, 2191, 6160, 12666, 14870, 2110, 13445, 2407, 6164, 2635, 26, 814, 9010, 5622, 3974, 5680, 74, 4589]  \n",
       "97  [816, 715, 218, 2191, 6160, 12666, 14870, 2110, 13445, 2407, 6164, 2635, 26, 814, 9010, 5622, 3974, 5680, 74, 4589]  \n",
       "98  [816, 715, 218, 2191, 6160, 12666, 14870, 2110, 13445, 2407, 6164, 2635, 26, 814, 9010, 5622, 3974, 5680, 74, 4589]  \n",
       "99  [816, 715, 218, 2191, 6160, 12666, 14870, 2110, 13445, 2407, 6164, 2635, 26, 814, 9010, 5622, 3974, 5680, 74, 4589]  \n",
       "\n",
       "[100 rows x 2 columns]"
      ]
     },
     "execution_count": 10,
     "metadata": {},
     "output_type": "execute_result"
    }
   ],
   "source": [
    "pd.set_option('display.max_colwidth', None)\n",
    "pd.DataFrame(recommendation_pr_base)"
   ]
  },
  {
   "cell_type": "code",
   "execution_count": 11,
   "metadata": {
    "id": "vOyH5TE7u7MM",
    "outputId": "b9e4d36d-adf2-4ea7-8768-c6b178f55588"
   },
   "outputs": [
    {
     "name": "stdout",
     "output_type": "stream",
     "text": [
      "Pagerank (version de base)\n",
      "NDCG Score (Kaggle) : 0.00260\n"
     ]
    }
   ],
   "source": [
    "print(f\"Pagerank (version de base)\")\n",
    "print(f\"NDCG Score (Kaggle) : 0.00260\")"
   ]
  },
  {
   "cell_type": "markdown",
   "metadata": {
    "id": "aQllfaEuu7MN"
   },
   "source": [
    "### 1.2 PageRank personnalisé - Graphe orienté  "
   ]
  },
  {
   "cell_type": "code",
   "execution_count": 12,
   "metadata": {
    "id": "85zFfdtEu7MN",
    "outputId": "e7df64c4-26cc-42d7-d96b-57e16cb29712"
   },
   "outputs": [
    {
     "name": "stderr",
     "output_type": "stream",
     "text": [
      "100it [00:51,  1.95it/s]\n"
     ]
    }
   ],
   "source": [
    "recommendation_prp_directed = []\n",
    "\n",
    "for i, test_idx in tqdm(enumerate(test_idxs)):\n",
    "    successors_list =  list(G_directed.successors(test_idx))\n",
    "\n",
    "    # Vecteur de personnalisation : Affecter une probabilité uniforme à chaque successeur direct, et zéro à tous les autres nœuds\n",
    "    pagerank_scores = nx.pagerank(G_directed,\n",
    "                                  personalization={node: 1/len(successors_list) if node in successors_list else 0 for node in G_directed.nodes()})\n",
    "\n",
    "    pagerank_scores[test_idx] = 0\n",
    "\n",
    "    for item in pagerank_scores:\n",
    "        if item in successors_list:\n",
    "            pagerank_scores[item] = 0\n",
    "\n",
    "    sorted_pagerank = sorted(pagerank_scores.items(), key=lambda x: x[1], reverse=True)\n",
    "    sorted_articles_idx = [i[0] for i in sorted_pagerank][:20]\n",
    "\n",
    "    recommendation_prp_directed.append({'Article_id' : test_idx+1, 'Recommendations' : [i+1 for i in sorted_articles_idx]})"
   ]
  },
  {
   "cell_type": "code",
   "execution_count": 13,
   "metadata": {
    "id": "U7yV7sSKu7MO",
    "outputId": "aca29a06-8e73-47e8-a057-f57589c81648"
   },
   "outputs": [
    {
     "data": {
      "text/html": [
       "<div>\n",
       "<style scoped>\n",
       "    .dataframe tbody tr th:only-of-type {\n",
       "        vertical-align: middle;\n",
       "    }\n",
       "\n",
       "    .dataframe tbody tr th {\n",
       "        vertical-align: top;\n",
       "    }\n",
       "\n",
       "    .dataframe thead th {\n",
       "        text-align: right;\n",
       "    }\n",
       "</style>\n",
       "<table border=\"1\" class=\"dataframe\">\n",
       "  <thead>\n",
       "    <tr style=\"text-align: right;\">\n",
       "      <th></th>\n",
       "      <th>Article_id</th>\n",
       "      <th>Recommendations</th>\n",
       "    </tr>\n",
       "  </thead>\n",
       "  <tbody>\n",
       "    <tr>\n",
       "      <th>0</th>\n",
       "      <td>34</td>\n",
       "      <td>[66, 816, 214, 391, 26, 332, 99, 6160, 546, 814, 353, 543, 6164, 974, 804, 98, 1910, 3972, 194, 41]</td>\n",
       "    </tr>\n",
       "    <tr>\n",
       "      <th>1</th>\n",
       "      <td>316</td>\n",
       "      <td>[404, 142, 318, 18773, 27, 311, 18774, 306, 147, 18709, 1573, 1572, 432, 302, 2637, 18874, 2905, 928, 2407, 2924]</td>\n",
       "    </tr>\n",
       "    <tr>\n",
       "      <th>2</th>\n",
       "      <td>469</td>\n",
       "      <td>[816, 391, 66, 814, 560, 6160, 6164, 21277, 715, 16322, 926, 353, 810, 7621, 473, 4401, 509, 3188, 1023, 55538]</td>\n",
       "    </tr>\n",
       "    <tr>\n",
       "      <th>3</th>\n",
       "      <td>687</td>\n",
       "      <td>[26, 218, 400, 772, 222, 713, 66, 275, 816, 2191, 181, 1176, 939, 788, 728, 353, 399, 277, 366, 334]</td>\n",
       "    </tr>\n",
       "    <tr>\n",
       "      <th>4</th>\n",
       "      <td>738</td>\n",
       "      <td>[18719, 902, 218, 6240, 897, 2407, 2191, 2192, 3452, 6239, 2635, 6452, 6454, 6160, 816, 2110, 3451, 3450, 6164, 391]</td>\n",
       "    </tr>\n",
       "    <tr>\n",
       "      <th>...</th>\n",
       "      <td>...</td>\n",
       "      <td>...</td>\n",
       "    </tr>\n",
       "    <tr>\n",
       "      <th>95</th>\n",
       "      <td>17877</td>\n",
       "      <td>[816, 6160, 6164, 3866, 3719, 40831, 2635, 21687, 2984, 6166, 5258, 4049, 6162, 2404, 6167, 2973, 2691, 6388, 4677, 5899]</td>\n",
       "    </tr>\n",
       "    <tr>\n",
       "      <th>96</th>\n",
       "      <td>18168</td>\n",
       "      <td>[1152, 5567, 20239, 1519, 10518, 838, 3371, 19614, 3521, 7062, 4239, 1240, 4230, 3517, 20240, 218, 20278, 23342, 1644, 329]</td>\n",
       "    </tr>\n",
       "    <tr>\n",
       "      <th>97</th>\n",
       "      <td>18295</td>\n",
       "      <td>[61745, 10785, 14244, 22710, 22707, 22708, 45025, 21641, 22715, 4124, 2972, 5248, 13125, 58483, 6416, 22719, 816, 23055, 6160, 45026]</td>\n",
       "    </tr>\n",
       "    <tr>\n",
       "      <th>98</th>\n",
       "      <td>18344</td>\n",
       "      <td>[218, 1645, 1641, 3449, 1144, 1170, 2191, 66, 2192, 26, 7153, 7154, 276, 32739, 1163, 6938, 33495, 7149, 7258, 7180]</td>\n",
       "    </tr>\n",
       "    <tr>\n",
       "      <th>99</th>\n",
       "      <td>18517</td>\n",
       "      <td>[24588, 24483, 24654, 3814, 5622, 24486, 4490, 19079, 24422, 34494, 52629, 24597, 4495, 24489, 24472, 5934, 62211, 24600, 24473, 1848]</td>\n",
       "    </tr>\n",
       "  </tbody>\n",
       "</table>\n",
       "<p>100 rows × 2 columns</p>\n",
       "</div>"
      ],
      "text/plain": [
       "    Article_id  \\\n",
       "0           34   \n",
       "1          316   \n",
       "2          469   \n",
       "3          687   \n",
       "4          738   \n",
       "..         ...   \n",
       "95       17877   \n",
       "96       18168   \n",
       "97       18295   \n",
       "98       18344   \n",
       "99       18517   \n",
       "\n",
       "                                                                                                                           Recommendations  \n",
       "0                                      [66, 816, 214, 391, 26, 332, 99, 6160, 546, 814, 353, 543, 6164, 974, 804, 98, 1910, 3972, 194, 41]  \n",
       "1                        [404, 142, 318, 18773, 27, 311, 18774, 306, 147, 18709, 1573, 1572, 432, 302, 2637, 18874, 2905, 928, 2407, 2924]  \n",
       "2                          [816, 391, 66, 814, 560, 6160, 6164, 21277, 715, 16322, 926, 353, 810, 7621, 473, 4401, 509, 3188, 1023, 55538]  \n",
       "3                                     [26, 218, 400, 772, 222, 713, 66, 275, 816, 2191, 181, 1176, 939, 788, 728, 353, 399, 277, 366, 334]  \n",
       "4                     [18719, 902, 218, 6240, 897, 2407, 2191, 2192, 3452, 6239, 2635, 6452, 6454, 6160, 816, 2110, 3451, 3450, 6164, 391]  \n",
       "..                                                                                                                                     ...  \n",
       "95               [816, 6160, 6164, 3866, 3719, 40831, 2635, 21687, 2984, 6166, 5258, 4049, 6162, 2404, 6167, 2973, 2691, 6388, 4677, 5899]  \n",
       "96             [1152, 5567, 20239, 1519, 10518, 838, 3371, 19614, 3521, 7062, 4239, 1240, 4230, 3517, 20240, 218, 20278, 23342, 1644, 329]  \n",
       "97   [61745, 10785, 14244, 22710, 22707, 22708, 45025, 21641, 22715, 4124, 2972, 5248, 13125, 58483, 6416, 22719, 816, 23055, 6160, 45026]  \n",
       "98                    [218, 1645, 1641, 3449, 1144, 1170, 2191, 66, 2192, 26, 7153, 7154, 276, 32739, 1163, 6938, 33495, 7149, 7258, 7180]  \n",
       "99  [24588, 24483, 24654, 3814, 5622, 24486, 4490, 19079, 24422, 34494, 52629, 24597, 4495, 24489, 24472, 5934, 62211, 24600, 24473, 1848]  \n",
       "\n",
       "[100 rows x 2 columns]"
      ]
     },
     "execution_count": 13,
     "metadata": {},
     "output_type": "execute_result"
    }
   ],
   "source": [
    "pd.DataFrame(recommendation_prp_directed)"
   ]
  },
  {
   "cell_type": "code",
   "execution_count": 14,
   "metadata": {
    "id": "ZpTL6Qxbu7MO",
    "outputId": "92e8d255-6238-4467-a27a-cab6dba0ebb0"
   },
   "outputs": [
    {
     "name": "stdout",
     "output_type": "stream",
     "text": [
      "Pagerank personnalisé (graphe orienté)\n",
      "NDCG Score (Kaggle) : 0.14807\n"
     ]
    }
   ],
   "source": [
    "print(f\"Pagerank personnalisé (graphe orienté)\")\n",
    "print(f\"NDCG Score (Kaggle) : 0.14807\")"
   ]
  },
  {
   "cell_type": "markdown",
   "metadata": {
    "id": "guJXWWldu7MP"
   },
   "source": [
    "### 1.3 PageRank personnalisé - Graphe non orienté  "
   ]
  },
  {
   "cell_type": "code",
   "execution_count": 15,
   "metadata": {
    "id": "YSpNhzbzu7MQ",
    "outputId": "c8716f6c-dfe0-4790-8c35-a75a49e6bd76"
   },
   "outputs": [
    {
     "name": "stderr",
     "output_type": "stream",
     "text": [
      "100it [01:27,  1.14it/s]\n"
     ]
    }
   ],
   "source": [
    "recommendation_prp_undirected = []\n",
    "\n",
    "for i, test_idx in tqdm(enumerate(test_idxs)):\n",
    "    # Obtenir la liste des voisins directs de l’article dans le graphe non-orienté\n",
    "    neighbors_list =  list(G_undirected.neighbors(test_idx))\n",
    "\n",
    "    # Vecteur de personnalisation : Affecter une probabilité uniforme à chaque voisins direct, et zéro à tous les autres nœuds\n",
    "    pagerank_scores = nx.pagerank(G_undirected,\n",
    "                                  personalization={node: 1/len(neighbors_list) if node in neighbors_list else 0 for node in G_undirected.nodes()})\n",
    "\n",
    "    pagerank_scores[test_idx] = 0\n",
    "\n",
    "    for item in pagerank_scores:\n",
    "        if item in neighbors_list:\n",
    "            pagerank_scores[item] = 0\n",
    "\n",
    "    sorted_pagerank = sorted(pagerank_scores.items(), key=lambda x: x[1], reverse=True)\n",
    "    sorted_articles_idx = [i[0] for i in sorted_pagerank][:20]\n",
    "\n",
    "    recommendation_prp_undirected.append({'Article_id' : test_idx+1, 'Recommendations' : [i+1 for i in sorted_articles_idx]})"
   ]
  },
  {
   "cell_type": "code",
   "execution_count": 16,
   "metadata": {
    "id": "2INr0Bomu7MR",
    "outputId": "ceb0ec51-f782-4377-8ccd-bf844ebd8e30"
   },
   "outputs": [
    {
     "data": {
      "text/html": [
       "<div>\n",
       "<style scoped>\n",
       "    .dataframe tbody tr th:only-of-type {\n",
       "        vertical-align: middle;\n",
       "    }\n",
       "\n",
       "    .dataframe tbody tr th {\n",
       "        vertical-align: top;\n",
       "    }\n",
       "\n",
       "    .dataframe thead th {\n",
       "        text-align: right;\n",
       "    }\n",
       "</style>\n",
       "<table border=\"1\" class=\"dataframe\">\n",
       "  <thead>\n",
       "    <tr style=\"text-align: right;\">\n",
       "      <th></th>\n",
       "      <th>Article_id</th>\n",
       "      <th>Recommendations</th>\n",
       "    </tr>\n",
       "  </thead>\n",
       "  <tbody>\n",
       "    <tr>\n",
       "      <th>0</th>\n",
       "      <td>34</td>\n",
       "      <td>[42, 66, 41, 214, 99, 26, 142, 53, 43, 1554, 647, 9168, 10178, 3410, 15, 546, 3405, 49, 18063, 549]</td>\n",
       "    </tr>\n",
       "    <tr>\n",
       "      <th>1</th>\n",
       "      <td>316</td>\n",
       "      <td>[1663, 48, 142, 147, 404, 317, 444, 2639, 42233, 42509, 605, 46, 2895, 4979, 19296, 300, 305, 9709, 425, 567]</td>\n",
       "    </tr>\n",
       "    <tr>\n",
       "      <th>2</th>\n",
       "      <td>469</td>\n",
       "      <td>[19786, 1675, 3409, 66, 473, 4033, 42, 498, 417, 435, 99, 21277, 804, 105, 543, 3405, 391, 549, 214, 6710]</td>\n",
       "    </tr>\n",
       "    <tr>\n",
       "      <th>3</th>\n",
       "      <td>687</td>\n",
       "      <td>[26, 181, 59, 772, 286, 1268, 274, 400, 127, 1219, 713, 1176, 759, 117, 18648, 6, 90, 124, 74, 272]</td>\n",
       "    </tr>\n",
       "    <tr>\n",
       "      <th>4</th>\n",
       "      <td>738</td>\n",
       "      <td>[26, 1105, 218, 939, 1194, 1107, 6133, 391, 3974, 498, 2305, 7058, 773, 706, 353, 4308, 5728, 1106, 5955, 3160]</td>\n",
       "    </tr>\n",
       "    <tr>\n",
       "      <th>...</th>\n",
       "      <td>...</td>\n",
       "      <td>...</td>\n",
       "    </tr>\n",
       "    <tr>\n",
       "      <th>95</th>\n",
       "      <td>17877</td>\n",
       "      <td>[22660, 11264, 3866, 40831, 2692, 2691, 1828, 46946, 6466, 3783, 46952, 4677, 4053, 725, 15386, 3790, 4049, 6402, 13422, 47380]</td>\n",
       "    </tr>\n",
       "    <tr>\n",
       "      <th>96</th>\n",
       "      <td>18168</td>\n",
       "      <td>[23359, 23278, 3517, 1152, 28396, 4239, 20239, 16785, 3521, 64808, 1240, 4241, 1519, 41276, 61465, 3371, 10518, 61945, 64807, 3638]</td>\n",
       "    </tr>\n",
       "    <tr>\n",
       "      <th>97</th>\n",
       "      <td>18295</td>\n",
       "      <td>[10785, 4052, 22711, 3879, 22707, 22710, 26656, 22708, 52075, 22717, 15239, 322, 24252, 45025, 42593, 61745, 11324, 22783, 22699, 52066]</td>\n",
       "    </tr>\n",
       "    <tr>\n",
       "      <th>98</th>\n",
       "      <td>18344</td>\n",
       "      <td>[1641, 1645, 1163, 1170, 1153, 7258, 1166, 1169, 1147, 1644, 1165, 1637, 46440, 1144, 18341, 18346, 1647, 1158, 1160, 1650]</td>\n",
       "    </tr>\n",
       "    <tr>\n",
       "      <th>99</th>\n",
       "      <td>18517</td>\n",
       "      <td>[24483, 24597, 24607, 13068, 24600, 24564, 24585, 13071, 24575, 24571, 24606, 24556, 24616, 24422, 24605, 24577, 24654, 24649, 24572, 24540]</td>\n",
       "    </tr>\n",
       "  </tbody>\n",
       "</table>\n",
       "<p>100 rows × 2 columns</p>\n",
       "</div>"
      ],
      "text/plain": [
       "    Article_id  \\\n",
       "0           34   \n",
       "1          316   \n",
       "2          469   \n",
       "3          687   \n",
       "4          738   \n",
       "..         ...   \n",
       "95       17877   \n",
       "96       18168   \n",
       "97       18295   \n",
       "98       18344   \n",
       "99       18517   \n",
       "\n",
       "                                                                                                                                 Recommendations  \n",
       "0                                            [42, 66, 41, 214, 99, 26, 142, 53, 43, 1554, 647, 9168, 10178, 3410, 15, 546, 3405, 49, 18063, 549]  \n",
       "1                                  [1663, 48, 142, 147, 404, 317, 444, 2639, 42233, 42509, 605, 46, 2895, 4979, 19296, 300, 305, 9709, 425, 567]  \n",
       "2                                     [19786, 1675, 3409, 66, 473, 4033, 42, 498, 417, 435, 99, 21277, 804, 105, 543, 3405, 391, 549, 214, 6710]  \n",
       "3                                            [26, 181, 59, 772, 286, 1268, 274, 400, 127, 1219, 713, 1176, 759, 117, 18648, 6, 90, 124, 74, 272]  \n",
       "4                                [26, 1105, 218, 939, 1194, 1107, 6133, 391, 3974, 498, 2305, 7058, 773, 706, 353, 4308, 5728, 1106, 5955, 3160]  \n",
       "..                                                                                                                                           ...  \n",
       "95               [22660, 11264, 3866, 40831, 2692, 2691, 1828, 46946, 6466, 3783, 46952, 4677, 4053, 725, 15386, 3790, 4049, 6402, 13422, 47380]  \n",
       "96           [23359, 23278, 3517, 1152, 28396, 4239, 20239, 16785, 3521, 64808, 1240, 4241, 1519, 41276, 61465, 3371, 10518, 61945, 64807, 3638]  \n",
       "97      [10785, 4052, 22711, 3879, 22707, 22710, 26656, 22708, 52075, 22717, 15239, 322, 24252, 45025, 42593, 61745, 11324, 22783, 22699, 52066]  \n",
       "98                   [1641, 1645, 1163, 1170, 1153, 7258, 1166, 1169, 1147, 1644, 1165, 1637, 46440, 1144, 18341, 18346, 1647, 1158, 1160, 1650]  \n",
       "99  [24483, 24597, 24607, 13068, 24600, 24564, 24585, 13071, 24575, 24571, 24606, 24556, 24616, 24422, 24605, 24577, 24654, 24649, 24572, 24540]  \n",
       "\n",
       "[100 rows x 2 columns]"
      ]
     },
     "execution_count": 16,
     "metadata": {},
     "output_type": "execute_result"
    }
   ],
   "source": [
    "pd.DataFrame(recommendation_prp_undirected)"
   ]
  },
  {
   "cell_type": "code",
   "execution_count": 17,
   "metadata": {},
   "outputs": [
    {
     "name": "stderr",
     "output_type": "stream",
     "text": [
      "100it [01:28,  1.13it/s]\n"
     ]
    }
   ],
   "source": [
    "# Évaluation des performances - échantillon d'articles autres que les articles de test\n",
    "recommendation_prp_undirected_samples = []\n",
    "\n",
    "for i, test_idx in tqdm(enumerate(article_samples_idx)):\n",
    "    \n",
    "    neighbors_list =  list(G_undirected.neighbors(test_idx))\n",
    "\n",
    "    pagerank_scores = nx.pagerank(G_undirected,\n",
    "                                  personalization={node: 1/len(neighbors_list) if node in neighbors_list else 0 for node in G_undirected.nodes()})\n",
    "\n",
    "    pagerank_scores[test_idx] = 0\n",
    "\n",
    "    sorted_pagerank = sorted(pagerank_scores.items(), key=lambda x: x[1], reverse=True)\n",
    "    sorted_articles_idx = [i[0] for i in sorted_pagerank][:20]\n",
    "\n",
    "    recommendation_prp_undirected_samples.append({'Article_id' : test_idx+1, 'Recommendations' : [i+1 for i in sorted_articles_idx]})"
   ]
  },
  {
   "cell_type": "code",
   "execution_count": 19,
   "metadata": {},
   "outputs": [],
   "source": [
    "precision_prp_undirected = []\n",
    "for item in recommendation_prp_undirected_samples:\n",
    "    test_id = articles_idx[articles_idx['n'] == item['Article_id']]['n'].values[0]\n",
    "    recommandations_ids = [articles_idx[articles_idx['n'] == i]['n'].values[0] for i in item['Recommendations']]\n",
    "    references_ids = [i + 1 for i in list(G_directed.successors(item['Article_id'] - 1))]\n",
    "    precision_prp_undirected.append(get_precision(recommandations_ids, references_ids))"
   ]
  },
  {
   "cell_type": "code",
   "execution_count": 20,
   "metadata": {},
   "outputs": [
    {
     "name": "stdout",
     "output_type": "stream",
     "text": [
      "Pagerank personnalisé (graphe non orienté)\n",
      "Pécision (échantillon d'articles autres que les articles de test) : 0.4025\n"
     ]
    }
   ],
   "source": [
    "print(f\"Pagerank personnalisé (graphe non orienté)\")\n",
    "print(f\"Pécision (échantillon d'articles autres que les articles de test) : {np.mean(precision_prp_undirected)}\")"
   ]
  },
  {
   "cell_type": "code",
   "execution_count": 21,
   "metadata": {
    "id": "jhRMzd3du7MR",
    "outputId": "cbccf459-e6e6-4879-ac04-0e14b93a2988"
   },
   "outputs": [
    {
     "name": "stdout",
     "output_type": "stream",
     "text": [
      "NDCG Score (Kaggle) : 0.32912\n"
     ]
    }
   ],
   "source": [
    "print(f\"NDCG Score (Kaggle) : 0.32912\")"
   ]
  },
  {
   "cell_type": "markdown",
   "metadata": {
    "id": "rrb97U5Bu7MS"
   },
   "source": [
    "## 2. Deuxième algorithme : Approche de filtrage collaboratif"
   ]
  },
  {
   "cell_type": "markdown",
   "metadata": {
    "id": "jL13fQMeu7MT"
   },
   "source": [
    "**Justification des choix :**\n",
    "\n",
    "L'approche de filtrage collaboratif basée sur la similarité cosinus est une technique couramment utilisée dans les systèmes de recommandation. Cette méthode quantifie la similarité entre les articles en analysant leurs relations de citation. Plus précisément, elle évalue l'angle entre les vecteurs qui représentent les profils de citation des articles. Elle permet ainsi de recommander des articles similaires à un article cible. En particulier, deux articles partageant des références fondamentales communes seront ainsi reconnus comme similaires même en l'absence de citations directes entre eux.\n",
    "\n",
    "**Versions de la méthode :**\n",
    "\n",
    "Nous proposons deux versions de cette approche :\n",
    "\n",
    "1. Version 1 (matrice d’adjacence) : On ne considère que les articles successeurs, c'est-à-dire les articles qui sont directement référencés par chaque article cible.\n",
    "\n",
    "2. Version 2 (matrice d’adjacence en intégrant des liens supplémentaires) : Ici, on considère tous les voisins (articles qui peuvent être soit des successeurs directs, soit des articles qui pointent vers l'article cible)."
   ]
  },
  {
   "cell_type": "markdown",
   "metadata": {
    "id": "VPIo5Mdgu7MT"
   },
   "source": [
    "### 2.1 Filtrage collaboratif basé sur la matrice d'adjacence"
   ]
  },
  {
   "cell_type": "code",
   "execution_count": 22,
   "metadata": {
    "id": "vRfGbq64u7MU"
   },
   "outputs": [],
   "source": [
    "# Calcul de la similarité cosinus entre les lignes de la matrice\n",
    "M_sparse = csr_matrix(M)\n",
    "similarity = cosine_similarity(M_sparse, M_sparse, dense_output=False).tolil()\n",
    "\n",
    "# Éliminer la similarité d'un article avec lui-même\n",
    "similarity.setdiag(0.)\n",
    "\n",
    "# Supprimer les liens existants\n",
    "indices = np.argwhere(M == 1)\n",
    "for idx in indices:\n",
    "    row, col = idx\n",
    "    similarity[row, col] = 0\n",
    "\n",
    "recommendation_cos_sim = []\n",
    "\n",
    "# Générer les recommandations basées sur la similarité cosinus\n",
    "for idx in test_idxs:\n",
    "    sorted_similarity = np.argsort(similarity[idx].toarray()[0])[::-1][:20]\n",
    "    recommendation_cos_sim.append({'Article_id' : idx+1, 'Recommendations' : [i+1 for i in sorted_similarity]})"
   ]
  },
  {
   "cell_type": "code",
   "execution_count": 23,
   "metadata": {
    "id": "BloiPCFEu7MU",
    "outputId": "886ac44c-2e22-48d3-c117-ca985d5236f7"
   },
   "outputs": [
    {
     "data": {
      "text/html": [
       "<div>\n",
       "<style scoped>\n",
       "    .dataframe tbody tr th:only-of-type {\n",
       "        vertical-align: middle;\n",
       "    }\n",
       "\n",
       "    .dataframe tbody tr th {\n",
       "        vertical-align: top;\n",
       "    }\n",
       "\n",
       "    .dataframe thead th {\n",
       "        text-align: right;\n",
       "    }\n",
       "</style>\n",
       "<table border=\"1\" class=\"dataframe\">\n",
       "  <thead>\n",
       "    <tr style=\"text-align: right;\">\n",
       "      <th></th>\n",
       "      <th>Article_id</th>\n",
       "      <th>Recommendations</th>\n",
       "    </tr>\n",
       "  </thead>\n",
       "  <tbody>\n",
       "    <tr>\n",
       "      <th>0</th>\n",
       "      <td>34</td>\n",
       "      <td>[417, 18711, 9170, 36, 18949, 38956, 3409, 19564, 61854, 3345, 448, 3405, 18924, 43, 3161, 19120, 38953, 18673, 49, 482]</td>\n",
       "    </tr>\n",
       "    <tr>\n",
       "      <th>1</th>\n",
       "      <td>316</td>\n",
       "      <td>[307, 2953, 13728, 20446, 48, 3657, 3828, 5254, 305, 2639, 16557, 2284, 61862, 567, 40754, 5266, 2922, 21519, 16568, 15349]</td>\n",
       "    </tr>\n",
       "    <tr>\n",
       "      <th>2</th>\n",
       "      <td>469</td>\n",
       "      <td>[3991, 3409, 19786, 7379, 24244, 51297, 4683, 6710, 65248, 4033, 29021, 1086, 24253, 6948, 18769, 38953, 1675, 3068, 1042, 18040]</td>\n",
       "    </tr>\n",
       "    <tr>\n",
       "      <th>3</th>\n",
       "      <td>687</td>\n",
       "      <td>[684, 688, 183, 11123, 2795, 2778, 7907, 8027, 1347, 128, 2863, 35802, 1219, 19115, 2880, 2827, 124, 1937, 36150, 272]</td>\n",
       "    </tr>\n",
       "    <tr>\n",
       "      <th>4</th>\n",
       "      <td>738</td>\n",
       "      <td>[73, 23809, 7791, 29659, 17320, 56886, 773, 6133, 7481, 17435, 6405, 7042, 8710, 6297, 54688, 18461, 5567, 30008, 33521, 30816]</td>\n",
       "    </tr>\n",
       "    <tr>\n",
       "      <th>...</th>\n",
       "      <td>...</td>\n",
       "      <td>...</td>\n",
       "    </tr>\n",
       "    <tr>\n",
       "      <th>95</th>\n",
       "      <td>17877</td>\n",
       "      <td>[22660, 46946, 11262, 1828, 46952, 11264, 40831, 11261, 17884, 15370, 66462, 10869, 21334, 4056, 46954, 25913, 64980, 55990, 21330, 29005]</td>\n",
       "    </tr>\n",
       "    <tr>\n",
       "      <th>96</th>\n",
       "      <td>18168</td>\n",
       "      <td>[23359, 61945, 28396, 30134, 26597, 4269, 67269, 23278, 44112, 23428, 65006, 65094, 13999, 55572, 23358, 23273, 61465, 44113, 16299, 23333]</td>\n",
       "    </tr>\n",
       "    <tr>\n",
       "      <th>97</th>\n",
       "      <td>18295</td>\n",
       "      <td>[22711, 40911, 37574, 4052, 21267, 24252, 22699, 22796, 10785, 42947, 22716, 1571, 62294, 40188, 25840, 11324, 52066, 58512, 47054, 2617]</td>\n",
       "    </tr>\n",
       "    <tr>\n",
       "      <th>98</th>\n",
       "      <td>18344</td>\n",
       "      <td>[19134, 7296, 7258, 65584, 16643, 19313, 66236, 66286, 38964, 9982, 9901, 66314, 41540, 18546, 23122, 1170, 19303, 7223, 41509, 18189]</td>\n",
       "    </tr>\n",
       "    <tr>\n",
       "      <th>99</th>\n",
       "      <td>18517</td>\n",
       "      <td>[24592, 24618, 24554, 24577, 24600, 4513, 24574, 24628, 24621, 24538, 24604, 4509, 4514, 24648, 24629, 24607, 24605, 24571, 24692, 24585]</td>\n",
       "    </tr>\n",
       "  </tbody>\n",
       "</table>\n",
       "<p>100 rows × 2 columns</p>\n",
       "</div>"
      ],
      "text/plain": [
       "    Article_id  \\\n",
       "0           34   \n",
       "1          316   \n",
       "2          469   \n",
       "3          687   \n",
       "4          738   \n",
       "..         ...   \n",
       "95       17877   \n",
       "96       18168   \n",
       "97       18295   \n",
       "98       18344   \n",
       "99       18517   \n",
       "\n",
       "                                                                                                                                Recommendations  \n",
       "0                      [417, 18711, 9170, 36, 18949, 38956, 3409, 19564, 61854, 3345, 448, 3405, 18924, 43, 3161, 19120, 38953, 18673, 49, 482]  \n",
       "1                   [307, 2953, 13728, 20446, 48, 3657, 3828, 5254, 305, 2639, 16557, 2284, 61862, 567, 40754, 5266, 2922, 21519, 16568, 15349]  \n",
       "2             [3991, 3409, 19786, 7379, 24244, 51297, 4683, 6710, 65248, 4033, 29021, 1086, 24253, 6948, 18769, 38953, 1675, 3068, 1042, 18040]  \n",
       "3                        [684, 688, 183, 11123, 2795, 2778, 7907, 8027, 1347, 128, 2863, 35802, 1219, 19115, 2880, 2827, 124, 1937, 36150, 272]  \n",
       "4               [73, 23809, 7791, 29659, 17320, 56886, 773, 6133, 7481, 17435, 6405, 7042, 8710, 6297, 54688, 18461, 5567, 30008, 33521, 30816]  \n",
       "..                                                                                                                                          ...  \n",
       "95   [22660, 46946, 11262, 1828, 46952, 11264, 40831, 11261, 17884, 15370, 66462, 10869, 21334, 4056, 46954, 25913, 64980, 55990, 21330, 29005]  \n",
       "96  [23359, 61945, 28396, 30134, 26597, 4269, 67269, 23278, 44112, 23428, 65006, 65094, 13999, 55572, 23358, 23273, 61465, 44113, 16299, 23333]  \n",
       "97    [22711, 40911, 37574, 4052, 21267, 24252, 22699, 22796, 10785, 42947, 22716, 1571, 62294, 40188, 25840, 11324, 52066, 58512, 47054, 2617]  \n",
       "98       [19134, 7296, 7258, 65584, 16643, 19313, 66236, 66286, 38964, 9982, 9901, 66314, 41540, 18546, 23122, 1170, 19303, 7223, 41509, 18189]  \n",
       "99    [24592, 24618, 24554, 24577, 24600, 4513, 24574, 24628, 24621, 24538, 24604, 4509, 4514, 24648, 24629, 24607, 24605, 24571, 24692, 24585]  \n",
       "\n",
       "[100 rows x 2 columns]"
      ]
     },
     "execution_count": 23,
     "metadata": {},
     "output_type": "execute_result"
    }
   ],
   "source": [
    "pd.DataFrame(recommendation_cos_sim)"
   ]
  },
  {
   "cell_type": "code",
   "execution_count": 24,
   "metadata": {
    "id": "bniYrA4nu7MV",
    "outputId": "0bc684ab-0db8-4411-b406-ac55594851b8"
   },
   "outputs": [
    {
     "name": "stdout",
     "output_type": "stream",
     "text": [
      "Filtrage collaboratif basé sur la matrice d'adjacence\n",
      "NDCG Score (Kaggle) : 0.12201\n"
     ]
    }
   ],
   "source": [
    "print(f\"Filtrage collaboratif basé sur la matrice d'adjacence\")\n",
    "print(f\"NDCG Score (Kaggle) : 0.12201\")"
   ]
  },
  {
   "cell_type": "markdown",
   "metadata": {
    "id": "AfXXfus_u7MV"
   },
   "source": [
    "### 2.2 Filtrage collaboratif basé sur la matrice d'adjacence (avec l'intégration de liens supplémentaires)"
   ]
  },
  {
   "cell_type": "code",
   "execution_count": 25,
   "metadata": {
    "id": "X1m3AR98u7MV"
   },
   "outputs": [],
   "source": [
    "# Construire la matrice M_MT_sparse en additionnant M_sparse et sa transposée MT_sparse\n",
    "M_sparse = csr_matrix(M)\n",
    "MT_sparse = M_sparse.copy().T\n",
    "M_MT_sparse = M_sparse + MT_sparse\n",
    "similarity = cosine_similarity(M_MT_sparse, M_MT_sparse, dense_output=False).tolil()\n",
    "\n",
    "similarity.setdiag(0.)\n",
    "\n",
    "indices = np.argwhere(M_sparse == 1)\n",
    "for idx in indices:\n",
    "    row, col = idx\n",
    "    similarity[row, col] = 0\n",
    "\n",
    "recommendation_cos_sim_links = []\n",
    "\n",
    "for idx in test_idxs:\n",
    "    sorted_similarity = np.argsort(similarity[idx].toarray()[0])[::-1][:20]\n",
    "    recommendation_cos_sim_links.append({'Article_id' : idx+1, 'Recommendations' : [i+1 for i in sorted_similarity]})"
   ]
  },
  {
   "cell_type": "code",
   "execution_count": 26,
   "metadata": {
    "id": "IipibGGxu7MW",
    "outputId": "9fd1faf8-b7a2-4724-87c0-375b7e5d6671"
   },
   "outputs": [
    {
     "data": {
      "text/html": [
       "<div>\n",
       "<style scoped>\n",
       "    .dataframe tbody tr th:only-of-type {\n",
       "        vertical-align: middle;\n",
       "    }\n",
       "\n",
       "    .dataframe tbody tr th {\n",
       "        vertical-align: top;\n",
       "    }\n",
       "\n",
       "    .dataframe thead th {\n",
       "        text-align: right;\n",
       "    }\n",
       "</style>\n",
       "<table border=\"1\" class=\"dataframe\">\n",
       "  <thead>\n",
       "    <tr style=\"text-align: right;\">\n",
       "      <th></th>\n",
       "      <th>Article_id</th>\n",
       "      <th>Recommendations</th>\n",
       "    </tr>\n",
       "  </thead>\n",
       "  <tbody>\n",
       "    <tr>\n",
       "      <th>0</th>\n",
       "      <td>34</td>\n",
       "      <td>[42, 43, 417, 41, 38953, 1554, 49, 36, 154, 3540, 19062, 38956, 3405, 482, 546, 98, 18063, 16747, 454, 2300]</td>\n",
       "    </tr>\n",
       "    <tr>\n",
       "      <th>1</th>\n",
       "      <td>316</td>\n",
       "      <td>[307, 19296, 9705, 48, 305, 5254, 3828, 302, 4320, 9718, 40754, 567, 145, 43167, 21519, 297, 2284, 1620, 9707, 38969]</td>\n",
       "    </tr>\n",
       "    <tr>\n",
       "      <th>2</th>\n",
       "      <td>469</td>\n",
       "      <td>[3409, 19786, 473, 21279, 51297, 4033, 65248, 3991, 4683, 457, 24244, 29021, 6710, 4091, 417, 4136, 2377, 24253, 3408, 1675]</td>\n",
       "    </tr>\n",
       "    <tr>\n",
       "      <th>3</th>\n",
       "      <td>687</td>\n",
       "      <td>[1268, 688, 684, 2778, 19115, 1219, 11123, 110, 183, 670, 8027, 61845, 286, 686, 6, 272, 683, 9, 124, 18646]</td>\n",
       "    </tr>\n",
       "    <tr>\n",
       "      <th>4</th>\n",
       "      <td>738</td>\n",
       "      <td>[28041, 17320, 1203, 39234, 5871, 21053, 1105, 30225, 4308, 773, 6604, 8710, 5958, 31481, 3160, 6133, 5991, 7791, 902, 939]</td>\n",
       "    </tr>\n",
       "    <tr>\n",
       "      <th>...</th>\n",
       "      <td>...</td>\n",
       "      <td>...</td>\n",
       "    </tr>\n",
       "    <tr>\n",
       "      <th>95</th>\n",
       "      <td>17877</td>\n",
       "      <td>[66462, 46946, 22660, 1828, 40831, 11264, 64980, 46952, 11262, 58507, 13422, 11261, 15370, 25913, 6466, 3220, 42587, 42581, 57095, 21337]</td>\n",
       "    </tr>\n",
       "    <tr>\n",
       "      <th>96</th>\n",
       "      <td>18168</td>\n",
       "      <td>[28396, 65935, 23359, 20278, 30134, 23342, 18170, 26597, 61945, 67269, 23278, 20240, 372, 44112, 7676, 65094, 4241, 18187, 18153, 3517]</td>\n",
       "    </tr>\n",
       "    <tr>\n",
       "      <th>97</th>\n",
       "      <td>18295</td>\n",
       "      <td>[10785, 24252, 22707, 22710, 22711, 22790, 45413, 4052, 11324, 22699, 22797, 51083, 45409, 22783, 22796, 26781, 22793, 21769, 52075, 22708]</td>\n",
       "    </tr>\n",
       "    <tr>\n",
       "      <th>98</th>\n",
       "      <td>18344</td>\n",
       "      <td>[1169, 7258, 66292, 1647, 1158, 9982, 1155, 1170, 19312, 9942, 23122, 1160, 19313, 9901, 19134, 18352, 65584, 18546, 18342, 9962]</td>\n",
       "    </tr>\n",
       "    <tr>\n",
       "      <th>99</th>\n",
       "      <td>18517</td>\n",
       "      <td>[24600, 24554, 24592, 4509, 24574, 24564, 24552, 24571, 4513, 24483, 4514, 24542, 24538, 24559, 24620, 24621, 24618, 24577, 24626, 24607]</td>\n",
       "    </tr>\n",
       "  </tbody>\n",
       "</table>\n",
       "<p>100 rows × 2 columns</p>\n",
       "</div>"
      ],
      "text/plain": [
       "    Article_id  \\\n",
       "0           34   \n",
       "1          316   \n",
       "2          469   \n",
       "3          687   \n",
       "4          738   \n",
       "..         ...   \n",
       "95       17877   \n",
       "96       18168   \n",
       "97       18295   \n",
       "98       18344   \n",
       "99       18517   \n",
       "\n",
       "                                                                                                                                Recommendations  \n",
       "0                                  [42, 43, 417, 41, 38953, 1554, 49, 36, 154, 3540, 19062, 38956, 3405, 482, 546, 98, 18063, 16747, 454, 2300]  \n",
       "1                         [307, 19296, 9705, 48, 305, 5254, 3828, 302, 4320, 9718, 40754, 567, 145, 43167, 21519, 297, 2284, 1620, 9707, 38969]  \n",
       "2                  [3409, 19786, 473, 21279, 51297, 4033, 65248, 3991, 4683, 457, 24244, 29021, 6710, 4091, 417, 4136, 2377, 24253, 3408, 1675]  \n",
       "3                                  [1268, 688, 684, 2778, 19115, 1219, 11123, 110, 183, 670, 8027, 61845, 286, 686, 6, 272, 683, 9, 124, 18646]  \n",
       "4                   [28041, 17320, 1203, 39234, 5871, 21053, 1105, 30225, 4308, 773, 6604, 8710, 5958, 31481, 3160, 6133, 5991, 7791, 902, 939]  \n",
       "..                                                                                                                                          ...  \n",
       "95    [66462, 46946, 22660, 1828, 40831, 11264, 64980, 46952, 11262, 58507, 13422, 11261, 15370, 25913, 6466, 3220, 42587, 42581, 57095, 21337]  \n",
       "96      [28396, 65935, 23359, 20278, 30134, 23342, 18170, 26597, 61945, 67269, 23278, 20240, 372, 44112, 7676, 65094, 4241, 18187, 18153, 3517]  \n",
       "97  [10785, 24252, 22707, 22710, 22711, 22790, 45413, 4052, 11324, 22699, 22797, 51083, 45409, 22783, 22796, 26781, 22793, 21769, 52075, 22708]  \n",
       "98            [1169, 7258, 66292, 1647, 1158, 9982, 1155, 1170, 19312, 9942, 23122, 1160, 19313, 9901, 19134, 18352, 65584, 18546, 18342, 9962]  \n",
       "99    [24600, 24554, 24592, 4509, 24574, 24564, 24552, 24571, 4513, 24483, 4514, 24542, 24538, 24559, 24620, 24621, 24618, 24577, 24626, 24607]  \n",
       "\n",
       "[100 rows x 2 columns]"
      ]
     },
     "execution_count": 26,
     "metadata": {},
     "output_type": "execute_result"
    }
   ],
   "source": [
    "pd.DataFrame(recommendation_cos_sim_links)"
   ]
  },
  {
   "cell_type": "code",
   "execution_count": 27,
   "metadata": {},
   "outputs": [],
   "source": [
    "# Évaluation des performances - échantillon d'articles autres que les articles de test\n",
    "M_sparse = csr_matrix(M)\n",
    "MT_sparse = M_sparse.copy().T\n",
    "M_MT_sparse = M_sparse + MT_sparse\n",
    "similarity = cosine_similarity(M_MT_sparse, M_MT_sparse, dense_output=False).tolil()\n",
    "\n",
    "similarity.setdiag(0.)\n",
    "\n",
    "recommendation_cos_sim_links_samples = []\n",
    "\n",
    "for idx in article_samples_idx:\n",
    "    sorted_similarity = np.argsort(similarity[idx].toarray()[0])[::-1][:20]\n",
    "    recommendation_cos_sim_links_samples.append({'Article_id' : idx+1, 'Recommendations' : [i+1 for i in sorted_similarity]})"
   ]
  },
  {
   "cell_type": "code",
   "execution_count": 28,
   "metadata": {},
   "outputs": [],
   "source": [
    "precision_cos_sim_links = []\n",
    "for item in recommendation_cos_sim_links_samples:\n",
    "    test_id = articles_idx[articles_idx['n'] == item['Article_id']]['n'].values[0]\n",
    "    recommandations_ids = [articles_idx[articles_idx['n'] == i]['n'].values[0] for i in item['Recommendations']]\n",
    "    references_ids = [i + 1 for i in list(G_directed.successors(item['Article_id'] - 1))]\n",
    "    precision_cos_sim_links.append(get_precision(recommandations_ids, references_ids))"
   ]
  },
  {
   "cell_type": "code",
   "execution_count": 29,
   "metadata": {},
   "outputs": [
    {
     "name": "stdout",
     "output_type": "stream",
     "text": [
      "Filtrage collaboratif basé sur la matrice d'adjacence (avec l'intégration de liens supplémentaires)\n",
      "Pécision (échantillon d'articles autres que les articles de test) : 0.135\n"
     ]
    }
   ],
   "source": [
    "print(f\"Filtrage collaboratif basé sur la matrice d'adjacence (avec l'intégration de liens supplémentaires)\")\n",
    "print(f\"Pécision (échantillon d'articles autres que les articles de test) : {np.mean(precision_cos_sim_links)}\")"
   ]
  },
  {
   "cell_type": "code",
   "execution_count": 30,
   "metadata": {
    "id": "6atah3izu7MW",
    "outputId": "ac6045af-317b-43c3-aee1-d90d36dcb6cc"
   },
   "outputs": [
    {
     "name": "stdout",
     "output_type": "stream",
     "text": [
      "NDCG Score (Kaggle) : 0.19541\n"
     ]
    }
   ],
   "source": [
    "print(f\"NDCG Score (Kaggle) : 0.19541\")"
   ]
  },
  {
   "cell_type": "markdown",
   "metadata": {
    "id": "Voc8rc8hu7MW"
   },
   "source": [
    "## 3. Troisième algorithme : Approche contenu (avec augmentation sémantique)"
   ]
  },
  {
   "cell_type": "markdown",
   "metadata": {
    "id": "90V80QUIu7MX"
   },
   "source": [
    "**Idée de base et justification de choix :**\n",
    "\n",
    "Nous proposons une approche contenu avec augmentation sémantique qui repose sur l'idée que les articles ayant des contenus similaires tendent à référencer des articles similaires.\n",
    "\n",
    "1. Étape initiale : Cette étape consiste à récupérer les plongements contextuels fournis par le modèle BGE (BAAI General Embedding) pour chaque article en exploitant leurs titres.\n",
    "\n",
    "2. Recherche des articles similaires : Une fois les représentations obtenues, nous identifions les articles les plus similaires à l'article cible en mesurant leur proximité dans l'espace sémantique, à l'aide de la similarité cosinus entre leurs plongements.\n",
    "\n",
    "3. Exploration des références : Nous analysons ensuite l'ensemble des articles référencés par ces articles similaires. L'idée est que si les articles A et B sont similaires, et que B cite un article C, alors A pourrait également avoir cité C.\n",
    "\n",
    "4. Regroupement des articles : Parmi les articles cités, nous identifions les articles qui apparaissent le plus fréquemment. Ce regroupement met en évidence les articles qui sont les plus pertinents et les plus souvent référencés dans ce contexte sémantique.\n",
    "\n",
    "5. Filtrage temporel des articles : Parmi les articles identifiés à l'étape 4, nous sélectionons uniquement ceux qui ont été publiés avant l'article cible. Cette sélection est effectuée à l'aide de l'attribut 'Year'.\n",
    "\n",
    "**Versions de la méthode :**\n",
    "\n",
    "Nous proposons deux versions de cette approche :\n",
    "\n",
    "1. Version 1 (graphe orienté) : On ne considère que les articles successeurs, c'est-à-dire les articles qui sont directement référencés par chaque article cible.\n",
    "\n",
    "2. Version 2 (graphe non orienté) : Ici, on considère tous les voisins (articles qui peuvent être soit des successeurs directs, soit des articles qui pointent vers l'article cible). Cela donne un graphe non orienté avec des voisins comme candidats potentiels."
   ]
  },
  {
   "cell_type": "markdown",
   "metadata": {
    "id": "UyQZ8VRuu7MX"
   },
   "source": [
    "*** Référence : L'utilisation du modèle \"BAAI/bge-small-en-v1.5\" ainsi que les signatures des deux fonctions encode_titles et retrieve_articles sont inspirées d'un ancien TP du cours de traitement du langage naturel. Cependant, le code à l'intérieur de ces fonctions est original."
   ]
  },
  {
   "cell_type": "markdown",
   "metadata": {
    "id": "4FpqzLWEu7MX"
   },
   "source": [
    "### Génération des plongements"
   ]
  },
  {
   "cell_type": "code",
   "execution_count": 31,
   "metadata": {
    "id": "TuW9BXGnu7MX"
   },
   "outputs": [],
   "source": [
    "# Charger le modèle BGE\n",
    "DEVICE = \"cuda\" if torch.cuda.is_available() else \"cpu\"\n",
    "\n",
    "BATCH_SIZE = 8\n",
    "\n",
    "model_kwargs = dict(\n",
    "    use_cache=True,\n",
    "    torch_dtype=\"auto\",\n",
    "    device_map=DEVICE,\n",
    "    trust_remote_code=True,\n",
    ")\n",
    "\n",
    "embedding_model_name = \"BAAI/bge-small-en-v1.5\"\n",
    "embedding_model_tokenizer = AutoTokenizer.from_pretrained(embedding_model_name)\n",
    "embedding_model = AutoModel.from_pretrained(embedding_model_name,**model_kwargs)"
   ]
  },
  {
   "cell_type": "code",
   "execution_count": 32,
   "metadata": {
    "id": "tPkQIBGtu7Mm"
   },
   "outputs": [],
   "source": [
    "# Fonction pour encoder un ou plusieurs titres d’articles (obtenir leurs embeddings)\n",
    "def encode_titles(titles: list, tokenizer, model, device = DEVICE, batch_size = BATCH_SIZE):\n",
    "    model.to(device)\n",
    "    model.eval()\n",
    "    all_embeddings = []\n",
    "\n",
    "    with torch.no_grad():\n",
    "        for i in tqdm(range(0, len(titles), batch_size)):\n",
    "            batch = titles[i:i + batch_size]\n",
    "            # 'Tokeniser' les titres\n",
    "            inputs = tokenizer(batch, padding=True, truncation=True, return_tensors=\"pt\").to(device)\n",
    "            # Récupérer les embeddings à partir de la sortie du modèle\n",
    "            outputs = model(**inputs)\n",
    "            embeddings = outputs[0][:, 0].to(device)\n",
    "            all_embeddings.append(embeddings)\n",
    "\n",
    "    return torch.cat(all_embeddings)\n",
    "\n",
    "# Fonction pour calculer la similarité cosinus entre deux embeddings\n",
    "def cosine_similarity_semantic(a, b, dim):\n",
    "    return torch.nn.functional.cosine_similarity(a, b, dim=dim)"
   ]
  },
  {
   "cell_type": "code",
   "execution_count": 33,
   "metadata": {
    "id": "hDujghmQu7Mm"
   },
   "outputs": [],
   "source": [
    "# Fonction pour récupérer les articles les plus similaires à partir des similarités d'embeddings\n",
    "def retrieve_articles(ref_titles, titles_embeddings, k, embedding_model_tokenizer, embedding_model):\n",
    "\n",
    "    # Encoder les titres\n",
    "    ref_titles_embeddings = encode_titles(ref_titles, embedding_model_tokenizer, embedding_model)\n",
    "\n",
    "    batch_size = BATCH_SIZE\n",
    "    all_similarities = []\n",
    "\n",
    "    with torch.no_grad():\n",
    "        for i in tqdm(range(0, ref_titles_embeddings.shape[0], batch_size)):\n",
    "          with torch.no_grad():\n",
    "            #  Calculer les scores de similarité pour tous les titres\n",
    "            ref_titles_batch_embeddings = ref_titles_embeddings[i:i + batch_size]\n",
    "            similarities = cosine_similarity_semantic(ref_titles_batch_embeddings.unsqueeze(1), titles_embeddings.unsqueeze(0), 2)\n",
    "            all_similarities.append(similarities)\n",
    "\n",
    "    all_similarities = torch.cat(all_similarities)\n",
    "    # Récupérer les k titres (articles) les plus similaires\n",
    "    relevant_passages_topk = torch.topk(all_similarities, k)\n",
    "\n",
    "    return relevant_passages_topk.indices.tolist()"
   ]
  },
  {
   "cell_type": "code",
   "execution_count": 34,
   "metadata": {
    "id": "fAZ0Pa_Wu7Mm",
    "outputId": "55d5a3d6-0908-4e0f-8af5-3aae93a34e1d"
   },
   "outputs": [
    {
     "name": "stderr",
     "output_type": "stream",
     "text": [
      "67294it [03:41, 303.15it/s]\n"
     ]
    }
   ],
   "source": [
    "ref_titles_list = []\n",
    "\n",
    "for _, row in tqdm(articles_idx.iterrows()):\n",
    "    node_idx = row['n'] - 1\n",
    "\n",
    "    # Récupérer les successeurs pour le noeud cible (article)\n",
    "    successors = list(G_directed.successors(node_idx))\n",
    "\n",
    "    # Récupérer les titres des successeurs (références)\n",
    "    if successors:\n",
    "        referenced_titles = [articles_idx[articles_idx['n'] == successor + 1]['title'].values[0] for successor in successors]\n",
    "        referenced_idxs = [str(articles_idx[articles_idx['n'] == successor + 1]['n'].values[0]) for successor in successors]\n",
    "    else:\n",
    "        referenced_titles = []\n",
    "        referenced_idxs = []\n",
    "\n",
    "    # Mettre à jour les 'ref_titles' pour l'article cible (concaténation des titres des successeurs)\n",
    "    articles_idx.at[node_idx, 'ref_titles'] = \" \".join(referenced_titles)\n",
    "    articles_idx.at[node_idx, 'ref_idxs'] = \",\".join(referenced_idxs)"
   ]
  },
  {
   "cell_type": "code",
   "execution_count": 35,
   "metadata": {
    "id": "NvpQId2Ku7Mm",
    "outputId": "fbbb252a-0f6f-492a-f0d9-c46600b20fe1"
   },
   "outputs": [
    {
     "name": "stderr",
     "output_type": "stream",
     "text": [
      "100%|█████████████████████████████████████████████████████████████████████████████| 8412/8412 [01:10<00:00, 119.85it/s]\n"
     ]
    }
   ],
   "source": [
    "test_articles = articles_idx[articles_idx['id'].isin(node_ids_test_csv['id'].tolist())]['ref_titles'].tolist()\n",
    "all_articles = articles_idx['title'].tolist()\n",
    "\n",
    "# Créer les embeddings pour tous les articles\n",
    "titles_embeddings = encode_titles(all_articles, embedding_model_tokenizer, embedding_model, device=DEVICE, batch_size=BATCH_SIZE)"
   ]
  },
  {
   "cell_type": "code",
   "execution_count": 36,
   "metadata": {
    "id": "Q9h5ZPKwu7Mn",
    "outputId": "95cefbb3-3b65-425f-ba24-a6eefe34abba"
   },
   "outputs": [
    {
     "name": "stderr",
     "output_type": "stream",
     "text": [
      "100%|██████████████████████████████████████████████████████████████████████████████████| 13/13 [00:00<00:00, 34.77it/s]\n",
      "100%|█████████████████████████████████████████████████████████████████████████████████| 13/13 [00:00<00:00, 115.10it/s]\n"
     ]
    }
   ],
   "source": [
    "# Récupérer les 100 articles les plus similaires pour chaque article cible\n",
    "k=100\n",
    "relevant_articles_topk = retrieve_articles(test_articles, titles_embeddings, k, embedding_model_tokenizer, embedding_model)"
   ]
  },
  {
   "cell_type": "code",
   "execution_count": 37,
   "metadata": {
    "id": "zHe2mtoeu7Mn"
   },
   "outputs": [],
   "source": [
    "# Ajouter 1 à l'indice des articles récupérés (les indices retournés commencent à partir de 0)\n",
    "relevant_articles_topk = [[x + 1 for x in inner_list] for inner_list in relevant_articles_topk]"
   ]
  },
  {
   "cell_type": "markdown",
   "metadata": {
    "id": "LVN28rYAu7Mo"
   },
   "source": [
    "### 3.1 Graphe orienté"
   ]
  },
  {
   "cell_type": "code",
   "execution_count": 38,
   "metadata": {
    "id": "E_HducKLu7Mo"
   },
   "outputs": [],
   "source": [
    "def get_most_common_successors(G_directed, relevant_articles_topk, target, target_idx, top_k=20):\n",
    "    # Obtenir les successeurs du noeud cible et ajouter 1 pour obtenir leurs indices conformes à la base de données\n",
    "    target_successors = [successor + 1 for successor in G_directed.successors(target - 1)]\n",
    "\n",
    "    all_successors = []\n",
    "\n",
    "    # Récupérer les successeurs des articles recommandés\n",
    "    for node in relevant_articles_topk[target_idx]:\n",
    "        if node - 1 in G_directed:\n",
    "            successors = [successor + 1 for successor in G_directed.successors(node - 1)]\n",
    "            all_successors.extend(successors)\n",
    "\n",
    "    # Supprimer les successeurs de l'article cible\n",
    "    all_successors = [successor for successor in all_successors if successor not in target_successors]\n",
    "\n",
    "    # Compter les occurrences de chaque successeur\n",
    "    successor_counts = Counter(all_successors)\n",
    "\n",
    "    # Récupérer les successeurs les plus fréquents\n",
    "    most_common_successors = [succ for succ, _ in successor_counts.most_common(top_k)]\n",
    "\n",
    "    return most_common_successors"
   ]
  },
  {
   "cell_type": "code",
   "execution_count": 39,
   "metadata": {
    "id": "pD444jpnu7Mo"
   },
   "outputs": [],
   "source": [
    "# Récupérer les 100 successeurs les plus fréquents pour chaque article cible\n",
    "recommandations_semantic_with_sucessors = []\n",
    "for idx, test_idx in enumerate(node_ids_test_csv['idx'].tolist()):\n",
    "    recommandations_semantic_with_sucessors.append(get_most_common_successors(G_directed, relevant_articles_topk, test_idx, idx, 100))"
   ]
  },
  {
   "cell_type": "code",
   "execution_count": 40,
   "metadata": {
    "id": "Qd9HwqpQu7Mp"
   },
   "outputs": [],
   "source": [
    "# Supprimer les références publiées après l'article cible\n",
    "recommandations_semantic_with_sucessors_year_excluded = []\n",
    "top_k = 20\n",
    "\n",
    "for test_idx, recommendations in zip(test_nodes_ids_list, recommandations_semantic_with_sucessors):\n",
    "    test_id = node_ids_csv[node_ids_csv['n'] == test_idx]['id'].values[0]\n",
    "    test_year = articles_idx[articles_idx['id'] == test_id]['year'].values[0]\n",
    "\n",
    "    filtered_list = np.array([\n",
    "        j for j in recommendations\n",
    "        if articles_idx[articles_idx['n'] == j]['year'].values[0] <= test_year][:top_k])\n",
    "\n",
    "    recommandations_semantic_with_sucessors_year_excluded.append({'Article_id' : test_idx, 'Recommendations' : filtered_list})"
   ]
  },
  {
   "cell_type": "code",
   "execution_count": 41,
   "metadata": {
    "id": "2BNa6M0mu7Mp",
    "outputId": "4afd5c44-7272-4b84-d761-40e7a3617d01"
   },
   "outputs": [
    {
     "data": {
      "text/html": [
       "<div>\n",
       "<style scoped>\n",
       "    .dataframe tbody tr th:only-of-type {\n",
       "        vertical-align: middle;\n",
       "    }\n",
       "\n",
       "    .dataframe tbody tr th {\n",
       "        vertical-align: top;\n",
       "    }\n",
       "\n",
       "    .dataframe thead th {\n",
       "        text-align: right;\n",
       "    }\n",
       "</style>\n",
       "<table border=\"1\" class=\"dataframe\">\n",
       "  <thead>\n",
       "    <tr style=\"text-align: right;\">\n",
       "      <th></th>\n",
       "      <th>Article_id</th>\n",
       "      <th>Recommendations</th>\n",
       "    </tr>\n",
       "  </thead>\n",
       "  <tbody>\n",
       "    <tr>\n",
       "      <th>0</th>\n",
       "      <td>34</td>\n",
       "      <td>[66, 99, 391, 214, 42, 41, 353, 546, 51, 645, 142, 852, 98, 332, 392, 549, 34, 26, 479, 521]</td>\n",
       "    </tr>\n",
       "    <tr>\n",
       "      <th>1</th>\n",
       "      <td>316</td>\n",
       "      <td>[142, 404, 2895, 147, 300, 2915, 2910, 16547, 318, 5266, 13863, 1569, 2152, 1574, 18874, 20813, 2914, 13652, 427, 16570]</td>\n",
       "    </tr>\n",
       "    <tr>\n",
       "      <th>2</th>\n",
       "      <td>469</td>\n",
       "      <td>[353, 852, 66, 391, 4037, 214, 99, 470, 645, 74, 1664, 3425, 926, 1029, 105, 478, 816, 51, 479, 26]</td>\n",
       "    </tr>\n",
       "    <tr>\n",
       "      <th>3</th>\n",
       "      <td>687</td>\n",
       "      <td>[26, 713, 59, 742, 117, 753, 759, 181, 752, 2274, 18744, 765, 8108, 238, 767, 751, 939, 400, 2314, 390]</td>\n",
       "    </tr>\n",
       "    <tr>\n",
       "      <th>4</th>\n",
       "      <td>738</td>\n",
       "      <td>[26, 218, 7058, 939, 1105, 5472, 353, 3611, 5890, 902, 222, 842, 3230, 1506, 901, 1194, 391, 983, 722, 5885]</td>\n",
       "    </tr>\n",
       "    <tr>\n",
       "      <th>...</th>\n",
       "      <td>...</td>\n",
       "      <td>...</td>\n",
       "    </tr>\n",
       "    <tr>\n",
       "      <th>95</th>\n",
       "      <td>17877</td>\n",
       "      <td>[2692, 3790, 2691, 3389, 3866, 6811, 3768, 3783, 6466, 816, 2984, 725, 6402, 498, 2375, 2973, 13422, 1831, 5898, 6268]</td>\n",
       "    </tr>\n",
       "    <tr>\n",
       "      <th>96</th>\n",
       "      <td>18168</td>\n",
       "      <td>[4239, 4259, 1247, 329, 3371, 1252, 5792, 3521, 1735, 4237, 3517, 7062, 1240, 20240, 1152, 20657, 276, 4258, 4230, 19609]</td>\n",
       "    </tr>\n",
       "    <tr>\n",
       "      <th>97</th>\n",
       "      <td>18295</td>\n",
       "      <td>[2403, 816, 2375, 3866, 719, 2691, 322, 3721, 3879, 2973, 17049, 4051, 2614, 15217, 22734, 6811, 10548, 6268, 15239, 1833]</td>\n",
       "    </tr>\n",
       "    <tr>\n",
       "      <th>98</th>\n",
       "      <td>18344</td>\n",
       "      <td>[1645, 1641, 1153, 1163, 1637, 1170, 7258, 1166, 1147, 1650, 1644, 1144, 1165, 1160, 18712, 7180, 1158, 9985, 7190, 7185]</td>\n",
       "    </tr>\n",
       "    <tr>\n",
       "      <th>99</th>\n",
       "      <td>18517</td>\n",
       "      <td>[3814, 4490, 1848, 24483, 3799, 4495, 24422, 18517, 24597, 3807, 24632, 24571, 672, 4493, 3815, 21480, 24600, 534, 3816, 30175]</td>\n",
       "    </tr>\n",
       "  </tbody>\n",
       "</table>\n",
       "<p>100 rows × 2 columns</p>\n",
       "</div>"
      ],
      "text/plain": [
       "    Article_id  \\\n",
       "0           34   \n",
       "1          316   \n",
       "2          469   \n",
       "3          687   \n",
       "4          738   \n",
       "..         ...   \n",
       "95       17877   \n",
       "96       18168   \n",
       "97       18295   \n",
       "98       18344   \n",
       "99       18517   \n",
       "\n",
       "                                                                                                                    Recommendations  \n",
       "0                                      [66, 99, 391, 214, 42, 41, 353, 546, 51, 645, 142, 852, 98, 332, 392, 549, 34, 26, 479, 521]  \n",
       "1          [142, 404, 2895, 147, 300, 2915, 2910, 16547, 318, 5266, 13863, 1569, 2152, 1574, 18874, 20813, 2914, 13652, 427, 16570]  \n",
       "2                               [353, 852, 66, 391, 4037, 214, 99, 470, 645, 74, 1664, 3425, 926, 1029, 105, 478, 816, 51, 479, 26]  \n",
       "3                           [26, 713, 59, 742, 117, 753, 759, 181, 752, 2274, 18744, 765, 8108, 238, 767, 751, 939, 400, 2314, 390]  \n",
       "4                      [26, 218, 7058, 939, 1105, 5472, 353, 3611, 5890, 902, 222, 842, 3230, 1506, 901, 1194, 391, 983, 722, 5885]  \n",
       "..                                                                                                                              ...  \n",
       "95           [2692, 3790, 2691, 3389, 3866, 6811, 3768, 3783, 6466, 816, 2984, 725, 6402, 498, 2375, 2973, 13422, 1831, 5898, 6268]  \n",
       "96        [4239, 4259, 1247, 329, 3371, 1252, 5792, 3521, 1735, 4237, 3517, 7062, 1240, 20240, 1152, 20657, 276, 4258, 4230, 19609]  \n",
       "97       [2403, 816, 2375, 3866, 719, 2691, 322, 3721, 3879, 2973, 17049, 4051, 2614, 15217, 22734, 6811, 10548, 6268, 15239, 1833]  \n",
       "98        [1645, 1641, 1153, 1163, 1637, 1170, 7258, 1166, 1147, 1650, 1644, 1144, 1165, 1160, 18712, 7180, 1158, 9985, 7190, 7185]  \n",
       "99  [3814, 4490, 1848, 24483, 3799, 4495, 24422, 18517, 24597, 3807, 24632, 24571, 672, 4493, 3815, 21480, 24600, 534, 3816, 30175]  \n",
       "\n",
       "[100 rows x 2 columns]"
      ]
     },
     "execution_count": 41,
     "metadata": {},
     "output_type": "execute_result"
    }
   ],
   "source": [
    "pd.DataFrame(recommandations_semantic_with_sucessors_year_excluded)"
   ]
  },
  {
   "cell_type": "code",
   "execution_count": 42,
   "metadata": {
    "scrolled": true
   },
   "outputs": [
    {
     "name": "stderr",
     "output_type": "stream",
     "text": [
      "100%|████████████████████████████████████████████████████████████████████████████████████| 1/1 [00:00<00:00, 58.51it/s]\n",
      "100%|████████████████████████████████████████████████████████████████████████████████████████████| 1/1 [00:00<?, ?it/s]\n",
      "100%|███████████████████████████████████████████████████████████████████████████████████| 1/1 [00:00<00:00, 140.14it/s]\n",
      "100%|███████████████████████████████████████████████████████████████████████████████████| 1/1 [00:00<00:00, 679.24it/s]\n",
      "100%|███████████████████████████████████████████████████████████████████████████████████| 1/1 [00:00<00:00, 156.96it/s]\n",
      "100%|███████████████████████████████████████████████████████████████████████████████████| 1/1 [00:00<00:00, 997.69it/s]\n",
      "100%|███████████████████████████████████████████████████████████████████████████████████| 1/1 [00:00<00:00, 140.42it/s]\n",
      "100%|████████████████████████████████████████████████████████████████████████████████████████████| 1/1 [00:00<?, ?it/s]\n",
      "100%|███████████████████████████████████████████████████████████████████████████████████| 1/1 [00:00<00:00, 130.41it/s]\n",
      "100%|████████████████████████████████████████████████████████████████████████████████████████████| 1/1 [00:00<?, ?it/s]\n",
      "100%|███████████████████████████████████████████████████████████████████████████████████| 1/1 [00:00<00:00, 166.18it/s]\n",
      "100%|███████████████████████████████████████████████████████████████████████████████████| 1/1 [00:00<00:00, 735.97it/s]\n",
      "100%|███████████████████████████████████████████████████████████████████████████████████| 1/1 [00:00<00:00, 140.48it/s]\n",
      "100%|████████████████████████████████████████████████████████████████████████████████████████████| 1/1 [00:00<?, ?it/s]\n",
      "100%|███████████████████████████████████████████████████████████████████████████████████| 1/1 [00:00<00:00, 127.18it/s]\n",
      "100%|████████████████████████████████████████████████████████████████████████████████████████████| 1/1 [00:00<?, ?it/s]\n",
      "100%|███████████████████████████████████████████████████████████████████████████████████| 1/1 [00:00<00:00, 141.86it/s]\n",
      "100%|████████████████████████████████████████████████████████████████████████████████████████████| 1/1 [00:00<?, ?it/s]\n",
      "100%|███████████████████████████████████████████████████████████████████████████████████| 1/1 [00:00<00:00, 131.06it/s]\n",
      "100%|███████████████████████████████████████████████████████████████████████████████████| 1/1 [00:00<00:00, 794.53it/s]\n",
      "100%|███████████████████████████████████████████████████████████████████████████████████| 1/1 [00:00<00:00, 181.91it/s]\n",
      "100%|████████████████████████████████████████████████████████████████████████████████████████████| 1/1 [00:00<?, ?it/s]\n",
      "100%|███████████████████████████████████████████████████████████████████████████████████| 1/1 [00:00<00:00, 166.69it/s]\n",
      "100%|███████████████████████████████████████████████████████████████████████████████████| 1/1 [00:00<00:00, 998.64it/s]\n",
      "100%|███████████████████████████████████████████████████████████████████████████████████| 1/1 [00:00<00:00, 194.51it/s]\n",
      "100%|████████████████████████████████████████████████████████████████████████████████████████████| 1/1 [00:00<?, ?it/s]\n",
      "100%|███████████████████████████████████████████████████████████████████████████████████| 1/1 [00:00<00:00, 166.73it/s]\n",
      "100%|████████████████████████████████████████████████████████████████████████████████████████████| 1/1 [00:00<?, ?it/s]\n",
      "100%|███████████████████████████████████████████████████████████████████████████████████| 1/1 [00:00<00:00, 166.59it/s]\n",
      "100%|███████████████████████████████████████████████████████████████████████████████████| 1/1 [00:00<00:00, 998.64it/s]\n",
      "100%|███████████████████████████████████████████████████████████████████████████████████| 1/1 [00:00<00:00, 195.43it/s]\n",
      "100%|████████████████████████████████████████████████████████████████████████████████████████████| 1/1 [00:00<?, ?it/s]\n",
      "100%|███████████████████████████████████████████████████████████████████████████████████| 1/1 [00:00<00:00, 167.27it/s]\n",
      "100%|████████████████████████████████████████████████████████████████████████████████████████████| 1/1 [00:00<?, ?it/s]\n",
      "100%|███████████████████████████████████████████████████████████████████████████████████| 1/1 [00:00<00:00, 166.47it/s]\n",
      "100%|████████████████████████████████████████████████████████████████████████████████████████████| 1/1 [00:00<?, ?it/s]\n",
      "100%|███████████████████████████████████████████████████████████████████████████████████| 1/1 [00:00<00:00, 164.21it/s]\n",
      "100%|███████████████████████████████████████████████████████████████████████████████████| 1/1 [00:00<00:00, 995.33it/s]\n",
      "100%|███████████████████████████████████████████████████████████████████████████████████| 1/1 [00:00<00:00, 142.82it/s]\n",
      "100%|████████████████████████████████████████████████████████████████████████████████████████████| 1/1 [00:00<?, ?it/s]\n",
      "100%|███████████████████████████████████████████████████████████████████████████████████| 1/1 [00:00<00:00, 130.38it/s]\n",
      "100%|███████████████████████████████████████████████████████████████████████████████████| 1/1 [00:00<00:00, 996.04it/s]\n",
      "100%|███████████████████████████████████████████████████████████████████████████████████| 1/1 [00:00<00:00, 150.26it/s]\n",
      "100%|████████████████████████████████████████████████████████████████████████████████████████████| 1/1 [00:00<?, ?it/s]\n",
      "100%|███████████████████████████████████████████████████████████████████████████████████| 1/1 [00:00<00:00, 161.64it/s]\n",
      "100%|███████████████████████████████████████████████████████████████████████████████████| 1/1 [00:00<00:00, 981.81it/s]\n",
      "100%|███████████████████████████████████████████████████████████████████████████████████| 1/1 [00:00<00:00, 153.18it/s]\n",
      "100%|███████████████████████████████████████████████████████████████████████████████████| 1/1 [00:00<00:00, 904.92it/s]\n",
      "100%|███████████████████████████████████████████████████████████████████████████████████| 1/1 [00:00<00:00, 140.92it/s]\n",
      "100%|████████████████████████████████████████████████████████████████████████████████████████████| 1/1 [00:00<?, ?it/s]\n",
      "100%|███████████████████████████████████████████████████████████████████████████████████| 1/1 [00:00<00:00, 124.87it/s]\n",
      "100%|███████████████████████████████████████████████████████████████████████████████████| 1/1 [00:00<00:00, 996.98it/s]\n",
      "100%|███████████████████████████████████████████████████████████████████████████████████| 1/1 [00:00<00:00, 134.44it/s]\n",
      "100%|████████████████████████████████████████████████████████████████████████████████████████████| 1/1 [00:00<?, ?it/s]\n",
      "100%|███████████████████████████████████████████████████████████████████████████████████| 1/1 [00:00<00:00, 128.88it/s]\n",
      "100%|████████████████████████████████████████████████████████████████████████████████████████████| 1/1 [00:00<?, ?it/s]\n",
      "100%|███████████████████████████████████████████████████████████████████████████████████| 1/1 [00:00<00:00, 137.69it/s]\n",
      "100%|████████████████████████████████████████████████████████████████████████████████████████████| 1/1 [00:00<?, ?it/s]\n",
      "100%|███████████████████████████████████████████████████████████████████████████████████| 1/1 [00:00<00:00, 155.66it/s]\n",
      "100%|████████████████████████████████████████████████████████████████████████████████████████████| 1/1 [00:00<?, ?it/s]\n",
      "100%|███████████████████████████████████████████████████████████████████████████████████| 1/1 [00:00<00:00, 132.40it/s]\n",
      "100%|████████████████████████████████████████████████████████████████████████████████████████████| 1/1 [00:00<?, ?it/s]\n",
      "100%|███████████████████████████████████████████████████████████████████████████████████| 1/1 [00:00<00:00, 166.22it/s]\n",
      "100%|█████████████████████████████████████████████████████████████████████████████████| 1/1 [00:00<00:00, 15420.24it/s]\n",
      "100%|███████████████████████████████████████████████████████████████████████████████████| 1/1 [00:00<00:00, 131.83it/s]\n",
      "100%|████████████████████████████████████████████████████████████████████████████████████████████| 1/1 [00:00<?, ?it/s]\n",
      "100%|███████████████████████████████████████████████████████████████████████████████████| 1/1 [00:00<00:00, 141.82it/s]\n",
      "100%|████████████████████████████████████████████████████████████████████████████████████████████| 1/1 [00:00<?, ?it/s]\n",
      "100%|███████████████████████████████████████████████████████████████████████████████████| 1/1 [00:00<00:00, 157.94it/s]\n",
      "100%|████████████████████████████████████████████████████████████████████████████████████████████| 1/1 [00:00<?, ?it/s]\n",
      "100%|███████████████████████████████████████████████████████████████████████████████████| 1/1 [00:00<00:00, 138.95it/s]\n",
      "100%|████████████████████████████████████████████████████████████████████████████████████████████| 1/1 [00:00<?, ?it/s]\n",
      "100%|███████████████████████████████████████████████████████████████████████████████████| 1/1 [00:00<00:00, 158.15it/s]\n",
      "100%|████████████████████████████████████████████████████████████████████████████████████████████| 1/1 [00:00<?, ?it/s]\n",
      "100%|███████████████████████████████████████████████████████████████████████████████████| 1/1 [00:00<00:00, 192.59it/s]\n",
      "100%|██████████████████████████████████████████████████████████████████████████████████| 1/1 [00:00<00:00, 1070.25it/s]\n",
      "100%|███████████████████████████████████████████████████████████████████████████████████| 1/1 [00:00<00:00, 142.87it/s]\n",
      "100%|████████████████████████████████████████████████████████████████████████████████████████████| 1/1 [00:00<?, ?it/s]\n",
      "100%|███████████████████████████████████████████████████████████████████████████████████| 1/1 [00:00<00:00, 155.79it/s]\n",
      "100%|████████████████████████████████████████████████████████████████████████████████████████████| 1/1 [00:00<?, ?it/s]\n",
      "100%|███████████████████████████████████████████████████████████████████████████████████| 1/1 [00:00<00:00, 138.27it/s]\n",
      "100%|████████████████████████████████████████████████████████████████████████████████████████████| 1/1 [00:00<?, ?it/s]\n",
      "100%|███████████████████████████████████████████████████████████████████████████████████| 1/1 [00:00<00:00, 136.06it/s]\n",
      "100%|████████████████████████████████████████████████████████████████████████████████████████████| 1/1 [00:00<?, ?it/s]\n",
      "100%|███████████████████████████████████████████████████████████████████████████████████| 1/1 [00:00<00:00, 125.01it/s]\n",
      "100%|███████████████████████████████████████████████████████████████████████████████████| 1/1 [00:00<00:00, 909.63it/s]\n",
      "100%|███████████████████████████████████████████████████████████████████████████████████| 1/1 [00:00<00:00, 136.80it/s]\n",
      "100%|████████████████████████████████████████████████████████████████████████████████████████████| 1/1 [00:00<?, ?it/s]\n",
      "100%|███████████████████████████████████████████████████████████████████████████████████| 1/1 [00:00<00:00, 143.44it/s]\n",
      "100%|███████████████████████████████████████████████████████████████████████████████████| 1/1 [00:00<00:00, 950.23it/s]\n",
      "100%|███████████████████████████████████████████████████████████████████████████████████| 1/1 [00:00<00:00, 157.73it/s]\n",
      "100%|███████████████████████████████████████████████████████████████████████████████████| 1/1 [00:00<00:00, 905.90it/s]\n",
      "100%|███████████████████████████████████████████████████████████████████████████████████| 1/1 [00:00<00:00, 167.10it/s]\n",
      "100%|████████████████████████████████████████████████████████████████████████████████████████████| 1/1 [00:00<?, ?it/s]\n",
      "100%|███████████████████████████████████████████████████████████████████████████████████| 1/1 [00:00<00:00, 136.91it/s]\n",
      "100%|██████████████████████████████████████████████████████████████████████████████████| 1/1 [00:00<00:00, 1013.85it/s]\n",
      "100%|███████████████████████████████████████████████████████████████████████████████████| 1/1 [00:00<00:00, 167.34it/s]\n",
      "100%|████████████████████████████████████████████████████████████████████████████████████████████| 1/1 [00:00<?, ?it/s]\n",
      "100%|███████████████████████████████████████████████████████████████████████████████████| 1/1 [00:00<00:00, 143.04it/s]\n",
      "100%|██████████████████████████████████████████████████████████████████████████████████| 1/1 [00:00<00:00, 1057.30it/s]\n",
      "100%|███████████████████████████████████████████████████████████████████████████████████| 1/1 [00:00<00:00, 140.84it/s]\n",
      "100%|████████████████████████████████████████████████████████████████████████████████████████████| 1/1 [00:00<?, ?it/s]\n",
      "100%|███████████████████████████████████████████████████████████████████████████████████| 1/1 [00:00<00:00, 143.14it/s]\n",
      "100%|████████████████████████████████████████████████████████████████████████████████████████████| 1/1 [00:00<?, ?it/s]\n",
      "100%|███████████████████████████████████████████████████████████████████████████████████| 1/1 [00:00<00:00, 157.15it/s]\n",
      "100%|██████████████████████████████████████████████████████████████████████████████████| 1/1 [00:00<00:00, 1026.76it/s]\n",
      "100%|███████████████████████████████████████████████████████████████████████████████████| 1/1 [00:00<00:00, 153.23it/s]\n",
      "100%|███████████████████████████████████████████████████████████████████████████████████| 1/1 [00:00<00:00, 908.25it/s]\n",
      "100%|███████████████████████████████████████████████████████████████████████████████████| 1/1 [00:00<00:00, 159.13it/s]\n",
      "100%|████████████████████████████████████████████████████████████████████████████████████████████| 1/1 [00:00<?, ?it/s]\n",
      "100%|███████████████████████████████████████████████████████████████████████████████████| 1/1 [00:00<00:00, 165.00it/s]\n",
      "100%|███████████████████████████████████████████████████████████████████████████████████| 1/1 [00:00<00:00, 914.19it/s]\n",
      "100%|███████████████████████████████████████████████████████████████████████████████████| 1/1 [00:00<00:00, 136.75it/s]\n",
      "100%|███████████████████████████████████████████████████████████████████████████████████| 1/1 [00:00<00:00, 987.36it/s]\n",
      "100%|███████████████████████████████████████████████████████████████████████████████████| 1/1 [00:00<00:00, 166.29it/s]\n",
      "100%|███████████████████████████████████████████████████████████████████████████████████| 1/1 [00:00<00:00, 908.25it/s]\n",
      "100%|███████████████████████████████████████████████████████████████████████████████████| 1/1 [00:00<00:00, 132.67it/s]\n",
      "100%|████████████████████████████████████████████████████████████████████████████████████████████| 1/1 [00:00<?, ?it/s]\n",
      "100%|███████████████████████████████████████████████████████████████████████████████████| 1/1 [00:00<00:00, 162.04it/s]\n",
      "100%|███████████████████████████████████████████████████████████████████████████████████| 1/1 [00:00<00:00, 903.75it/s]\n",
      "100%|███████████████████████████████████████████████████████████████████████████████████| 1/1 [00:00<00:00, 136.09it/s]\n",
      "100%|███████████████████████████████████████████████████████████████████████████████████| 1/1 [00:00<00:00, 999.12it/s]\n",
      "100%|████████████████████████████████████████████████████████████████████████████████████| 1/1 [00:00<00:00, 98.03it/s]\n",
      "100%|███████████████████████████████████████████████████████████████████████████████████| 1/1 [00:00<00:00, 999.36it/s]\n",
      "100%|████████████████████████████████████████████████████████████████████████████████████| 1/1 [00:00<00:00, 87.79it/s]\n",
      "100%|███████████████████████████████████████████████████████████████████████████████████| 1/1 [00:00<00:00, 497.60it/s]\n",
      "100%|███████████████████████████████████████████████████████████████████████████████████| 1/1 [00:00<00:00, 142.83it/s]\n",
      "100%|██████████████████████████████████████████████████████████████████████████████████| 1/1 [00:00<00:00, 1001.51it/s]\n",
      "100%|███████████████████████████████████████████████████████████████████████████████████| 1/1 [00:00<00:00, 110.89it/s]\n",
      "100%|███████████████████████████████████████████████████████████████████████████████████| 1/1 [00:00<00:00, 982.50it/s]\n",
      "100%|███████████████████████████████████████████████████████████████████████████████████| 1/1 [00:00<00:00, 142.55it/s]\n",
      "100%|████████████████████████████████████████████████████████████████████████████████████████████| 1/1 [00:00<?, ?it/s]\n",
      "100%|███████████████████████████████████████████████████████████████████████████████████| 1/1 [00:00<00:00, 123.65it/s]\n",
      "100%|████████████████████████████████████████████████████████████████████████████████████████████| 1/1 [00:00<?, ?it/s]\n",
      "100%|███████████████████████████████████████████████████████████████████████████████████| 1/1 [00:00<00:00, 162.69it/s]\n",
      "100%|██████████████████████████████████████████████████████████████████████████████████| 1/1 [00:00<00:00, 1016.06it/s]\n",
      "100%|███████████████████████████████████████████████████████████████████████████████████| 1/1 [00:00<00:00, 120.37it/s]\n",
      "100%|████████████████████████████████████████████████████████████████████████████████████████████| 1/1 [00:00<?, ?it/s]\n",
      "100%|███████████████████████████████████████████████████████████████████████████████████| 1/1 [00:00<00:00, 140.61it/s]\n",
      "100%|██████████████████████████████████████████████████████████████████████████████████| 1/1 [00:00<00:00, 1019.02it/s]\n",
      "100%|███████████████████████████████████████████████████████████████████████████████████| 1/1 [00:00<00:00, 138.13it/s]\n",
      "100%|███████████████████████████████████████████████████████████████████████████████████| 1/1 [00:00<00:00, 995.56it/s]\n",
      "100%|███████████████████████████████████████████████████████████████████████████████████| 1/1 [00:00<00:00, 142.38it/s]\n",
      "100%|██████████████████████████████████████████████████████████████████████████████████| 1/1 [00:00<00:00, 1016.06it/s]\n",
      "100%|███████████████████████████████████████████████████████████████████████████████████| 1/1 [00:00<00:00, 116.28it/s]\n",
      "100%|████████████████████████████████████████████████████████████████████████████████████████████| 1/1 [00:00<?, ?it/s]\n",
      "100%|███████████████████████████████████████████████████████████████████████████████████| 1/1 [00:00<00:00, 139.27it/s]\n",
      "100%|████████████████████████████████████████████████████████████████████████████████████████████| 1/1 [00:00<?, ?it/s]\n",
      "100%|███████████████████████████████████████████████████████████████████████████████████| 1/1 [00:00<00:00, 140.14it/s]\n",
      "100%|████████████████████████████████████████████████████████████████████████████████████████████| 1/1 [00:00<?, ?it/s]\n",
      "100%|███████████████████████████████████████████████████████████████████████████████████| 1/1 [00:00<00:00, 122.38it/s]\n",
      "100%|████████████████████████████████████████████████████████████████████████████████████████████| 1/1 [00:00<?, ?it/s]\n",
      "100%|███████████████████████████████████████████████████████████████████████████████████| 1/1 [00:00<00:00, 142.70it/s]\n",
      "100%|███████████████████████████████████████████████████████████████████████████████████| 1/1 [00:00<00:00, 692.24it/s]\n",
      "100%|███████████████████████████████████████████████████████████████████████████████████| 1/1 [00:00<00:00, 142.52it/s]\n",
      "100%|████████████████████████████████████████████████████████████████████████████████████████████| 1/1 [00:00<?, ?it/s]\n",
      "100%|███████████████████████████████████████████████████████████████████████████████████| 1/1 [00:00<00:00, 142.55it/s]\n",
      "100%|██████████████████████████████████████████████████████████████████████████████████| 1/1 [00:00<00:00, 1003.66it/s]\n",
      "100%|███████████████████████████████████████████████████████████████████████████████████| 1/1 [00:00<00:00, 140.25it/s]\n",
      "100%|████████████████████████████████████████████████████████████████████████████████████████████| 1/1 [00:00<?, ?it/s]\n",
      "100%|███████████████████████████████████████████████████████████████████████████████████| 1/1 [00:00<00:00, 142.86it/s]\n",
      "100%|████████████████████████████████████████████████████████████████████████████████████████████| 1/1 [00:00<?, ?it/s]\n",
      "100%|███████████████████████████████████████████████████████████████████████████████████| 1/1 [00:00<00:00, 128.38it/s]\n",
      "100%|████████████████████████████████████████████████████████████████████████████████████████████| 1/1 [00:00<?, ?it/s]\n",
      "100%|███████████████████████████████████████████████████████████████████████████████████| 1/1 [00:00<00:00, 142.50it/s]\n",
      "100%|████████████████████████████████████████████████████████████████████████████████████████████| 1/1 [00:00<?, ?it/s]\n",
      "100%|███████████████████████████████████████████████████████████████████████████████████| 1/1 [00:00<00:00, 133.65it/s]\n",
      "100%|██████████████████████████████████████████████████████████████████████████████████| 1/1 [00:00<00:00, 1001.27it/s]\n",
      "100%|███████████████████████████████████████████████████████████████████████████████████| 1/1 [00:00<00:00, 140.11it/s]\n",
      "100%|███████████████████████████████████████████████████████████████████████████████████| 1/1 [00:00<00:00, 688.38it/s]\n",
      "100%|███████████████████████████████████████████████████████████████████████████████████| 1/1 [00:00<00:00, 122.54it/s]\n",
      "100%|████████████████████████████████████████████████████████████████████████████████████████████| 1/1 [00:00<?, ?it/s]\n",
      "100%|███████████████████████████████████████████████████████████████████████████████████| 1/1 [00:00<00:00, 125.07it/s]\n",
      "100%|████████████████████████████████████████████████████████████████████████████████████████████| 1/1 [00:00<?, ?it/s]\n",
      "100%|███████████████████████████████████████████████████████████████████████████████████| 1/1 [00:00<00:00, 116.35it/s]\n",
      "100%|██████████████████████████████████████████████████████████████████████████████████| 1/1 [00:00<00:00, 1000.55it/s]\n",
      "100%|███████████████████████████████████████████████████████████████████████████████████| 1/1 [00:00<00:00, 142.48it/s]\n",
      "100%|████████████████████████████████████████████████████████████████████████████████████████████| 1/1 [00:00<?, ?it/s]\n",
      "100%|███████████████████████████████████████████████████████████████████████████████████| 1/1 [00:00<00:00, 142.86it/s]\n",
      "100%|██████████████████████████████████████████████████████████████████████████████████| 1/1 [00:00<00:00, 1001.98it/s]\n",
      "100%|███████████████████████████████████████████████████████████████████████████████████| 1/1 [00:00<00:00, 141.96it/s]\n",
      "100%|████████████████████████████████████████████████████████████████████████████████████████████| 1/1 [00:00<?, ?it/s]\n",
      "100%|███████████████████████████████████████████████████████████████████████████████████| 1/1 [00:00<00:00, 152.60it/s]\n",
      "100%|████████████████████████████████████████████████████████████████████████████████████████████| 1/1 [00:00<?, ?it/s]\n",
      "100%|███████████████████████████████████████████████████████████████████████████████████| 1/1 [00:00<00:00, 142.49it/s]\n",
      "100%|████████████████████████████████████████████████████████████████████████████████████████████| 1/1 [00:00<?, ?it/s]\n",
      "100%|███████████████████████████████████████████████████████████████████████████████████| 1/1 [00:00<00:00, 142.91it/s]\n",
      "100%|████████████████████████████████████████████████████████████████████████████████████████████| 1/1 [00:00<?, ?it/s]\n",
      "100%|███████████████████████████████████████████████████████████████████████████████████| 1/1 [00:00<00:00, 110.93it/s]\n",
      "100%|████████████████████████████████████████████████████████████████████████████████████████████| 1/1 [00:00<?, ?it/s]\n",
      "100%|███████████████████████████████████████████████████████████████████████████████████| 1/1 [00:00<00:00, 142.60it/s]\n",
      "100%|██████████████████████████████████████████████████████████████████████████████████| 1/1 [00:00<00:00, 1000.31it/s]\n",
      "100%|███████████████████████████████████████████████████████████████████████████████████| 1/1 [00:00<00:00, 140.62it/s]\n",
      "100%|████████████████████████████████████████████████████████████████████████████████████████████| 1/1 [00:00<?, ?it/s]\n",
      "100%|███████████████████████████████████████████████████████████████████████████████████| 1/1 [00:00<00:00, 166.69it/s]\n",
      "100%|████████████████████████████████████████████████████████████████████████████████████████████| 1/1 [00:00<?, ?it/s]\n",
      "100%|███████████████████████████████████████████████████████████████████████████████████| 1/1 [00:00<00:00, 161.95it/s]\n",
      "100%|███████████████████████████████████████████████████████████████████████████████████| 1/1 [00:00<00:00, 997.46it/s]\n",
      "100%|███████████████████████████████████████████████████████████████████████████████████| 1/1 [00:00<00:00, 141.26it/s]\n",
      "100%|████████████████████████████████████████████████████████████████████████████████████████████| 1/1 [00:00<?, ?it/s]\n"
     ]
    }
   ],
   "source": [
    "# Évaluation des performances - échantillon d'articles autres que les articles de test\n",
    "local_test_articles = articles_idx[articles_idx['n'].isin(article_samples)]['ref_titles'].tolist()\n",
    "\n",
    "k=100\n",
    "local_relevant_articles_topk = []\n",
    "for test_article in local_test_articles:\n",
    "    local_relevant_articles_topk.append(retrieve_articles([test_article], titles_embeddings, k, embedding_model_tokenizer, embedding_model)[0])\n",
    "local_relevant_articles_topk = [[x + 1 for x in inner_list] for inner_list in local_relevant_articles_topk]"
   ]
  },
  {
   "cell_type": "code",
   "execution_count": 43,
   "metadata": {},
   "outputs": [],
   "source": [
    "def get_most_common_successors_local(G_directed, relevant_articles_topk, target, target_idx, top_k=20):\n",
    "    # Obtenir les successeurs du noeud cible et ajouter 1 pour obtenir leurs indices conformes à la base de données\n",
    "    target_successors = [successor + 1 for successor in G_directed.successors(target - 1)]\n",
    "\n",
    "    all_successors = []\n",
    "\n",
    "    # Récupérer les successeurs des articles recommandés\n",
    "    for node in relevant_articles_topk[target_idx]:\n",
    "        if node - 1 in G_directed:\n",
    "            successors = [successor + 1 for successor in G_directed.successors(node - 1)]\n",
    "            all_successors.extend(successors)\n",
    "    all_successors.extend(target_successors)\n",
    "\n",
    "    # Compter les occurrences de chaque successeur\n",
    "    successor_counts = Counter(all_successors)\n",
    "    most_common_successors = [succ for succ, _ in successor_counts.most_common(top_k)]\n",
    "\n",
    "    return most_common_successors"
   ]
  },
  {
   "cell_type": "code",
   "execution_count": 44,
   "metadata": {},
   "outputs": [],
   "source": [
    "local_recommandations_with_successors = []\n",
    "for idx, test_idx in enumerate(article_samples):\n",
    "    local_recommandations_with_successors.append(get_most_common_successors_local(G_directed, local_relevant_articles_topk, test_idx, idx, 100))\n",
    "    \n",
    "local_recommandations_with_successors_year_excluded = []\n",
    "top_k = 20\n",
    "for test_idx, recommendations in zip(article_samples, local_recommandations_with_successors):\n",
    "    test_id = node_ids_csv[node_ids_csv['n'] == test_idx]['id'].values[0]\n",
    "    test_year = articles_idx[articles_idx['id'] == test_id]['year'].values[0]\n",
    "    successors_list = np.array(list(G_directed.successors(test_idx - 1))) + 1\n",
    "    successors_list = np.append(successors_list, [test_idx])\n",
    "\n",
    "    filtered_list = np.array([\n",
    "        j for j in recommendations\n",
    "        if articles_idx[articles_idx['n'] == j]['year'].values[0] <= test_year][:top_k])\n",
    "    if len(filtered_list) == 0:\n",
    "        filtered_list = recommendations[:top_k]\n",
    "        \n",
    "    local_recommandations_with_successors_year_excluded.append(filtered_list)"
   ]
  },
  {
   "cell_type": "code",
   "execution_count": 45,
   "metadata": {},
   "outputs": [],
   "source": [
    "precision_semantic_directed = []\n",
    "for test_idx, recommandations_ids in zip(article_samples, local_recommandations_with_successors_year_excluded):\n",
    "    references_ids = [i + 1 for i in list(G_directed.successors(test_idx - 1))]\n",
    "    precision_semantic_directed.append(get_precision(recommandations_ids, references_ids))"
   ]
  },
  {
   "cell_type": "code",
   "execution_count": 46,
   "metadata": {},
   "outputs": [
    {
     "name": "stdout",
     "output_type": "stream",
     "text": [
      "Approche contenu (avec augmentation sémantique) - graphe orienté\n",
      "Précision (échantillon d'articles autres que les articles de test) : 0.0055\n"
     ]
    }
   ],
   "source": [
    "print(f\"Approche contenu (avec augmentation sémantique) - graphe orienté\")\n",
    "print(f\"Précision (échantillon d'articles autres que les articles de test) : {np.mean(precision_semantic_directed):.4f}\")"
   ]
  },
  {
   "cell_type": "code",
   "execution_count": 47,
   "metadata": {
    "id": "R-JLSREAu7Mq",
    "outputId": "9494cb85-367e-4f54-ed23-8c1b313ee9b5"
   },
   "outputs": [
    {
     "name": "stdout",
     "output_type": "stream",
     "text": [
      "NDCG Score (Kaggle) : 0.16397\n"
     ]
    }
   ],
   "source": [
    "print(f\"NDCG Score (Kaggle) : 0.16397\")"
   ]
  },
  {
   "cell_type": "markdown",
   "metadata": {
    "id": "9DW7aXpKu7Mq"
   },
   "source": [
    "### 3.2 Graphe non orienté"
   ]
  },
  {
   "cell_type": "code",
   "execution_count": 48,
   "metadata": {
    "id": "jJSwyskHu7Mr"
   },
   "outputs": [],
   "source": [
    "def get_most_common_neighbors(G_undirected, relevant_articles_topk, target, target_idx, top_k=20):\n",
    "\n",
    "    target_neighbors = [neighbor + 1 for neighbor in G_undirected.neighbors(target - 1)]\n",
    "\n",
    "    all_neighbors = []\n",
    "\n",
    "    # Récupérer les voisins des articles recommandés\n",
    "    for node in relevant_articles_topk[target_idx]:\n",
    "        if node - 1 in G_undirected:\n",
    "            neighbors = [neighbor + 1 for neighbor in G_undirected.neighbors(node - 1)]\n",
    "            all_neighbors.extend(neighbors)\n",
    "\n",
    "    # Supprimer les voisins de l'article cible\n",
    "    all_neighbors = [neighbor for neighbor in all_neighbors if neighbor not in target_neighbors]\n",
    "\n",
    "    # Compter les occurrences de chaque voisin et retourner les voisins les plus fréquents\n",
    "    neighbor_counts = Counter(all_neighbors)\n",
    "    most_common_neighbors = [succ for succ, _ in neighbor_counts.most_common(top_k)]\n",
    "\n",
    "    return most_common_neighbors"
   ]
  },
  {
   "cell_type": "code",
   "execution_count": 49,
   "metadata": {
    "id": "zdKMTAcTu7Mr"
   },
   "outputs": [],
   "source": [
    "recommandations_semantic_with_neighbors = []\n",
    "for idx, test_idx in enumerate(node_ids_test_csv['idx'].tolist()):\n",
    "    recommandations_semantic_with_neighbors.append(get_most_common_neighbors(G_undirected, relevant_articles_topk, test_idx, idx, 100))"
   ]
  },
  {
   "cell_type": "code",
   "execution_count": 50,
   "metadata": {
    "id": "8QmVblZtu7Ms"
   },
   "outputs": [],
   "source": [
    "# Supprimer les références publiées après l'article cible\n",
    "recommandations_semantic_with_neighbors_year_excluded = []\n",
    "top_k = 20\n",
    "\n",
    "for test_idx, recommendations in zip(test_nodes_ids_list, recommandations_semantic_with_neighbors):\n",
    "    test_id = node_ids_csv[node_ids_csv['n'] == test_idx]['id'].values[0]\n",
    "    test_year = articles_idx[articles_idx['id'] == test_id]['year'].values[0]\n",
    "\n",
    "    successors_list = np.array(list(G_directed.successors(test_idx - 1))) + 1\n",
    "    successors_list = np.append(successors_list, [test_idx])\n",
    "\n",
    "    filtered_list = np.array([\n",
    "        j for j in recommendations\n",
    "        if j not in successors_list and\n",
    "        articles_idx[articles_idx['n'] == j]['year'].values[0] <= test_year][:top_k])\n",
    "\n",
    "    recommandations_semantic_with_neighbors_year_excluded.append({'Article_id' : test_idx, 'Recommendations' : filtered_list})"
   ]
  },
  {
   "cell_type": "code",
   "execution_count": 51,
   "metadata": {
    "id": "SnAA7dP4u7Mt",
    "outputId": "9e495f6a-edf2-4a9e-d3cf-5ca5684877be"
   },
   "outputs": [
    {
     "data": {
      "text/html": [
       "<div>\n",
       "<style scoped>\n",
       "    .dataframe tbody tr th:only-of-type {\n",
       "        vertical-align: middle;\n",
       "    }\n",
       "\n",
       "    .dataframe tbody tr th {\n",
       "        vertical-align: top;\n",
       "    }\n",
       "\n",
       "    .dataframe thead th {\n",
       "        text-align: right;\n",
       "    }\n",
       "</style>\n",
       "<table border=\"1\" class=\"dataframe\">\n",
       "  <thead>\n",
       "    <tr style=\"text-align: right;\">\n",
       "      <th></th>\n",
       "      <th>Article_id</th>\n",
       "      <th>Recommendations</th>\n",
       "    </tr>\n",
       "  </thead>\n",
       "  <tbody>\n",
       "    <tr>\n",
       "      <th>0</th>\n",
       "      <td>34</td>\n",
       "      <td>[66, 99, 42, 41, 391, 214, 98, 353, 628, 546, 852, 51, 549, 332, 645, 142, 53, 392, 804, 18711]</td>\n",
       "    </tr>\n",
       "    <tr>\n",
       "      <th>1</th>\n",
       "      <td>316</td>\n",
       "      <td>[142, 404, 2895, 147, 42404, 2915, 13863, 300, 20813, 5266, 2910, 317, 3661, 3663, 1569, 10147, 42234, 16547, 318, 20858]</td>\n",
       "    </tr>\n",
       "    <tr>\n",
       "      <th>2</th>\n",
       "      <td>469</td>\n",
       "      <td>[852, 353, 66, 391, 3652, 473, 926, 478, 214, 4037, 470, 3954, 99, 3425, 637, 105, 100, 5392, 37022, 645]</td>\n",
       "    </tr>\n",
       "    <tr>\n",
       "      <th>3</th>\n",
       "      <td>687</td>\n",
       "      <td>[59, 26, 742, 117, 713, 753, 759, 181, 8108, 752, 18744, 765, 2274, 2314, 1657, 238, 767, 2776, 751, 2795]</td>\n",
       "    </tr>\n",
       "    <tr>\n",
       "      <th>4</th>\n",
       "      <td>738</td>\n",
       "      <td>[26, 1105, 218, 7058, 939, 5472, 5890, 353, 3230, 3611, 1506, 20686, 773, 722, 842, 5888, 811, 901, 902, 1194]</td>\n",
       "    </tr>\n",
       "    <tr>\n",
       "      <th>...</th>\n",
       "      <td>...</td>\n",
       "      <td>...</td>\n",
       "    </tr>\n",
       "    <tr>\n",
       "      <th>95</th>\n",
       "      <td>17877</td>\n",
       "      <td>[2692, 4053, 3783, 6466, 3389, 21292, 3790, 725, 2691, 3866, 6811, 3768, 6402, 13431, 40182, 4049, 3764, 13422, 3788, 13432]</td>\n",
       "    </tr>\n",
       "    <tr>\n",
       "      <th>96</th>\n",
       "      <td>18168</td>\n",
       "      <td>[23278, 4239, 4259, 3521, 1247, 1252, 329, 7062, 3517, 3371, 4237, 5792, 23359, 2870, 1735, 28396, 4263, 16299, 30134, 1240]</td>\n",
       "    </tr>\n",
       "    <tr>\n",
       "      <th>97</th>\n",
       "      <td>18295</td>\n",
       "      <td>[2403, 15239, 816, 2375, 3866, 719, 2691, 3721, 322, 2973, 21261, 3879, 17049, 3764, 4051, 2614, 15217, 22734, 21409, 2402]</td>\n",
       "    </tr>\n",
       "    <tr>\n",
       "      <th>98</th>\n",
       "      <td>18344</td>\n",
       "      <td>[1641, 1645, 1153, 1163, 1637, 7258, 1170, 1166, 46440, 1147, 18341, 1650, 7185, 1644, 9985, 1169, 18346, 1160, 1144, 1158]</td>\n",
       "    </tr>\n",
       "    <tr>\n",
       "      <th>99</th>\n",
       "      <td>18517</td>\n",
       "      <td>[3814, 4490, 1848, 11188, 3799, 24483, 24628, 4493, 4495, 534, 24422, 24571, 3816, 3807, 46682, 24597, 24607, 24577, 24584, 3811]</td>\n",
       "    </tr>\n",
       "  </tbody>\n",
       "</table>\n",
       "<p>100 rows × 2 columns</p>\n",
       "</div>"
      ],
      "text/plain": [
       "    Article_id  \\\n",
       "0           34   \n",
       "1          316   \n",
       "2          469   \n",
       "3          687   \n",
       "4          738   \n",
       "..         ...   \n",
       "95       17877   \n",
       "96       18168   \n",
       "97       18295   \n",
       "98       18344   \n",
       "99       18517   \n",
       "\n",
       "                                                                                                                      Recommendations  \n",
       "0                                     [66, 99, 42, 41, 391, 214, 98, 353, 628, 546, 852, 51, 549, 332, 645, 142, 53, 392, 804, 18711]  \n",
       "1           [142, 404, 2895, 147, 42404, 2915, 13863, 300, 20813, 5266, 2910, 317, 3661, 3663, 1569, 10147, 42234, 16547, 318, 20858]  \n",
       "2                           [852, 353, 66, 391, 3652, 473, 926, 478, 214, 4037, 470, 3954, 99, 3425, 637, 105, 100, 5392, 37022, 645]  \n",
       "3                          [59, 26, 742, 117, 713, 753, 759, 181, 8108, 752, 18744, 765, 2274, 2314, 1657, 238, 767, 2776, 751, 2795]  \n",
       "4                      [26, 1105, 218, 7058, 939, 5472, 5890, 353, 3230, 3611, 1506, 20686, 773, 722, 842, 5888, 811, 901, 902, 1194]  \n",
       "..                                                                                                                                ...  \n",
       "95       [2692, 4053, 3783, 6466, 3389, 21292, 3790, 725, 2691, 3866, 6811, 3768, 6402, 13431, 40182, 4049, 3764, 13422, 3788, 13432]  \n",
       "96       [23278, 4239, 4259, 3521, 1247, 1252, 329, 7062, 3517, 3371, 4237, 5792, 23359, 2870, 1735, 28396, 4263, 16299, 30134, 1240]  \n",
       "97        [2403, 15239, 816, 2375, 3866, 719, 2691, 3721, 322, 2973, 21261, 3879, 17049, 3764, 4051, 2614, 15217, 22734, 21409, 2402]  \n",
       "98        [1641, 1645, 1153, 1163, 1637, 7258, 1170, 1166, 46440, 1147, 18341, 1650, 7185, 1644, 9985, 1169, 18346, 1160, 1144, 1158]  \n",
       "99  [3814, 4490, 1848, 11188, 3799, 24483, 24628, 4493, 4495, 534, 24422, 24571, 3816, 3807, 46682, 24597, 24607, 24577, 24584, 3811]  \n",
       "\n",
       "[100 rows x 2 columns]"
      ]
     },
     "execution_count": 51,
     "metadata": {},
     "output_type": "execute_result"
    }
   ],
   "source": [
    "pd.DataFrame(recommandations_semantic_with_neighbors_year_excluded)"
   ]
  },
  {
   "cell_type": "code",
   "execution_count": 52,
   "metadata": {},
   "outputs": [],
   "source": [
    "# Évaluation des performances - échantillon d'articles autres que les articles de test\n",
    "def get_most_common_neighbors_local(G_undirected, relevant_articles_topk, target, target_idx, top_k=20):\n",
    "\n",
    "    target_neighbors = [neighbor + 1 for neighbor in G_undirected.neighbors(target - 1)]\n",
    "\n",
    "    all_neighbors = []\n",
    "\n",
    "    for node in relevant_articles_topk[target_idx]:\n",
    "        if node - 1 in G_undirected:\n",
    "            neighbors = [neighbor + 1 for neighbor in G_undirected.neighbors(node - 1)]\n",
    "            all_neighbors.extend(neighbors)\n",
    "    all_neighbors.extend(target_neighbors)\n",
    "\n",
    "    neighbor_counts = Counter(all_neighbors)\n",
    "    most_common_neighbors = [succ for succ, _ in neighbor_counts.most_common(top_k)]\n",
    "\n",
    "    return most_common_neighbors"
   ]
  },
  {
   "cell_type": "code",
   "execution_count": 53,
   "metadata": {},
   "outputs": [],
   "source": [
    "local_recommandations_with_neighbors = []\n",
    "for idx, test_idx in enumerate(article_samples):\n",
    "    local_recommandations_with_neighbors.append(get_most_common_neighbors_local(G_undirected, local_relevant_articles_topk, test_idx, idx, 100))\n",
    "    \n",
    "local_recommandations_with_neighbors_year_excluded = []\n",
    "top_k = 20\n",
    "for test_idx, recommendations in zip(article_samples, local_recommandations_with_neighbors):\n",
    "    test_id = node_ids_csv[node_ids_csv['n'] == test_idx]['id'].values[0]\n",
    "    test_year = articles_idx[articles_idx['id'] == test_id]['year'].values[0]\n",
    "    successors_list = np.array(list(G_directed.successors(test_idx - 1))) + 1\n",
    "    successors_list = np.append(successors_list, [test_idx])\n",
    "\n",
    "    filtered_list = np.array([\n",
    "        j for j in recommendations\n",
    "        if articles_idx[articles_idx['n'] == j]['year'].values[0] <= test_year][:top_k])\n",
    "    if len(filtered_list) == 0:\n",
    "        filtered_list = recommendations[:top_k]\n",
    "    local_recommandations_with_neighbors_year_excluded.append(filtered_list)"
   ]
  },
  {
   "cell_type": "code",
   "execution_count": 54,
   "metadata": {},
   "outputs": [],
   "source": [
    "precision_semantic_undirected = []\n",
    "for test_idx, recommandations_ids in zip(article_samples, local_recommandations_with_neighbors_year_excluded):\n",
    "    references_ids = [i + 1 for i in list(G_directed.successors(test_idx - 1))]\n",
    "    precision_semantic_undirected.append(get_precision(recommandations_ids, references_ids))"
   ]
  },
  {
   "cell_type": "code",
   "execution_count": 55,
   "metadata": {},
   "outputs": [
    {
     "name": "stdout",
     "output_type": "stream",
     "text": [
      "Approche contenu (avec augmentation sémantique) - graphe non orienté\n",
      "Précision (échantillon d'articles autres que les articles de test) : 0.0045\n"
     ]
    }
   ],
   "source": [
    "print(f\"Approche contenu (avec augmentation sémantique) - graphe non orienté\")\n",
    "print(f\"Précision (échantillon d'articles autres que les articles de test) : {np.mean(precision_semantic_undirected):.4f}\")"
   ]
  },
  {
   "cell_type": "code",
   "execution_count": 56,
   "metadata": {
    "id": "_3vcX-HLu7Mt",
    "outputId": "13647e9f-e4eb-4510-a11f-08ddeeed4963"
   },
   "outputs": [
    {
     "name": "stdout",
     "output_type": "stream",
     "text": [
      "NDCG Score (Kaggle) : 0.18643\n"
     ]
    }
   ],
   "source": [
    "print(f\"NDCG Score (Kaggle) : 0.18643\")"
   ]
  },
  {
   "cell_type": "markdown",
   "metadata": {
    "id": "JPUSbXobu7Mu"
   },
   "source": [
    "## 4. Quatrième algorithme : LightGCN (algorithme neuronal de graphes)"
   ]
  },
  {
   "cell_type": "markdown",
   "metadata": {
    "id": "EqWJpzngu7Mu"
   },
   "source": [
    "**Justification de choix :**\n",
    "Le LightGCN est un algorithme de réseau de neurones basé sur des graphes. Il est plus léger et plus rapide que les GCN traditionnels. En plus, le modèle utilise la fonction objective BPR, qui exploite l’apprentissage contrastif pour capturer les relations implicites. Cela permet d’ajuster les embeddings en rapprochant les articles similaires tout en éloignant les non similaires. Voici les quelques concepts clés :\n",
    "\n",
    "1. Construction du graphe de citation : Dans ce graphe, les nœuds représentent des articles scientifiques. Il s'agit d'un graphe biparti, car il distingue deux types de nœuds : les articles et les références (articles cités). Les arêtes du graphe représentent les relations de citation entre les articles et leurs références.\n",
    "\n",
    "2. Apprentissage contrastif : Pour chaque article, nous avons construit un ensemble d’exemples positifs (noeuds référencés) et d’exemples négatifs (échantillon du complément des noeuds référencés) afin de calculer la fonction de perte BPR.\n",
    "\n",
    "3. Génération des embeddings des noeuds (articles et références) : Chaque couche convolutive effectue les opérations suivantes :\n",
    "  - Collecte des informations locales : Pour un nœud donné, elle agrège les représentations de ses voisins directs.\n",
    "  - Propagation hiérarchique : À chaque couche, le nœud \"intègre\" non seulement ses voisins immédiats, mais aussi les informations propagées depuis leurs propres voisins.\n",
    "  - Mise à jour itérative : La représentation de chaque nœud est mise à jour couche par couche via une fonction d’agrégation.\n",
    "\n",
    "\n",
    "4. Génération des recommandations : Une fois que le modèle a appris les représentations des nœuds (articles et références), elles peuvent être utilisées pour faire des recommandations d'articles. Pour un article cible, les articles recommandés sont ceux dont la représentation (embedding des références) est la plus proche de celle de l'article cible (embedding de l'article)."
   ]
  },
  {
   "cell_type": "markdown",
   "metadata": {
    "id": "cF8ML6dCu7Mv"
   },
   "source": [
    "*** Référence : La conception du modèle LightGCN (classe LightGCN) et sa boucle d'entraînement, ainsi que l’implémentation des fonctions convert_to_sparse_tensor et get_metrics, s’inspirent du notebook publié sur Kaggle : https://www.kaggle.com/code/dipanjandas96/lightgcn-pytorch-from-scratch/notebook. Toutefois, toutes les autres parties du travail sont originales."
   ]
  },
  {
   "cell_type": "markdown",
   "metadata": {
    "id": "-bxU-4VLu7Mv"
   },
   "source": [
    "### Étape 1 - Prétraitement des données"
   ]
  },
  {
   "cell_type": "code",
   "execution_count": 39,
   "metadata": {
    "id": "YwTgt7azu7Mw",
    "outputId": "d89dc93f-96fd-43c4-b688-0f4b5a8bc070"
   },
   "outputs": [
    {
     "data": {
      "text/plain": [
       "device(type='cuda')"
      ]
     },
     "execution_count": 39,
     "metadata": {},
     "output_type": "execute_result"
    }
   ],
   "source": [
    "DEVICE = torch.device(\"cuda\" if torch.cuda.is_available() else \"cpu\")\n",
    "torch.cuda.empty_cache()\n",
    "gc.collect()\n",
    "DEVICE"
   ]
  },
  {
   "cell_type": "code",
   "execution_count": 40,
   "metadata": {
    "id": "w-KR42LVu7Mw",
    "outputId": "427a55c9-5b63-49c6-fdac-98f4946e5e6b"
   },
   "outputs": [
    {
     "name": "stdout",
     "output_type": "stream",
     "text": [
      "Taille des données : 621195\n",
      "Taille des données d'entraînement : 555340 \n",
      "Taille des données de test : 61705\n"
     ]
    }
   ],
   "source": [
    "# Préparer le DataFrame\n",
    "col = ['article_id','reference_id','link']\n",
    "df = pd.read_csv(os.path.join(\"Data\", \"TP4-matrice-adjacence.dgt\"), sep=' ', skiprows=1)\n",
    "\n",
    "column_names_dict = dict(zip(df.columns.tolist(), col))\n",
    "df = df.rename(columns=column_names_dict)\n",
    "df = df[col[:2]]\n",
    "print(\"Taille des données :\", len(df))\n",
    "\n",
    "# Supprimer les articles qui apparaissent une seule fois\n",
    "article_counts = df['article_id'].value_counts()\n",
    "df = df[df['article_id'].isin(article_counts[article_counts > 1].index)]\n",
    "\n",
    "# Séparer les données en un ensemble d'entraînement et un ensemble de test\n",
    "# La stratification garantit que chaque article_id est représenté proportionnellement dans les deux ensembles\n",
    "train, test = train_test_split(df.values, test_size=0.1, stratify=df['article_id'])\n",
    "train, test = pd.DataFrame(train, columns = df.columns), pd.DataFrame(test, columns = df.columns)\n",
    "\n",
    "print(\"Taille des données d'entraînement :\", len(train), \"\\nTaille des données de test :\", len(test))\n",
    "\n",
    "# Créer deux encodeurs article et reference\n",
    "le_article, le_reference = pp.LabelEncoder(), pp.LabelEncoder()\n",
    "\n",
    "# Encoder les identifiants d'articles et de références dans l'ensemble d'entraînement\n",
    "train[col[0] + '_idx'] = le_article.fit_transform(train[col[0]].values)\n",
    "train[col[1] + '_idx'] = le_reference.fit_transform(train[col[1]].values)"
   ]
  },
  {
   "cell_type": "code",
   "execution_count": 41,
   "metadata": {
    "id": "yju4-Kfzu7Mx",
    "outputId": "9a3f689f-2eb0-43a9-cee5-739f005a8009"
   },
   "outputs": [
    {
     "name": "stdout",
     "output_type": "stream",
     "text": [
      "Nombre d'articles uniques : 55729\n",
      "Nombre de références uniques : 65785\n"
     ]
    }
   ],
   "source": [
    "# Obtenir les identifiants uniques\n",
    "train_article_ids = train['article_id'].unique()\n",
    "train_reference_ids = train['reference_id'].unique()\n",
    "\n",
    "# Filtrer l'ensemble de test pour assurer la correspondance des IDs entre train et test\n",
    "test = test[(test['article_id'].isin(train_article_ids)) & (test['reference_id'].isin(train_reference_ids))]\n",
    "\n",
    "# Encoder les identifiants d'articles et de références dans l'ensemble de test\n",
    "test['article_id_idx'] = le_article.transform(test['article_id'].values)\n",
    "test['reference_id_idx'] = le_reference.transform(test['reference_id'].values)\n",
    "\n",
    "n_articles = train['article_id_idx'].nunique()\n",
    "n_references = train['reference_id_idx'].nunique()\n",
    "print(\"Nombre d'articles uniques :\", n_articles)\n",
    "print(\"Nombre de références uniques :\", n_references)"
   ]
  },
  {
   "cell_type": "code",
   "execution_count": 42,
   "metadata": {
    "id": "z3KPrh7iu7My"
   },
   "outputs": [],
   "source": [
    "# Enregistrer les données d'entraînement et de test\n",
    "folder_split = 'Split'\n",
    "train.to_csv(os.path.join(folder_split, \"train.csv\"))\n",
    "test.to_csv(os.path.join(folder_split, \"test.csv\"))"
   ]
  },
  {
   "cell_type": "markdown",
   "metadata": {
    "id": "gNEegiU2u7My"
   },
   "source": [
    "### Étape 2 - Fonctions utilitaires"
   ]
  },
  {
   "cell_type": "code",
   "execution_count": 43,
   "metadata": {
    "id": "mWK8sn9ku7My"
   },
   "outputs": [],
   "source": [
    "# Fonction pour convertir une matrice DOK en matrice COO\n",
    "def convert_to_sparse_tensor(dok_mtrx, device = DEVICE):\n",
    "    coo = dok_mtrx.tocoo()\n",
    "    # Extraire les indices des éléments non nuls sous forme de tensores\n",
    "    indices = torch.LongTensor(np.array([coo.row, coo.col]))\n",
    "    # Extraire les valeurs non nulles et les convertir en tenseur de type FloatTensor\n",
    "    values = torch.FloatTensor(coo.data)\n",
    "    return torch.sparse_coo_tensor(indices, values, coo.shape, device=device)"
   ]
  },
  {
   "cell_type": "code",
   "execution_count": 44,
   "metadata": {
    "id": "gAjpiSmbu7Mz"
   },
   "outputs": [],
   "source": [
    "# Fonction pour calculer le métrique rappel\n",
    "def get_metrics(article_Embed_wts, reference_Embed_wts, n_articles, n_references, train_data, test_data, K):\n",
    "    # Convertir les poids des embeddings des articles et des références en types numpy\n",
    "    article_Embed_wts = article_Embed_wts.half().cpu().detach().numpy()\n",
    "    reference_Embed_wts = reference_Embed_wts.half().cpu().detach().numpy()\n",
    "\n",
    "    # Créer un index FAISS pour effectuer une recherche rapide par similarité\n",
    "    d = reference_Embed_wts.shape[1]\n",
    "    index = faiss.IndexFlatIP(d)\n",
    "    index.add(reference_Embed_wts)\n",
    "\n",
    "    # Rechercher les K références les plus similaires pour chaque article\n",
    "    topk_relevance_score, topk_relevance_indices = index.search(article_Embed_wts, K)\n",
    "\n",
    "    # Créer un DataFrame pour organiser les indices des K références les plus similaires\n",
    "    topk_relevance_indices_df = pd.DataFrame(topk_relevance_indices,columns =['top_indx_'+str(x+1) for x in range(K)])\n",
    "    topk_relevance_indices_df['article_ID'] = topk_relevance_indices_df.index\n",
    "    topk_relevance_indices_df['top_rlvnt_ref'] = topk_relevance_indices_df[['top_indx_'+str(x+1) for x in range(K)]].values.tolist()\n",
    "    topk_relevance_indices_df = topk_relevance_indices_df[['article_ID','top_rlvnt_ref']]\n",
    "\n",
    "    # Récupérer les références réelles dans l'ensemble de test\n",
    "    test_interacted_references = test_data.groupby('article_id_idx')['reference_id_idx'].apply(list).reset_index()\n",
    "\n",
    "    # Fusionner les références réelles avec les K références recommandées\n",
    "    metrics_df = pd.merge(test_interacted_references,topk_relevance_indices_df, how= 'left', left_on = 'article_id_idx',right_on = ['article_ID'])\n",
    "\n",
    "    # Calculer l'intersection entre les références réelles et les références recommandées\n",
    "    metrics_df['intrsctn_ref'] = [list(set(a).intersection(b)) for a, b in zip(metrics_df.reference_id_idx, metrics_df.top_rlvnt_ref)]\n",
    "\n",
    "    # Calculer le rappel pour chaque article\n",
    "    metrics_df['recall'] = metrics_df.apply(lambda x : len(x['intrsctn_ref'])/len(x['reference_id_idx']), axis = 1)\n",
    "\n",
    "    return metrics_df['recall'].mean()"
   ]
  },
  {
   "cell_type": "markdown",
   "metadata": {
    "id": "cEverTvwu7Mz"
   },
   "source": [
    "### Étape 3 - Construction du modèle"
   ]
  },
  {
   "cell_type": "code",
   "execution_count": 45,
   "metadata": {
    "id": "dN5IfkIhu7M0"
   },
   "outputs": [],
   "source": [
    "latent_dim = 64\n",
    "n_layers = 3\n",
    "# -----------------------------------------------------------------------------------\n",
    "\n",
    "class LightGCN(nn.Module):\n",
    "    def __init__(self, data, n_articles, n_references, n_layers, latent_dim, device):\n",
    "        super(LightGCN, self).__init__()\n",
    "        self.device = device\n",
    "        self.data = data\n",
    "        self.n_articles = n_articles\n",
    "        self.n_references = n_references\n",
    "        self.n_layers = n_layers\n",
    "        self.latent_dim = latent_dim\n",
    "        self.init_embedding()\n",
    "        self.norm_adj_mat_sparse_tensor = self.get_A_tilda()\n",
    "\n",
    "    # Fonction pour initialiser les embeddings des articles et des références\n",
    "    def init_embedding(self):\n",
    "        self.E0 = nn.Embedding(self.n_articles + self.n_references, self.latent_dim)\n",
    "\n",
    "        # Appliquer l'initialisation Xavier uniforme pour les poids de l'embedding\n",
    "        nn.init.xavier_uniform_(self.E0.weight)\n",
    "        self.E0.weight = nn.Parameter(self.E0.weight)\n",
    "\n",
    "    # Fonction pour construire la matrice d'adjacence normalisée (A_tilda)\n",
    "    def get_A_tilda(self):\n",
    "        # Crée une matrice R de taille (n_articles, n_references) avec des interactions entre articles et références\n",
    "        R = sp.lil_matrix((self.n_articles, self.n_references), dtype=np.float32)\n",
    "        R[self.data['article_id_idx'], self.data['reference_id_idx']] = 1.0\n",
    "\n",
    "        # Crée une matrice d'adjacence symétrique\n",
    "        adj_mat = sp.lil_matrix((self.n_articles + self.n_references, self.n_articles + self.n_references), dtype=np.float32)\n",
    "        adj_mat[:self.n_articles, self.n_articles:] = R\n",
    "        adj_mat[self.n_articles:, :self.n_articles] = R.T\n",
    "\n",
    "        adj_mat = adj_mat.tocsr()\n",
    "\n",
    "        # Normaliser la matrice d'adjacence (D^-0.5 * A * D^-0.5)\n",
    "        rowsum = np.array(adj_mat.sum(1)).flatten()\n",
    "        d_inv = np.power(rowsum + 1e-9, -0.5)\n",
    "        d_inv[np.isinf(d_inv)] = 0.0\n",
    "\n",
    "        d_mat_inv = sp.diags(d_inv)\n",
    "        norm_adj_mat = d_mat_inv @ adj_mat @ d_mat_inv\n",
    "\n",
    "        return convert_to_sparse_tensor(norm_adj_mat)\n",
    "\n",
    "    # Fonction pour propager les embeddings à travers les couches du modèle\n",
    "    def propagate_through_layers(self):\n",
    "        all_layer_embedding = [self.E0.weight]\n",
    "        E_lyr = self.E0.weight\n",
    "\n",
    "        for layer in range(self.n_layers):\n",
    "            E_lyr = torch.sparse.mm(self.norm_adj_mat_sparse_tensor, E_lyr)\n",
    "            all_layer_embedding.append(E_lyr)\n",
    "\n",
    "        # Empiler les embeddings de toutes les couches et calculer la moyenne\n",
    "        all_layer_embedding = torch.stack(all_layer_embedding)\n",
    "        mean_layer_embedding = torch.mean(all_layer_embedding, axis = 0)\n",
    "\n",
    "        # Diviser les embeddings finaux pour les articles et les références\n",
    "        final_article_Embed, final_reference_Embed = torch.split(mean_layer_embedding, [self.n_articles, self.n_references])\n",
    "        initial_article_Embed, initial_reference_Embed = torch.split(self.E0.weight, [self.n_articles, self.n_references])\n",
    "\n",
    "        return final_article_Embed, final_reference_Embed, initial_article_Embed, initial_reference_Embed\n",
    "\n",
    "    # Fonction forward pour calculer les embeddings des articles et des références\n",
    "    def forward(self, articles, pos_items, neg_items):\n",
    "        final_article_Embed, final_reference_Embed, initial_article_Embed, initial_reference_Embed = self.propagate_through_layers()\n",
    "\n",
    "        self.articles_emb, self.pos_emb, self.neg_emb = final_article_Embed[articles], final_reference_Embed[pos_items], final_reference_Embed[neg_items]\n",
    "        self.articleEmb0,  self.posEmb0, self.negEmb0 = initial_article_Embed[articles], initial_reference_Embed[pos_items], initial_reference_Embed[neg_items]\n",
    "\n",
    "    # Fonction pour calculer la perte BPR\n",
    "    def bpr_loss(self, articles):\n",
    "        # Perte de régularisation L2\n",
    "        reg_loss = (1/2)*(self.articleEmb0.norm().pow(2) +\n",
    "                        self.posEmb0.norm().pow(2)  +\n",
    "                        self.negEmb0.norm().pow(2))/float(len(articles))\n",
    "\n",
    "        # Calcul des scores pour les références positives et négative\n",
    "        pos_scores = torch.mul(self.articles_emb, self.pos_emb)\n",
    "        pos_scores = torch.sum(pos_scores, dim=1)\n",
    "        neg_scores = torch.mul(self.articles_emb, self.neg_emb)\n",
    "        neg_scores = torch.sum(neg_scores, dim=1)\n",
    "\n",
    "        loss = torch.mean(torch.nn.functional.softplus(neg_scores - pos_scores))\n",
    "\n",
    "        return loss, reg_loss"
   ]
  },
  {
   "cell_type": "code",
   "execution_count": 46,
   "metadata": {
    "id": "1iMmmbMGu7M0",
    "outputId": "8e7db362-ca87-47d5-959e-d1d2b08f6f9d"
   },
   "outputs": [
    {
     "name": "stdout",
     "output_type": "stream",
     "text": [
      "Taille du premier paramètre du modèle lightGCN :  torch.Size([121514, 64])\n"
     ]
    }
   ],
   "source": [
    "lightGCN = LightGCN(train, n_articles, n_references, n_layers, latent_dim, DEVICE).to(DEVICE)\n",
    "print(\"Taille du premier paramètre du modèle lightGCN : \", list(lightGCN.parameters())[0].size())"
   ]
  },
  {
   "cell_type": "markdown",
   "metadata": {
    "id": "VO3t493Xu7M1"
   },
   "source": [
    "### Étape 4 - Entraînement du modèle"
   ]
  },
  {
   "cell_type": "code",
   "execution_count": 47,
   "metadata": {
    "id": "_abl8tRUu7M1"
   },
   "outputs": [],
   "source": [
    "# Fonction pour générer les références négatives pour chaque article\n",
    "def set_connection(ref_list, all_ref, poolsize):\n",
    "    indices_article_dict = dict.fromkeys(random.sample(all_ref, k=poolsize), 0)\n",
    "    for i in ref_list:\n",
    "        try:\n",
    "            del indices_article_dict[i]\n",
    "        except:\n",
    "            continue\n",
    "    return list(indices_article_dict.keys())\n",
    "\n",
    "# Fonction pour générer les échantillons positifs et négatifs\n",
    "def generate_interected_references(data, n_itm, all_ref, poolsize = int(0.03*n_articles)):\n",
    "    interected_references_df = data.groupby('article_id_idx')['reference_id_idx'].apply(list).reset_index()\n",
    "    interected_references_df['neg_id_idx'] = interected_references_df['reference_id_idx'].apply(lambda x: x.copy())\n",
    "    interected_references_df['neg_id_idx'] = interected_references_df['reference_id_idx'].apply(lambda ref_list: set_connection(ref_list, all_ref, poolsize))\n",
    "    gc.collect()\n",
    "    return interected_references_df\n",
    "\n",
    "# Préparer les échantillons positifs et négatifs pour l'entraînement\n",
    "def prepare_samples(n_references, train):\n",
    "    all_ref = [x for x in range(n_references)]\n",
    "    interected_references_df = generate_interected_references(train, n_references, all_ref)\n",
    "    gc.collect()\n",
    "    return interected_references_df"
   ]
  },
  {
   "cell_type": "code",
   "execution_count": 48,
   "metadata": {
    "id": "H3Ci_GqSu7M2"
   },
   "outputs": [],
   "source": [
    "# Fonction pour charger les échantillons de données pour l'entraînement (articles, références positives et négatives)\n",
    "def data_loader(data, batch_size, n_itm, interected_references_df, indices_article):\n",
    "    articles = [random.choice(indices_article) for _ in range(batch_size)]\n",
    "    articles.sort()\n",
    "    articles_df = pd.DataFrame({'articles': articles})\n",
    "    interected_references_df = pd.merge(interected_references_df, articles_df, how = 'right', left_on = 'article_id_idx', right_on = 'articles')\n",
    "    pos_items = interected_references_df['reference_id_idx'].apply(lambda x : random.choice(x)).values\n",
    "    neg_items = interected_references_df['neg_id_idx'].apply(lambda x: random.choice(x)).values\n",
    "    return list(articles), list(pos_items), list(neg_items)"
   ]
  },
  {
   "cell_type": "code",
   "execution_count": 49,
   "metadata": {
    "id": "I6p4eO8Lu7M3",
    "outputId": "8129eb0c-4140-486a-b19c-5cca06d81417"
   },
   "outputs": [
    {
     "name": "stderr",
     "output_type": "stream",
     "text": [
      "Epoch : 100%|██████████████████████████████████████████████████████████████████████| 150/150 [1:07:17<00:00, 26.91s/it]\n"
     ]
    }
   ],
   "source": [
    "# Définir les hyperparamètres d'entraînement\n",
    "EPOCHS = 150\n",
    "BATCH_SIZE = 1024*2\n",
    "DECAY = 0.0001\n",
    "K = 20\n",
    "every_k_epoch = 5\n",
    "# -------------------------------------------------------------------\n",
    "n_batch = int(len(train)/BATCH_SIZE)\n",
    "loss_list_epoch, MF_loss_list_epoch, reg_loss_list_epoch = [], [], []\n",
    "recall_list = []\n",
    "best_epoch = 0\n",
    "indices_article = [x for x in range(n_articles)]\n",
    "\n",
    "# Générer les échantillons positifs et négatifs\n",
    "interected_references_df = prepare_samples(n_references, train)\n",
    "# -------------------------------------------------------------------\n",
    "# Créer l'optimiseur Adam pour la mise à jour des poids\n",
    "optimizer = torch.optim.Adam(lightGCN.parameters(), lr = 0.005)\n",
    "\n",
    "for epoch in tqdm(range(EPOCHS), desc=\"Epoch \"):\n",
    "    final_loss_list, MF_loss_list, reg_loss_list = [], [], []\n",
    "    best_recall = -1\n",
    "\n",
    "    lightGCN.train()\n",
    "\n",
    "    for batch_idx in range(n_batch):\n",
    "\n",
    "        optimizer.zero_grad()\n",
    "\n",
    "        articles, pos_items, neg_items = data_loader(train, BATCH_SIZE, n_references, interected_references_df, indices_article)\n",
    "        lightGCN(articles, pos_items, neg_items)\n",
    "\n",
    "        # Calculer la perte de BPR\n",
    "        mf_loss, reg_loss = lightGCN.bpr_loss(articles)\n",
    "\n",
    "        # Appliquer la régularisation (penalité de norme des poids)\n",
    "        reg_loss = DECAY * reg_loss\n",
    "\n",
    "        # Calculer la perte totale en ajoutant la perte de BPR et la régularisation\n",
    "        final_loss = mf_loss + reg_loss\n",
    "\n",
    "        final_loss.backward()\n",
    "\n",
    "        optimizer.step()\n",
    "\n",
    "        final_loss_list.append(final_loss.item())\n",
    "        MF_loss_list.append(mf_loss.item())\n",
    "        reg_loss_list.append(reg_loss.item())\n",
    "\n",
    "\n",
    "    if (epoch+1)%every_k_epoch == 0:\n",
    "\n",
    "        lightGCN.eval()\n",
    "\n",
    "        with torch.no_grad():\n",
    "            # Propager les articles et références à travers les couches du modèle pour obtenir les embeddings\n",
    "            final_article_Embed, final_reference_Embed, initial_article_Embed,initial_reference_Embed = lightGCN.propagate_through_layers()\n",
    "\n",
    "            # Calculer le rappel sur le jeu de test avec les embeddings obtenus\n",
    "            test_topK_recall = get_metrics(final_article_Embed, final_reference_Embed, n_articles, n_references, train, test, K)\n",
    "\n",
    "        # Vérifier si le rappel actuel est le meilleur et le mettre à jour si nécessaire\n",
    "        if test_topK_recall > best_recall:\n",
    "            best_epoch = epoch+1\n",
    "            best_recall = test_topK_recall\n",
    "\n",
    "            # Sauvegarder les embeddings finaux des articles et des références\n",
    "            torch.save(final_article_Embed, 'final_article_Embed.pt')\n",
    "            torch.save(final_reference_Embed, 'final_reference_Embed.pt')\n",
    "\n",
    "        loss_list_epoch.append(round(np.mean(final_loss_list),4))\n",
    "        MF_loss_list_epoch.append(round(np.mean(MF_loss_list),4))\n",
    "        reg_loss_list_epoch.append(round(np.mean(reg_loss_list),4))\n",
    "\n",
    "        recall_list.append(round(test_topK_recall,4))\n",
    "\n",
    "        # Préparer de nouveaux échantillons pour les 5 prochaines époques\n",
    "        interected_references_df = prepare_samples(n_references, train)\n",
    "        torch.cuda.empty_cache()\n",
    "        gc.collect()"
   ]
  },
  {
   "cell_type": "markdown",
   "metadata": {
    "id": "2QSFVYC3u7M3"
   },
   "source": [
    "### Étape 5 - Visualisation des résultats"
   ]
  },
  {
   "cell_type": "code",
   "execution_count": 50,
   "metadata": {
    "id": "CLPlXhMPu7M4",
    "outputId": "4f647f85-f661-4be6-94e3-69e415d600dd"
   },
   "outputs": [
    {
     "data": {
      "text/plain": [
       "<matplotlib.legend.Legend at 0x23ec414cd70>"
      ]
     },
     "execution_count": 50,
     "metadata": {},
     "output_type": "execute_result"
    },
    {
     "data": {
      "image/png": "[encoded data removed]",
      "text/plain": [
       "<Figure size 640x480 with 1 Axes>"
      ]
     },
     "metadata": {},
     "output_type": "display_data"
    }
   ],
   "source": [
    "epoch_list = [(i+1)*every_k_epoch for i in range(int(EPOCHS/every_k_epoch))]\n",
    "plt.plot(epoch_list, recall_list, label='Rappel', color = 'Orange')\n",
    "plt.xlabel(\"Nombre d'epochs\")\n",
    "plt.ylabel('Rappel')\n",
    "plt.title(\"Évolution du rappel de test pendant l'entraînement\")\n",
    "plt.grid(True, axis='y', linestyle='--', color='gray', alpha=0.5)\n",
    "plt.legend()"
   ]
  },
  {
   "cell_type": "code",
   "execution_count": 51,
   "metadata": {
    "id": "UPTeHpXzu7M4",
    "outputId": "5e04fa99-1c75-4ab1-e18b-cef1af44265f"
   },
   "outputs": [
    {
     "data": {
      "text/plain": [
       "<matplotlib.legend.Legend at 0x23ecb1d5ca0>"
      ]
     },
     "execution_count": 51,
     "metadata": {},
     "output_type": "execute_result"
    },
    {
     "data": {
      "image/png": "[encoded data removed]",
      "text/plain": [
       "<Figure size 640x480 with 1 Axes>"
      ]
     },
     "metadata": {},
     "output_type": "display_data"
    }
   ],
   "source": [
    "plt.plot(epoch_list, loss_list_epoch, label='Total training loss')\n",
    "plt.xlabel(\"Nombre d'epochs\")\n",
    "plt.ylabel('Perte')\n",
    "plt.title(\"Évolution de la perte totale pendant l'entraînement\")\n",
    "plt.grid(True, axis='y', linestyle='--', color='gray', alpha=0.5)\n",
    "plt.legend()"
   ]
  },
  {
   "cell_type": "markdown",
   "metadata": {
    "id": "jw6cBjgru7M5"
   },
   "source": [
    "### Étape 6 - Génération des recommandations"
   ]
  },
  {
   "cell_type": "code",
   "execution_count": 52,
   "metadata": {
    "id": "E6vIluZQu7M5"
   },
   "outputs": [],
   "source": [
    "# Fonction pour obtenir l'index correspondant à un ID donné\n",
    "def id2idx(id_, df, id_name = 'article_id', idx_name = 'article_id_idx'):\n",
    "    return df[df[id_name]==id_][idx_name].unique().item()\n",
    "\n",
    "# Fonction pour obtenir l'ID correspondant à un index donné\n",
    "def idx2id(idx_, df, id_name = 'reference_id', idx_name = 'reference_id_idx'):\n",
    "    return df[df[idx_name]==idx_][id_name].unique().item()\n",
    "\n",
    "# Fonction pour obtenir les N meilleures références recommandées pour un article donné\n",
    "def topN(article_id, final_article_Embed, final_reference_Embed, n=100, train_df = train):\n",
    "    # Convertir les article_id en indices d'articles\n",
    "    article_id_idx = id2idx(article_id, train_df, id_name = 'article_id', idx_name = 'article_id_idx')\n",
    "\n",
    "    # Calculer les scores de similarité entre l'article et toutes les références et obtenir les N meilleures références\n",
    "    scores = torch.squeeze(final_article_Embed[article_id_idx] @ final_reference_Embed.t())\n",
    "    reference_id_idx, reference_scores = torch.topk(scores, k=n).indices, torch.topk(scores, k=n).values\n",
    "\n",
    "    # Convertir les indices des références en reference_id\n",
    "    reference_id = [idx2id(i.item(), train_df, id_name = 'reference_id', idx_name = 'reference_id_idx') for i in reference_id_idx]\n",
    "    return reference_id"
   ]
  },
  {
   "cell_type": "code",
   "execution_count": 53,
   "metadata": {
    "id": "CucgQ0Pqu7M6",
    "outputId": "69aad0f3-3d36-4ba3-ca89-6bb4acf47f4c"
   },
   "outputs": [
    {
     "name": "stderr",
     "output_type": "stream",
     "text": [
      "100%|████████████████████████████████████████████████████████████████████████████████| 100/100 [00:06<00:00, 15.55it/s]\n"
     ]
    }
   ],
   "source": [
    "best_article_Embed = torch.load(\"final_article_Embed.pt\")\n",
    "best_reference_Embed = torch.load(\"final_reference_Embed.pt\")\n",
    "\n",
    "recommandation_lightGCN = []\n",
    "\n",
    "for id_ in tqdm(test_nodes_ids_list):\n",
    "    topN_filtered = topN(id_, best_article_Embed, best_reference_Embed, n=100)\n",
    "    topN_filtered = [i for i in topN_filtered if not i in np.array(list(G_directed.successors(id_ - 1)))+1 and i != id_][:20]\n",
    "    recommandation_lightGCN.append({'Article_id' : id_, 'Recommendations' : topN_filtered})"
   ]
  },
  {
   "cell_type": "code",
   "execution_count": 54,
   "metadata": {
    "id": "YYKTfdLOu7M6",
    "outputId": "093ad6cc-0843-40f1-c732-56a14e48a256"
   },
   "outputs": [
    {
     "data": {
      "text/html": [
       "<div>\n",
       "<style scoped>\n",
       "    .dataframe tbody tr th:only-of-type {\n",
       "        vertical-align: middle;\n",
       "    }\n",
       "\n",
       "    .dataframe tbody tr th {\n",
       "        vertical-align: top;\n",
       "    }\n",
       "\n",
       "    .dataframe thead th {\n",
       "        text-align: right;\n",
       "    }\n",
       "</style>\n",
       "<table border=\"1\" class=\"dataframe\">\n",
       "  <thead>\n",
       "    <tr style=\"text-align: right;\">\n",
       "      <th></th>\n",
       "      <th>Article_id</th>\n",
       "      <th>Recommendations</th>\n",
       "    </tr>\n",
       "  </thead>\n",
       "  <tbody>\n",
       "    <tr>\n",
       "      <th>0</th>\n",
       "      <td>34</td>\n",
       "      <td>[99, 66, 391, 42, 546, 392, 41, 549, 98, 332, 51, 142, 521, 53, 852, 558, 561, 483, 417, 3410]</td>\n",
       "    </tr>\n",
       "    <tr>\n",
       "      <th>1</th>\n",
       "      <td>316</td>\n",
       "      <td>[142, 404, 147, 2895, 318, 300, 2910, 27, 432, 311, 2922, 1569, 317, 6192, 305, 302, 18773, 18709, 3661, 2152]</td>\n",
       "    </tr>\n",
       "    <tr>\n",
       "      <th>2</th>\n",
       "      <td>469</td>\n",
       "      <td>[99, 391, 105, 66, 100, 852, 392, 549, 332, 546, 645, 478, 473, 804, 435, 455, 51, 926, 95, 561]</td>\n",
       "    </tr>\n",
       "    <tr>\n",
       "      <th>3</th>\n",
       "      <td>687</td>\n",
       "      <td>[26, 59, 238, 181, 713, 759, 1219, 742, 18714, 117, 772, 286, 783, 751, 686, 90, 670, 728, 1185, 729]</td>\n",
       "    </tr>\n",
       "    <tr>\n",
       "      <th>4</th>\n",
       "      <td>738</td>\n",
       "      <td>[218, 1105, 391, 1194, 26, 66, 811, 939, 3974, 3449, 773, 5728, 367, 942, 901, 334, 3230, 363, 5955, 6133]</td>\n",
       "    </tr>\n",
       "    <tr>\n",
       "      <th>...</th>\n",
       "      <td>...</td>\n",
       "      <td>...</td>\n",
       "    </tr>\n",
       "    <tr>\n",
       "      <th>95</th>\n",
       "      <td>17877</td>\n",
       "      <td>[2691, 2692, 3866, 322, 4677, 4049, 3790, 4051, 11265, 4625, 6466, 725, 13422, 11264, 5898, 15278, 22728, 994, 3773, 11305]</td>\n",
       "    </tr>\n",
       "    <tr>\n",
       "      <th>96</th>\n",
       "      <td>18168</td>\n",
       "      <td>[4237, 18573, 19002, 4259, 4241, 23359, 20657, 468, 4239, 3517, 8213, 16299, 4263, 4258, 4245, 23499, 25586, 28396, 19000, 20736]</td>\n",
       "    </tr>\n",
       "    <tr>\n",
       "      <th>97</th>\n",
       "      <td>18295</td>\n",
       "      <td>[10785, 22710, 22717, 322, 18284, 4052, 3879, 22711, 21641, 22734, 22708, 22707, 5878, 719, 45025, 16692, 22723, 15250, 2975, 22715]</td>\n",
       "    </tr>\n",
       "    <tr>\n",
       "      <th>98</th>\n",
       "      <td>18344</td>\n",
       "      <td>[1641, 1163, 1645, 1153, 1637, 1166, 468, 1170, 1650, 18545, 1169, 4946, 1147, 18712, 9920, 7258, 18788, 11139, 66292, 1165]</td>\n",
       "    </tr>\n",
       "    <tr>\n",
       "      <th>99</th>\n",
       "      <td>18517</td>\n",
       "      <td>[13068, 24483, 24422, 13071, 24654, 24597, 24592, 24588, 24632, 24577, 24549, 24477, 24607, 24649, 24603, 24479, 24572, 24600, 3814, 24553]</td>\n",
       "    </tr>\n",
       "  </tbody>\n",
       "</table>\n",
       "<p>100 rows × 2 columns</p>\n",
       "</div>"
      ],
      "text/plain": [
       "    Article_id  \\\n",
       "0           34   \n",
       "1          316   \n",
       "2          469   \n",
       "3          687   \n",
       "4          738   \n",
       "..         ...   \n",
       "95       17877   \n",
       "96       18168   \n",
       "97       18295   \n",
       "98       18344   \n",
       "99       18517   \n",
       "\n",
       "                                                                                                                                Recommendations  \n",
       "0                                                [99, 66, 391, 42, 546, 392, 41, 549, 98, 332, 51, 142, 521, 53, 852, 558, 561, 483, 417, 3410]  \n",
       "1                                [142, 404, 147, 2895, 318, 300, 2910, 27, 432, 311, 2922, 1569, 317, 6192, 305, 302, 18773, 18709, 3661, 2152]  \n",
       "2                                              [99, 391, 105, 66, 100, 852, 392, 549, 332, 546, 645, 478, 473, 804, 435, 455, 51, 926, 95, 561]  \n",
       "3                                         [26, 59, 238, 181, 713, 759, 1219, 742, 18714, 117, 772, 286, 783, 751, 686, 90, 670, 728, 1185, 729]  \n",
       "4                                    [218, 1105, 391, 1194, 26, 66, 811, 939, 3974, 3449, 773, 5728, 367, 942, 901, 334, 3230, 363, 5955, 6133]  \n",
       "..                                                                                                                                          ...  \n",
       "95                  [2691, 2692, 3866, 322, 4677, 4049, 3790, 4051, 11265, 4625, 6466, 725, 13422, 11264, 5898, 15278, 22728, 994, 3773, 11305]  \n",
       "96            [4237, 18573, 19002, 4259, 4241, 23359, 20657, 468, 4239, 3517, 8213, 16299, 4263, 4258, 4245, 23499, 25586, 28396, 19000, 20736]  \n",
       "97         [10785, 22710, 22717, 322, 18284, 4052, 3879, 22711, 21641, 22734, 22708, 22707, 5878, 719, 45025, 16692, 22723, 15250, 2975, 22715]  \n",
       "98                 [1641, 1163, 1645, 1153, 1637, 1166, 468, 1170, 1650, 18545, 1169, 4946, 1147, 18712, 9920, 7258, 18788, 11139, 66292, 1165]  \n",
       "99  [13068, 24483, 24422, 13071, 24654, 24597, 24592, 24588, 24632, 24577, 24549, 24477, 24607, 24649, 24603, 24479, 24572, 24600, 3814, 24553]  \n",
       "\n",
       "[100 rows x 2 columns]"
      ]
     },
     "execution_count": 54,
     "metadata": {},
     "output_type": "execute_result"
    }
   ],
   "source": [
    "pd.DataFrame(recommandation_lightGCN)"
   ]
  },
  {
   "cell_type": "code",
   "execution_count": 1,
   "metadata": {
    "id": "ruXLA2-xu7M7",
    "outputId": "17ff23a3-0267-4ee2-89d0-77513d277aef"
   },
   "outputs": [
    {
     "name": "stdout",
     "output_type": "stream",
     "text": [
      "LightGCN\n",
      "NDCG Score (Kaggle) : 0.27160\n"
     ]
    }
   ],
   "source": [
    "print(f\"LightGCN\")\n",
    "print(f\"NDCG Score (Kaggle) : 0.27160\")"
   ]
  },
  {
   "cell_type": "markdown",
   "metadata": {
    "id": "nNSEiYpBu7M7"
   },
   "source": [
    "## Algorithme Kaggle\n",
    "\n",
    "Presentez ici l'approche qui vous donne vos meilleurs resultats sur Kaggle. Si c'est l'une des approches precedente, indiquez laquelle."
   ]
  },
  {
   "cell_type": "markdown",
   "metadata": {
    "id": "y7i8t0eOu7M8"
   },
   "source": [
    "Pour la compétition Kaggle, nous avons décidé de combiner les forces de différents algorithmes présentés précédemment (PageRank personnalisé, filtrage collaboratif, approche contenu, etc.). Pour chaque article cible, nous appliquons la procédure suivante :\n",
    "\n",
    "- Nous utilisons d'abord un PageRank personnalisé pour extraire les 100 références les plus pertinentes. Cette approche nous permet d'identifier les nœuds les plus importants en fonction de leur connectivité à l’article cible.\n",
    "\n",
    "- Ensuite, nous éliminons toutes les références publiées après l’article cible. Ceci garantit le respect des contraintes temporelles (Par principe, un article ne peut pas citer un travail future). Parmi les références restantes, nous conservons les 20 plus pertinentes.\n",
    "\n",
    "- Enfin, nous réordonnons ces 20 références à l’aide de la similarité cosinus, en comparant leurs représentations vectorielles à celle de l’article cible."
   ]
  },
  {
   "cell_type": "code",
   "execution_count": 56,
   "metadata": {
    "id": "7bQDMLMnu7M8",
    "outputId": "33686d4c-8732-4293-ee3a-31984ecf3329"
   },
   "outputs": [
    {
     "name": "stderr",
     "output_type": "stream",
     "text": [
      "100it [02:05,  1.25s/it]\n"
     ]
    }
   ],
   "source": [
    "# PageRank personnalisé - Graphe non orienté\n",
    "G_undirected = nx.from_numpy_array(M, create_using=nx.Graph())\n",
    "\n",
    "test_idxs = (node_ids_test_csv['idx'] - 1).tolist()\n",
    "recommendation_prp_undirected_top100 = []\n",
    "\n",
    "for i, test_idx in tqdm(enumerate(test_idxs)):\n",
    "    neighbors_list =  list(G_undirected.neighbors(test_idx))\n",
    "\n",
    "    pagerank_scores = nx.pagerank(G_undirected,\n",
    "                                  personalization={node: 1/len(neighbors_list) if node in neighbors_list else 0 for node in G_undirected.nodes()})\n",
    "\n",
    "    pagerank_scores[test_idx] = 0\n",
    "\n",
    "    for item in pagerank_scores:\n",
    "        if item in neighbors_list:\n",
    "            pagerank_scores[item] = 0\n",
    "\n",
    "    sorted_pagerank = sorted(pagerank_scores.items(), key=lambda x: x[1], reverse=True)\n",
    "    sorted_articles_idx = [i[0] for i in sorted_pagerank][:100]\n",
    "\n",
    "    recommendation_prp_undirected_top100.append({'Article_id' : test_idx+1, 'Recommendations' : [i+1 for i in sorted_articles_idx]})"
   ]
  },
  {
   "cell_type": "code",
   "execution_count": 57,
   "metadata": {
    "id": "DmHNVZd3u7M9"
   },
   "outputs": [],
   "source": [
    "# Supprimer les références publiées après l'article cible\n",
    "recommendation_prp_undirected_y_excluded = []\n",
    "for item in recommendation_prp_undirected_top100:\n",
    "    test_year = articles_idx[articles_idx['n'] == item['Article_id']]['year'].values[0]\n",
    "    filtered_list = np.array([\n",
    "        j for j in item['Recommendations']\n",
    "        if articles_idx[articles_idx['n'] == j]['year'].values[0] <= test_year][:20])\n",
    "    recommendation_prp_undirected_y_excluded.append({'Article_id' : item['Article_id'], 'Recommendations' : filtered_list.tolist()})"
   ]
  },
  {
   "cell_type": "code",
   "execution_count": 58,
   "metadata": {
    "id": "0PRi95rPu7M-"
   },
   "outputs": [],
   "source": [
    "# Réordonner les 20 articles les plus pertinents en utilisant la similarité cosinus\n",
    "# Construire la matrice M_MT_sparse en ajoutant M_sparse et sa transposée MT_sparse\n",
    "M_sparse = csr_matrix(M)\n",
    "MT_sparse = M_sparse.copy().T\n",
    "M_MT_sparse = M_sparse + MT_sparse\n",
    "\n",
    "# Pour chaque article cible, calculer la similarité cosinus entre l'article et ses articles recommandés\n",
    "similarity_score = []\n",
    "recommendation_list = []\n",
    "for item in recommendation_prp_undirected_y_excluded:\n",
    "    recommendation_list.append(item['Recommendations'])\n",
    "    cos_sim = cosine_similarity(\n",
    "        M_MT_sparse[np.array([item['Article_id']-1])],\n",
    "        M_MT_sparse[np.array(item['Recommendations'])-1, :], dense_output=False).tolil()\n",
    "    similarity_score.append(cos_sim)\n",
    "\n",
    "recommendation_prp_undirected_y_excluded_rerank = []\n",
    "\n",
    "# Réordonner les articles en fonction des scores de similarité\n",
    "recommendation_prp_undirected_y_excluded_rerank = []\n",
    "\n",
    "for i,test_idx in enumerate(test_idxs):\n",
    "    sorted_similarity = np.argsort(similarity_score[i].toarray()[0])[::-1]\n",
    "    recommendation_prp_undirected_y_excluded_rerank.append({'Article_id': test_idx+1, 'Recommendations': [recommendation_list[i][j] for j in sorted_similarity]})"
   ]
  },
  {
   "cell_type": "code",
   "execution_count": 59,
   "metadata": {
    "id": "6eOuNM9Tu7M-",
    "outputId": "a0401130-8762-4412-f1ac-0c39cde26828"
   },
   "outputs": [
    {
     "data": {
      "text/html": [
       "<div>\n",
       "<style scoped>\n",
       "    .dataframe tbody tr th:only-of-type {\n",
       "        vertical-align: middle;\n",
       "    }\n",
       "\n",
       "    .dataframe tbody tr th {\n",
       "        vertical-align: top;\n",
       "    }\n",
       "\n",
       "    .dataframe thead th {\n",
       "        text-align: right;\n",
       "    }\n",
       "</style>\n",
       "<table border=\"1\" class=\"dataframe\">\n",
       "  <thead>\n",
       "    <tr style=\"text-align: right;\">\n",
       "      <th></th>\n",
       "      <th>Article_id</th>\n",
       "      <th>Recommendations</th>\n",
       "    </tr>\n",
       "  </thead>\n",
       "  <tbody>\n",
       "    <tr>\n",
       "      <th>0</th>\n",
       "      <td>34</td>\n",
       "      <td>[42, 41, 19062, 546, 98, 549, 3410, 53, 66, 147, 392, 142, 99, 51, 15, 214, 26, 391, 97, 130]</td>\n",
       "    </tr>\n",
       "    <tr>\n",
       "      <th>1</th>\n",
       "      <td>316</td>\n",
       "      <td>[307, 305, 317, 147, 2282, 21034, 2639, 4979, 318, 42404, 300, 404, 5266, 20813, 7829, 46, 11439, 142, 2895, 258]</td>\n",
       "    </tr>\n",
       "    <tr>\n",
       "      <th>2</th>\n",
       "      <td>469</td>\n",
       "      <td>[19786, 473, 4033, 4683, 6710, 417, 21277, 66, 435, 549, 99, 42, 804, 543, 391, 1028, 498, 3866, 105, 214]</td>\n",
       "    </tr>\n",
       "    <tr>\n",
       "      <th>3</th>\n",
       "      <td>687</td>\n",
       "      <td>[1219, 183, 670, 286, 772, 713, 222, 90, 59, 181, 742, 1176, 26, 117, 400, 759, 783, 1162, 74, 390]</td>\n",
       "    </tr>\n",
       "    <tr>\n",
       "      <th>4</th>\n",
       "      <td>738</td>\n",
       "      <td>[1105, 773, 6133, 5991, 939, 5955, 8711, 7058, 218, 1194, 5728, 6020, 26, 1107, 2305, 23634, 391, 3974, 66, 353]</td>\n",
       "    </tr>\n",
       "    <tr>\n",
       "      <th>...</th>\n",
       "      <td>...</td>\n",
       "      <td>...</td>\n",
       "    </tr>\n",
       "    <tr>\n",
       "      <th>95</th>\n",
       "      <td>17877</td>\n",
       "      <td>[66462, 46946, 22660, 1828, 40831, 11264, 46952, 13422, 6466, 725, 6402, 3783, 47380, 2692, 4677, 3790, 4053, 3866, 2691, 4049]</td>\n",
       "    </tr>\n",
       "    <tr>\n",
       "      <th>96</th>\n",
       "      <td>18168</td>\n",
       "      <td>[28396, 23359, 20278, 61945, 23278, 44112, 4241, 3517, 4239, 20239, 1644, 3638, 41276, 16785, 10518, 1152, 3521, 3371, 1240, 1519]</td>\n",
       "    </tr>\n",
       "    <tr>\n",
       "      <th>97</th>\n",
       "      <td>18295</td>\n",
       "      <td>[10785, 24252, 22707, 22710, 22711, 4052, 11324, 22699, 22708, 22715, 3879, 13125, 52066, 45025, 28327, 22717, 21641, 61745, 322, 15239]</td>\n",
       "    </tr>\n",
       "    <tr>\n",
       "      <th>98</th>\n",
       "      <td>18344</td>\n",
       "      <td>[1169, 7258, 1647, 1158, 1170, 1160, 1645, 1147, 18346, 1144, 18341, 1166, 1163, 1641, 1153, 1650, 1165, 46440, 1644, 1637]</td>\n",
       "    </tr>\n",
       "    <tr>\n",
       "      <th>99</th>\n",
       "      <td>18517</td>\n",
       "      <td>[24600, 24564, 24571, 24483, 24577, 24607, 24597, 24605, 24585, 24422, 24616, 24575, 24556, 24654, 24553, 13071, 24572, 24649, 13068, 672]</td>\n",
       "    </tr>\n",
       "  </tbody>\n",
       "</table>\n",
       "<p>100 rows × 2 columns</p>\n",
       "</div>"
      ],
      "text/plain": [
       "    Article_id  \\\n",
       "0           34   \n",
       "1          316   \n",
       "2          469   \n",
       "3          687   \n",
       "4          738   \n",
       "..         ...   \n",
       "95       17877   \n",
       "96       18168   \n",
       "97       18295   \n",
       "98       18344   \n",
       "99       18517   \n",
       "\n",
       "                                                                                                                               Recommendations  \n",
       "0                                                [42, 41, 19062, 546, 98, 549, 3410, 53, 66, 147, 392, 142, 99, 51, 15, 214, 26, 391, 97, 130]  \n",
       "1                            [307, 305, 317, 147, 2282, 21034, 2639, 4979, 318, 42404, 300, 404, 5266, 20813, 7829, 46, 11439, 142, 2895, 258]  \n",
       "2                                   [19786, 473, 4033, 4683, 6710, 417, 21277, 66, 435, 549, 99, 42, 804, 543, 391, 1028, 498, 3866, 105, 214]  \n",
       "3                                          [1219, 183, 670, 286, 772, 713, 222, 90, 59, 181, 742, 1176, 26, 117, 400, 759, 783, 1162, 74, 390]  \n",
       "4                             [1105, 773, 6133, 5991, 939, 5955, 8711, 7058, 218, 1194, 5728, 6020, 26, 1107, 2305, 23634, 391, 3974, 66, 353]  \n",
       "..                                                                                                                                         ...  \n",
       "95             [66462, 46946, 22660, 1828, 40831, 11264, 46952, 13422, 6466, 725, 6402, 3783, 47380, 2692, 4677, 3790, 4053, 3866, 2691, 4049]  \n",
       "96          [28396, 23359, 20278, 61945, 23278, 44112, 4241, 3517, 4239, 20239, 1644, 3638, 41276, 16785, 10518, 1152, 3521, 3371, 1240, 1519]  \n",
       "97    [10785, 24252, 22707, 22710, 22711, 4052, 11324, 22699, 22708, 22715, 3879, 13125, 52066, 45025, 28327, 22717, 21641, 61745, 322, 15239]  \n",
       "98                 [1169, 7258, 1647, 1158, 1170, 1160, 1645, 1147, 18346, 1144, 18341, 1166, 1163, 1641, 1153, 1650, 1165, 46440, 1644, 1637]  \n",
       "99  [24600, 24564, 24571, 24483, 24577, 24607, 24597, 24605, 24585, 24422, 24616, 24575, 24556, 24654, 24553, 13071, 24572, 24649, 13068, 672]  \n",
       "\n",
       "[100 rows x 2 columns]"
      ]
     },
     "execution_count": 59,
     "metadata": {},
     "output_type": "execute_result"
    }
   ],
   "source": [
    "pd.DataFrame(recommendation_prp_undirected_y_excluded_rerank)"
   ]
  },
  {
   "cell_type": "code",
   "execution_count": 60,
   "metadata": {
    "id": "FW-TRMxCu7M_"
   },
   "outputs": [],
   "source": [
    "import csv\n",
    "with open('recommandations.csv', mode='w', newline='') as file:\n",
    "    writer = csv.writer(file)\n",
    "    writer.writerow(['id','recommandations'])\n",
    "\n",
    "    for item in recommendation_prp_undirected_y_excluded_rerank:\n",
    "        test_id = node_ids_csv[node_ids_csv['n'] == item['Article_id']]['id'].values[0]\n",
    "        recmmendations_ids = [node_ids_csv[node_ids_csv['n'] == i]['id'].values[0] for i in item['Recommendations']]\n",
    "        recommendations_str = \" \".join(map(str, recmmendations_ids))\n",
    "        writer.writerow([test_id, recommendations_str])"
   ]
  },
  {
   "cell_type": "code",
   "execution_count": 61,
   "metadata": {
    "id": "7FHvnb0du7M_",
    "outputId": "e573cfce-fcbd-4cec-ab35-6f5e62974423"
   },
   "outputs": [
    {
     "name": "stdout",
     "output_type": "stream",
     "text": [
      "Kaggle\n",
      "NDCG Score (Kaggle) : 0.34866\n"
     ]
    }
   ],
   "source": [
    "print(f\"Kaggle\")\n",
    "print(f\"NDCG Score (Kaggle) : 0.34866\")"
   ]
  },
  {
   "cell_type": "markdown",
   "metadata": {
    "id": "A1NTw7IEu7NA"
   },
   "source": [
    "## Conclusion"
   ]
  },
  {
   "cell_type": "markdown",
   "metadata": {
    "id": "-cONOeZYu7NA"
   },
   "source": [
    "### Comparaison des performances (sur les vraies données de test - Kaggle)"
   ]
  },
  {
   "cell_type": "code",
   "execution_count": 2,
   "metadata": {},
   "outputs": [
    {
     "data": {
      "image/png": "[encoded data removed]",
      "text/plain": [
       "<Figure size 1000x500 with 1 Axes>"
      ]
     },
     "metadata": {},
     "output_type": "display_data"
    }
   ],
   "source": [
    "fig, ax = plt.subplots(figsize=(10, 5))\n",
    "ndcg_score = [0.00260, 0.14807, 0.32912, 0.12201, 0.19541, 0.16397, 0.18643, 0.27160, 0.34886]\n",
    "\n",
    "ax.plot(range(len(ndcg_score)), ndcg_score, marker='.', color='blue', linestyle=':', label=\"NDCG Score\")\n",
    "ax.set_ylabel('NDCG Score')\n",
    "ax.set_title('Analyse comparatives des resultats')\n",
    "ax.set_xticks(range(len(ndcg_score)))\n",
    "ax.set_xticklabels([label.replace('_', '\\n') for label in ['PR_base', 'PRP_directed', 'PRP_undirected',\n",
    "                                                         'FC', 'FC_links',\n",
    "                                                         'Semantic_directed', 'Semantic_undirected',\n",
    "                                                         'LightGCN',\n",
    "                                                         'Kaggle']])\n",
    "\n",
    "ax.grid(True, axis='y', linestyle='--', color='gray', alpha=0.5)\n",
    "ax.legend()\n",
    "plt.tight_layout()\n",
    "plt.show()"
   ]
  },
  {
   "cell_type": "markdown",
   "metadata": {
    "id": "jLDnkkXeu7NB"
   },
   "source": [
    "- L'approche Kaggle surpasse nettement les autres méthodes, grâce à une combinaison des forces de différents algorithmes.\n",
    "\n",
    "- PRP_undirected montre qu'une version non dirigée du PageRank personnalisé capture mieux les relations implicites dans un graphe de citations. Au contraire, PRP_directed offre des performances moins désirables (0.32912 vs 0.14807).\n",
    "\n",
    "- LightGCN offre des performances honorables pour un modèle entraîné, bien qu'il se limite à l'agrégation des informations des voisins directs (jusqu’à 3 sauts).\n",
    "\n",
    "- Semantic_undirected et Semantic_directed : L'approche contenu avec augmentation sémantique offre des performances acceptables, bien que ça soit un peu inférieur au filtrage collaboratif (avec l'intégration de liens supplémentaires).\n",
    "\n",
    "- FC et FC_links : Le filtrage collaboratif basé sur la similarité cosinus offre des performances acceptables également. Toutefois, FC_links obtient de meilleurs résultats grâce à l'intégration de liens supplémentaires.\n",
    "\n",
    "- PR_base n’arrive pas à capturer les relations implicites entre les articles, ce qui confirme la nécessité d’un PageRank personnalisé."
   ]
  },
  {
   "cell_type": "markdown",
   "metadata": {},
   "source": [
    "### Comparaison des performances (sur les données échantillonnées)"
   ]
  },
  {
   "cell_type": "markdown",
   "metadata": {},
   "source": [
    "Pour comparer les trois premières méthodes de manière locale, nous avons calculé la précision sur un sous-ensemble d’articles sélectionné précédemment (différent du jeu de test). Les références, ou ground truth, sont constituées des successeurs de chaque nœud dans ce sous-ensemble, tandis que les prédictions correspondent aux recommandations retournées par chaque méthode.\n",
    "Des ajustements ont été apportés aux méthodes pour permettre cette évaluation locale, notamment en n’excluant pas les successeurs des prédictions, contrairement à ce qui avait été fait pour les évaluations finales. Les résultats obtenus sont les suivants :\n",
    "* L’algorithme PageRank personnalisé appliqué sur le graphe non orienté affiche une bonne précision de 0.4025, surpassant les trois autres méthodes.\n",
    "* Le filtrage collaboratif utilisant une matrice enrichie atteint une précision de 0.135 relativement acceptable.\n",
    "* L’approche contenu avec augmentation sémantique, par contre, obtient des résultats très faibles sur ces données locales, avec une précision de 0.0055 pour la version orientée du graphe, et 0.0045 pour la version non orientée. Bien que la précision soit relativement faible, le score NDCG obtenu reste acceptable, ce qui indique que cette approche classe correctement les meilleurs résultats en tête de liste. Cela pourrait s’expliquer par les ajustements appliqués dans le cadre de cette évaluation locale. De plus, certains nœuds du sous-ensemble, comme le nœud 43030 (ou 43029 dans le graphe), ne possèdent aucun successeur, ce qui impacte négativement les résultats.\n",
    "\n",
    "Concernant LightGCN, son évaluation locale diffère légèrement, puisqu’il s’agit d’un modèle entraîné, contrairement aux approches précédentes. Sa performance a été mesurée à l’aide de l’ensemble de test mis de côté lors de la séparation des données en entraînement et test. En fin d’entraînement, le modèle atteint un rappel de 0.37, ce qui représente une performance très satisfaisante."
   ]
  },
  {
   "cell_type": "markdown",
   "metadata": {
    "id": "d85aP0czu7NC"
   },
   "source": [
    "### Discussion (Forces)"
   ]
  },
  {
   "cell_type": "markdown",
   "metadata": {
    "id": "6Wk_aLJ6u7NC"
   },
   "source": [
    "- Le PageRank personnalisé permet, via le vecteur d'atténuation, d'apporter plus d'attention sur les articles plus pertinents pour l'article cible. Ceci permet d'augmenter la probabilité d'attérir sur les articles référencés.\n",
    "- L'approche collaborative est capables d'identifier deux articles ayant des références communes comme étant similaires même en l'absence de citations directes entre eux. De plus, Elle est relativement simple à mettre en place et le temps d'exécution est court.\n",
    "- L'approche contenu avec augmentation sémantique prend en considération le contexte. Elle se base sur la compréhension du sens des titres des articles plutôt que sur une comparaison de mots-clés. De plus, la partie contenu permet d'exploiter l'attribut 'Année de publication' pour un filtrage plus fin. Finalement, elle est adaptable et facile à implémenter.\n",
    "- LightGCN est une approche modèle. Il est plus léger que les GCN traditionnels en raison de suppression de la non-linéarité. De plus, il est capable de cpaturer des relations plus complexes en intégrant les informations des noeuds connectés et de leurs successeurs."
   ]
  },
  {
   "cell_type": "markdown",
   "metadata": {
    "id": "nr_6lTiDD0tj"
   },
   "source": [
    "### Discussion (Faiblesses)"
   ]
  },
  {
   "cell_type": "markdown",
   "metadata": {
    "id": "kqP3z208D7uM"
   },
   "source": [
    "- Le PageRank favorise parfois les articles populaires. Cela peut conduire à une recommandation biaisée en faveur d'articles cités plus fréquemment.\n",
    "- Lorsque la matrice d'ajacence est creuse, il devient difficle de trouver des articles similaires en utilisant l'approche collaborative. Ceci dégrage la qualité des articles recommandés.\n",
    "- Pour l'approche contenu, l'augmentation sémantique toute seule ne donne pas de très bon résultats. Elle retourne des articles ayant des titres sémantiquement similaires mais pas nécessairement des citations. Le filtrage des articles similaires est nécessaire pour obtenir de bons résultats.\n",
    "- Comparé aux méthodes précédentes, LightGCN est coûteux en ressources. Il est plus difficile à implémenter. De plus, il se concentre principalement sur l'agrégation d'informations locales (jusqu’à 3 sauts), ce qui peut entraîner des difficultés pour capturer des relations à longue portée."
   ]
  },
  {
   "cell_type": "markdown",
   "metadata": {
    "id": "_w97ri8Cu7NC"
   },
   "source": [
    "### Difficultés"
   ]
  },
  {
   "cell_type": "markdown",
   "metadata": {
    "id": "fdTM8T7Mu7NC"
   },
   "source": [
    "- Les articles de notre base de données couvrent des thématiques très similaires, telles que l'apprentissage machine, les systèmes distribués, etc. Par exemple, deux articles dans le domaine de l'apprentissage machine peuvent avoir des titres similaires (contenant par exemple \"model\" ou \"neural\"), mais leurs sous-thèmes peuvent être très différents (par exemple, NLP vs. clustering), ce qui fait que les articles qu'ils référencent peuvent être totalement distincts.\n",
    "- Nous avons tenté d'utiliser les résumés des articles pour améliorer la précision de notre approche, mais après investigation, nous avons constaté que ces résumés sont indisponibles pour de nombreux articles.\n",
    "- Échantillonnage négatif pour LightGCN : L'échantillonnage négatif est utilisé pour générer des exemples négatifs pour l'entraînement du modèle. Le nombre élevé d'articles dans le graphe ralentit le processus d'échantillonnage négatif. Ainsi, un sous-ensemble d'articles est présélectionné toutes les 5 époques pour effectuer cet échantillonnage.\n",
    "- Nous avons pensé à intégrer les auteurs pour enrichir le graphe de citations mais nous avons été contraint pas le grand nombre d'auteurs disponibles dans la base de données. Nous avions également des doutes sur la méthode appropriée pour exploiter correctement le nouveau graphe hétérogène."
   ]
  }
 ],
 "metadata": {
  "colab": {
   "provenance": []
  },
  "kernelspec": {
   "display_name": "Python 3 (ipykernel)",
   "language": "python",
   "name": "python3"
  },
  "language_info": {
   "codemirror_mode": {
    "name": "ipython",
    "version": 3
   },
   "file_extension": ".py",
   "mimetype": "text/x-python",
   "name": "python",
   "nbconvert_exporter": "python",
   "pygments_lexer": "ipython3",
   "version": "3.12.7"
  }
 },
 "nbformat": 4,
 "nbformat_minor": 4
}
